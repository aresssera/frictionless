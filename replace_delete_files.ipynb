{
  "cells": [
    {
      "cell_type": "code",
      "source": [
        "import smtplib\n",
        "from email.mime.text import MIMEText\n",
        "from email.mime.multipart import MIMEMultipart\n",
        "from getpass import getpass"
      ],
      "metadata": {
        "id": "65Qr9ip3uvh4"
      },
      "id": "65Qr9ip3uvh4",
      "execution_count": 18,
      "outputs": []
    },
    {
      "cell_type": "code",
      "source": [
        "# email account details\n",
        "sender_email = 'stojanovic.jana@outlook.com'\n",
        "\n",
        "receiver_email = ['ambrogio.foletti@bfe.admin.ch', 'jana.stojanovic@bfe.admin.ch']\n",
        "subject = 'Test Email'\n",
        "body = 'Test sending an email from Python using Outlook.'"
      ],
      "metadata": {
        "id": "78IbREypX15g"
      },
      "id": "78IbREypX15g",
      "execution_count": 19,
      "outputs": []
    },
    {
      "cell_type": "code",
      "source": [
        "# create message object\n",
        "message = MIMEMultipart()\n",
        "message['From'] = sender_email\n",
        "message['To'] = ', '.join(receiver_email)\n",
        "message['Subject'] = subject\n",
        "\n",
        "# attach body to message\n",
        "message.attach(MIMEText(body, 'plain'))"
      ],
      "metadata": {
        "id": "XaeNWTCmX5Md"
      },
      "id": "XaeNWTCmX5Md",
      "execution_count": 20,
      "outputs": []
    },
    {
      "cell_type": "code",
      "source": [
        "# connect to Outlook's SMTP server\n",
        "smtp_server = 'smtp.office365.com'\n",
        "smtp_port = 587"
      ],
      "metadata": {
        "id": "5wcJXjsPYijd"
      },
      "id": "5wcJXjsPYijd",
      "execution_count": 21,
      "outputs": []
    },
    {
      "cell_type": "code",
      "source": [
        "try:\n",
        "  with smtplib.SMTP(smtp_server, smtp_port) as server:\n",
        "    # secure SSL/TLS connection\n",
        "    server.starttls()\n",
        "    server.login(sender_email, getpass('Enter password please: '))\n",
        "    server.sendmail(sender_email, receiver_email, message.as_string())\n",
        "except Exception as e:\n",
        "  print(\"Error sending e-mail: \", exec)"
      ],
      "metadata": {
        "colab": {
          "base_uri": "https://localhost:8080/"
        },
        "id": "ssJvbDMwYn3y",
        "outputId": "ddf4f56f-ffb3-4987-f890-42383b6bb288"
      },
      "id": "ssJvbDMwYn3y",
      "execution_count": 22,
      "outputs": [
        {
          "name": "stdout",
          "output_type": "stream",
          "text": [
            "Enter password please: ··········\n"
          ]
        }
      ]
    },
    {
      "cell_type": "code",
      "source": [],
      "metadata": {
        "id": "2-T5Y09EZm6O"
      },
      "id": "2-T5Y09EZm6O",
      "execution_count": null,
      "outputs": []
    }
  ],
  "metadata": {
    "kernelspec": {
      "display_name": "Python 3 (ipykernel)",
      "language": "python",
      "name": "python3"
    },
    "language_info": {
      "codemirror_mode": {
        "name": "ipython",
        "version": 3
      },
      "file_extension": ".py",
      "mimetype": "text/x-python",
      "name": "python",
      "nbconvert_exporter": "python",
      "pygments_lexer": "ipython3",
      "version": "3.8.10"
    },
    "colab": {
      "provenance": []
    }
  },
  "nbformat": 4,
  "nbformat_minor": 5
}
