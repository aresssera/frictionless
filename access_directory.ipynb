{
  "cells": [
    {
      "cell_type": "code",
      "source": [
        "import requests     # 2.18.4\n",
        "import json         # 2.0.9\n",
        "import pandas as pd # 0.23.0\n",
        "import numpy as np\n",
        "import time"
      ],
      "metadata": {
        "id": "65Qr9ip3uvh4"
      },
      "id": "65Qr9ip3uvh4",
      "execution_count": 4,
      "outputs": []
    },
    {
      "cell_type": "code",
      "source": [
        "! pip install urlextract"
      ],
      "metadata": {
        "id": "9d6H9qVO3tjg",
        "outputId": "e111c4a9-af8c-4380-923f-f993e1ceedff",
        "colab": {
          "base_uri": "https://localhost:8080/"
        }
      },
      "id": "9d6H9qVO3tjg",
      "execution_count": 5,
      "outputs": [
        {
          "output_type": "stream",
          "name": "stdout",
          "text": [
            "Looking in indexes: https://pypi.org/simple, https://us-python.pkg.dev/colab-wheels/public/simple/\n",
            "Collecting urlextract\n",
            "  Downloading urlextract-1.8.0-py3-none-any.whl (21 kB)\n",
            "Requirement already satisfied: idna in /usr/local/lib/python3.10/dist-packages (from urlextract) (3.4)\n",
            "Collecting uritools (from urlextract)\n",
            "  Downloading uritools-4.0.1-py3-none-any.whl (10 kB)\n",
            "Requirement already satisfied: platformdirs in /usr/local/lib/python3.10/dist-packages (from urlextract) (3.3.0)\n",
            "Requirement already satisfied: filelock in /usr/local/lib/python3.10/dist-packages (from urlextract) (3.12.0)\n",
            "Installing collected packages: uritools, urlextract\n",
            "Successfully installed uritools-4.0.1 urlextract-1.8.0\n"
          ]
        }
      ]
    },
    {
      "cell_type": "code",
      "source": [
        "from urlextract import URLExtract as extract\n",
        "extractor = extract()"
      ],
      "metadata": {
        "id": "k7Ofe2RX3t62"
      },
      "id": "k7Ofe2RX3t62",
      "execution_count": 6,
      "outputs": []
    },
    {
      "cell_type": "code",
      "source": [
        "import pandas as pd\n",
        "import re\n",
        "from urllib.request import Request, urlopen, urlretrieve\n",
        "from bs4 import BeautifulSoup\n",
        "\n",
        "url = 'https://www.uvek-gis.admin.ch/BFE/ogd/staging/'\n",
        "\n",
        "def extract_id(fileName):\n",
        "    ogd_id = fileName.partition('_')[0]\n",
        "    return ogd_id.replace('ogd', '')\n",
        "\n",
        "\n",
        "def getInformation(url):\n",
        "\n",
        "  csvList = []\n",
        "  url = url.replace(\" \",\"%20\")\n",
        "  req = Request(url)\n",
        "  a = urlopen(req).read()\n",
        "  soup = BeautifulSoup(a, 'html.parser')\n",
        "  x = (soup.find_all('a'))\n",
        "\n",
        "  for elem in x:\n",
        "    stringElem = str(elem)\n",
        "\n",
        "    if 'csv' in stringElem:\n",
        "      fileName = re.search('href=\"(.*)\"', stringElem).group(1)\n",
        "      csvList.append([fileName, extract_id(fileName)])\n",
        "\n",
        "  df = pd.DataFrame(csvList, columns= ['fileName', 'ogd_id'])\n",
        "  print(df)\n",
        "  #df.to_csv('files/info.csv')\n",
        "\n",
        "getInformation(url)"
      ],
      "metadata": {
        "id": "qY0auw0JLXyA",
        "outputId": "31b425b4-4d78-45e9-db7f-4339b65377b2",
        "colab": {
          "base_uri": "https://localhost:8080/"
        }
      },
      "id": "qY0auw0JLXyA",
      "execution_count": 50,
      "outputs": [
        {
          "output_type": "stream",
          "name": "stdout",
          "text": [
            "                                            fileName ogd_id\n",
            "0  ogd35_schweizerische_elektrizitaetsbilanz_mona...     35\n",
            "1                                     ogd39_epec.csv     39\n",
            "2                     ogd47_vollzugsresultate_pw.csv     47\n",
            "3                    ogd61_vollzugsresultate_lnf.csv     61\n",
            "4           ogd90_potenzialstudien_waermenutzung.csv     90\n"
          ]
        }
      ]
    },
    {
      "cell_type": "code",
      "source": [],
      "metadata": {
        "id": "zAz1Rlzhy2_h"
      },
      "id": "zAz1Rlzhy2_h",
      "execution_count": null,
      "outputs": []
    }
  ],
  "metadata": {
    "kernelspec": {
      "display_name": "Python 3 (ipykernel)",
      "language": "python",
      "name": "python3"
    },
    "language_info": {
      "codemirror_mode": {
        "name": "ipython",
        "version": 3
      },
      "file_extension": ".py",
      "mimetype": "text/x-python",
      "name": "python",
      "nbconvert_exporter": "python",
      "pygments_lexer": "ipython3",
      "version": "3.8.10"
    },
    "colab": {
      "provenance": []
    }
  },
  "nbformat": 4,
  "nbformat_minor": 5
}