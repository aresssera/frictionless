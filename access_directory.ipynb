{
  "cells": [
    {
      "cell_type": "code",
      "source": [
        "import requests     # 2.18.4\n",
        "import json         # 2.0.9\n",
        "import pandas as pd # 0.23.0\n",
        "import numpy as np\n",
        "import time\n",
        "from getpass import getpass\n",
        "from ftplib import FTP_TLS\n",
        "from ftplib import FTP\n",
        "import ftplib"
      ],
      "metadata": {
        "id": "65Qr9ip3uvh4"
      },
      "id": "65Qr9ip3uvh4",
      "execution_count": 30,
      "outputs": []
    },
  "nbformat": 4,
  "nbformat_minor": 5
}
