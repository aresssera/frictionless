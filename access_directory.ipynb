{
  "cells": [
    {
      "cell_type": "code",
      "source": [
        "import requests     # 2.18.4\n",
        "import json         # 2.0.9\n",
        "import pandas as pd # 0.23.0\n",
        "import numpy as np\n",
        "import time"
      ],
      "metadata": {
        "id": "65Qr9ip3uvh4"
      },
      "id": "65Qr9ip3uvh4",
      "execution_count": 5,
      "outputs": []
    },
    {
      "cell_type": "code",
      "source": [
        "response = requests.get('https://www.uvek-gis.admin.ch/BFE/ogd/staging/data-models-bev_LNF.csv')\n",
        "response.status_code"
      ],
      "metadata": {
        "id": "DJTYwgtnekt0",
        "outputId": "bae9d977-fc59-459a-9714-fcae5c0b7e3f",
        "colab": {
          "base_uri": "https://localhost:8080/"
        }
      },
      "id": "DJTYwgtnekt0",
      "execution_count": 10,
      "outputs": [
        {
          "output_type": "execute_result",
          "data": {
            "text/plain": [
              "200"
            ]
          },
          "metadata": {},
          "execution_count": 10
        }
      ]
    },
    {
      "cell_type": "code",
      "source": [
        "from os import listdir\n",
        "from os.path import isfile, join\n",
        "mypath = 'https://www.uvek-gis.admin.ch/BFE/ogd/staging/'\n",
        "onlyfiles = [f for f in listdir(mypath) if isfile(join(mypath, f))]"
      ],
      "metadata": {
        "id": "4x_PJeTeDm_G",
        "outputId": "bf459453-1aaa-46ea-aae2-be71d70250a4",
        "colab": {
          "base_uri": "https://localhost:8080/",
          "height": 201
        }
      },
      "id": "4x_PJeTeDm_G",
      "execution_count": 11,
      "outputs": [
        {
          "output_type": "error",
          "ename": "FileNotFoundError",
          "evalue": "ignored",
          "traceback": [
            "\u001b[0;31m---------------------------------------------------------------------------\u001b[0m",
            "\u001b[0;31mFileNotFoundError\u001b[0m                         Traceback (most recent call last)",
            "\u001b[0;32m<ipython-input-11-cf4a9e80750e>\u001b[0m in \u001b[0;36m<cell line: 4>\u001b[0;34m()\u001b[0m\n\u001b[1;32m      2\u001b[0m \u001b[0;32mfrom\u001b[0m \u001b[0mos\u001b[0m\u001b[0;34m.\u001b[0m\u001b[0mpath\u001b[0m \u001b[0;32mimport\u001b[0m \u001b[0misfile\u001b[0m\u001b[0;34m,\u001b[0m \u001b[0mjoin\u001b[0m\u001b[0;34m\u001b[0m\u001b[0;34m\u001b[0m\u001b[0m\n\u001b[1;32m      3\u001b[0m \u001b[0mmypath\u001b[0m \u001b[0;34m=\u001b[0m \u001b[0;34m'https://www.uvek-gis.admin.ch/BFE/ogd/staging/'\u001b[0m\u001b[0;34m\u001b[0m\u001b[0;34m\u001b[0m\u001b[0m\n\u001b[0;32m----> 4\u001b[0;31m \u001b[0monlyfiles\u001b[0m \u001b[0;34m=\u001b[0m \u001b[0;34m[\u001b[0m\u001b[0mf\u001b[0m \u001b[0;32mfor\u001b[0m \u001b[0mf\u001b[0m \u001b[0;32min\u001b[0m \u001b[0mlistdir\u001b[0m\u001b[0;34m(\u001b[0m\u001b[0mmypath\u001b[0m\u001b[0;34m)\u001b[0m \u001b[0;32mif\u001b[0m \u001b[0misfile\u001b[0m\u001b[0;34m(\u001b[0m\u001b[0mjoin\u001b[0m\u001b[0;34m(\u001b[0m\u001b[0mmypath\u001b[0m\u001b[0;34m,\u001b[0m \u001b[0mf\u001b[0m\u001b[0;34m)\u001b[0m\u001b[0;34m)\u001b[0m\u001b[0;34m]\u001b[0m\u001b[0;34m\u001b[0m\u001b[0;34m\u001b[0m\u001b[0m\n\u001b[0m",
            "\u001b[0;31mFileNotFoundError\u001b[0m: [Errno 2] No such file or directory: 'https://www.uvek-gis.admin.ch/BFE/ogd/staging/'"
          ]
        }
      ]
    },
    {
      "cell_type": "code",
      "source": [
        "data-models-bev_LNF.csv"
      ],
      "metadata": {
        "id": "zLRPTXX0j-Y5"
      },
      "id": "zLRPTXX0j-Y5",
      "execution_count": null,
      "outputs": []
    },
    {
      "cell_type": "code",
      "source": [
        "import os, glob\n",
        "path = 'https://www.uvek-gis.admin.ch/BFE/ogd/staging/'\n",
        "for filename in glob.glob(os.path.join(path, '*.csv')):\n",
        "   with open(os.path.join(os.getcwd(), filename), 'r') as f: # open in readonly mode\n",
        "    print(filename)"
      ],
      "metadata": {
        "id": "H1-lq1bUj1EY"
      },
      "id": "H1-lq1bUj1EY",
      "execution_count": 20,
      "outputs": []
    },
    {
      "cell_type": "code",
      "source": [
        "import os\n",
        "filenames = os.listdir('https://www.uvek-gis.admin.ch/BFE/ogd/staging/')\n",
        "logFile = open('filenames.txt')\n",
        "for name in filenames:\n",
        "    logFile.write(filename)\n",
        "logFile.close()"
      ],
      "metadata": {
        "id": "EEIS670Aka53",
        "outputId": "36eab1e4-446a-478d-c848-44c929967199",
        "colab": {
          "base_uri": "https://localhost:8080/",
          "height": 236
        }
      },
      "id": "EEIS670Aka53",
      "execution_count": 21,
      "outputs": [
        {
          "output_type": "error",
          "ename": "FileNotFoundError",
          "evalue": "ignored",
          "traceback": [
            "\u001b[0;31m---------------------------------------------------------------------------\u001b[0m",
            "\u001b[0;31mFileNotFoundError\u001b[0m                         Traceback (most recent call last)",
            "\u001b[0;32m<ipython-input-21-35685985d41f>\u001b[0m in \u001b[0;36m<cell line: 2>\u001b[0;34m()\u001b[0m\n\u001b[1;32m      1\u001b[0m \u001b[0;32mimport\u001b[0m \u001b[0mos\u001b[0m\u001b[0;34m\u001b[0m\u001b[0;34m\u001b[0m\u001b[0m\n\u001b[0;32m----> 2\u001b[0;31m \u001b[0mfilenames\u001b[0m \u001b[0;34m=\u001b[0m \u001b[0mos\u001b[0m\u001b[0;34m.\u001b[0m\u001b[0mlistdir\u001b[0m\u001b[0;34m(\u001b[0m\u001b[0;34m'https://www.uvek-gis.admin.ch/BFE/ogd/staging/'\u001b[0m\u001b[0;34m)\u001b[0m\u001b[0;34m\u001b[0m\u001b[0;34m\u001b[0m\u001b[0m\n\u001b[0m\u001b[1;32m      3\u001b[0m \u001b[0mlogFile\u001b[0m \u001b[0;34m=\u001b[0m \u001b[0mopen\u001b[0m\u001b[0;34m(\u001b[0m\u001b[0;34m'filenames.txt'\u001b[0m\u001b[0;34m)\u001b[0m\u001b[0;34m\u001b[0m\u001b[0;34m\u001b[0m\u001b[0m\n\u001b[1;32m      4\u001b[0m \u001b[0;32mfor\u001b[0m \u001b[0mname\u001b[0m \u001b[0;32min\u001b[0m \u001b[0mfilenames\u001b[0m\u001b[0;34m:\u001b[0m\u001b[0;34m\u001b[0m\u001b[0;34m\u001b[0m\u001b[0m\n\u001b[1;32m      5\u001b[0m     \u001b[0mlogFile\u001b[0m\u001b[0;34m.\u001b[0m\u001b[0mwrite\u001b[0m\u001b[0;34m(\u001b[0m\u001b[0mfilename\u001b[0m\u001b[0;34m)\u001b[0m\u001b[0;34m\u001b[0m\u001b[0;34m\u001b[0m\u001b[0m\n",
            "\u001b[0;31mFileNotFoundError\u001b[0m: [Errno 2] No such file or directory: 'https://www.uvek-gis.admin.ch/BFE/ogd/staging/'"
          ]
        }
      ]
    },
    {
      "cell_type": "code",
      "source": [
        "for  name in os.listdir('https://www.uvek-gis.admin.ch/BFE/ogd/staging/'):\n",
        "    if os.path.isfile(name): \n",
        "      print('file: ', name)\n",
        "    elif os.path.isdir(name): \n",
        "      print( 'dir: ', name)\n",
        "    elif os.path.islink(name): \n",
        "      print( 'link: ', name)\n",
        "    else: \n",
        "      print( 'unknown', name)"
      ],
      "metadata": {
        "id": "rfjOgnZsmOl0",
        "outputId": "6bd920d1-fcfd-4def-91c0-38fe782d2275",
        "colab": {
          "base_uri": "https://localhost:8080/",
          "height": 236
        }
      },
      "id": "rfjOgnZsmOl0",
      "execution_count": 23,
      "outputs": [
        {
          "output_type": "error",
          "ename": "FileNotFoundError",
          "evalue": "ignored",
          "traceback": [
            "\u001b[0;31m---------------------------------------------------------------------------\u001b[0m",
            "\u001b[0;31mFileNotFoundError\u001b[0m                         Traceback (most recent call last)",
            "\u001b[0;32m<ipython-input-23-f17e8282ff9c>\u001b[0m in \u001b[0;36m<cell line: 1>\u001b[0;34m()\u001b[0m\n\u001b[0;32m----> 1\u001b[0;31m \u001b[0;32mfor\u001b[0m  \u001b[0mname\u001b[0m \u001b[0;32min\u001b[0m \u001b[0mos\u001b[0m\u001b[0;34m.\u001b[0m\u001b[0mlistdir\u001b[0m\u001b[0;34m(\u001b[0m\u001b[0;34m'https://www.uvek-gis.admin.ch/BFE/ogd/staging/'\u001b[0m\u001b[0;34m)\u001b[0m\u001b[0;34m:\u001b[0m\u001b[0;34m\u001b[0m\u001b[0;34m\u001b[0m\u001b[0m\n\u001b[0m\u001b[1;32m      2\u001b[0m     \u001b[0;32mif\u001b[0m \u001b[0mos\u001b[0m\u001b[0;34m.\u001b[0m\u001b[0mpath\u001b[0m\u001b[0;34m.\u001b[0m\u001b[0misfile\u001b[0m\u001b[0;34m(\u001b[0m\u001b[0mname\u001b[0m\u001b[0;34m)\u001b[0m\u001b[0;34m:\u001b[0m\u001b[0;34m\u001b[0m\u001b[0;34m\u001b[0m\u001b[0m\n\u001b[1;32m      3\u001b[0m       \u001b[0mprint\u001b[0m\u001b[0;34m(\u001b[0m\u001b[0;34m'file: '\u001b[0m\u001b[0;34m,\u001b[0m \u001b[0mname\u001b[0m\u001b[0;34m)\u001b[0m\u001b[0;34m\u001b[0m\u001b[0;34m\u001b[0m\u001b[0m\n\u001b[1;32m      4\u001b[0m     \u001b[0;32melif\u001b[0m \u001b[0mos\u001b[0m\u001b[0;34m.\u001b[0m\u001b[0mpath\u001b[0m\u001b[0;34m.\u001b[0m\u001b[0misdir\u001b[0m\u001b[0;34m(\u001b[0m\u001b[0mname\u001b[0m\u001b[0;34m)\u001b[0m\u001b[0;34m:\u001b[0m\u001b[0;34m\u001b[0m\u001b[0;34m\u001b[0m\u001b[0m\n\u001b[1;32m      5\u001b[0m       \u001b[0mprint\u001b[0m\u001b[0;34m(\u001b[0m \u001b[0;34m'dir: '\u001b[0m\u001b[0;34m,\u001b[0m \u001b[0mname\u001b[0m\u001b[0;34m)\u001b[0m\u001b[0;34m\u001b[0m\u001b[0;34m\u001b[0m\u001b[0m\n",
            "\u001b[0;31mFileNotFoundError\u001b[0m: [Errno 2] No such file or directory: 'https://www.uvek-gis.admin.ch/BFE/ogd/staging/'"
          ]
        }
      ]
    },
    {
      "cell_type": "code",
      "source": [
        "from bs4 import BeautifulSoup\n",
        "import requests\n",
        "\n",
        "url = 'https://www.uvek-gis.admin.ch/BFE/ogd/staging/'\n",
        "#ext = 'iso'\n",
        "\n",
        "def listFD(url, ext=''):\n",
        "    page = requests.get(url).text\n",
        "    soup = BeautifulSoup(page, 'html.parser')\n",
        "    return [url + '/' + node.get('href') for node in soup.find_all('a') if node.get('href').endswith(ext)]\n",
        "\n",
        "for file in listFD(url, ext):\n",
        "    print(file)"
      ],
      "metadata": {
        "id": "Ar1tHqy8hic4"
      },
      "id": "Ar1tHqy8hic4",
      "execution_count": 24,
      "outputs": []
    },
    {
      "cell_type": "code",
      "source": [
        "page = requests.get(url).text\n",
        "page"
      ],
      "metadata": {
        "id": "jR67ANr9iWX7",
        "outputId": "33df92ea-a660-4aa1-9e7a-86fa7e5d91f9",
        "colab": {
          "base_uri": "https://localhost:8080/",
          "height": 87
        }
      },
      "id": "jR67ANr9iWX7",
      "execution_count": 17,
      "outputs": [
        {
          "output_type": "execute_result",
          "data": {
            "text/plain": [
              "'<!DOCTYPE html>\\n<html lang=\"en\">\\n<head>\\n  <meta charset=\"utf-8\">\\n  <meta http-equiv=\"x-ua-compatible\" content=\"ie=edge\">\\n  <meta name=\"viewport\" content=\"width=device-width, initial-scale=1, shrink-to-fit=no\">\\n  <title>403 Forbidden</title>\\n  <link rel=\"stylesheet\" href=\"/error_docs/styles.css\">\\n</head>\\n<body>\\n<div class=\"page\">\\n  <div class=\"main\">\\n    <h1>Server Error</h1>\\n    <div class=\"error-code\">403</div>\\n    <h2>Forbidden</h2>\\n    <p class=\"lead\">You do not have permission to access this document.</p>\\n    <hr/>\\n    <p>That\\'s what you can do</p>\\n    <div class=\"help-actions\">\\n      <a href=\"javascript:location.reload();\">Reload Page</a>\\n      <a href=\"javascript:history.back();\">Back to Previous Page</a>\\n      <a href=\"/\">Home Page</a>\\n    </div>\\n  </div>\\n</div>\\n</body>\\n</html>'"
            ],
            "application/vnd.google.colaboratory.intrinsic+json": {
              "type": "string"
            }
          },
          "metadata": {},
          "execution_count": 17
        }
      ]
    },
    {
      "cell_type": "code",
      "source": [
        "page = requests.get(url).text\n",
        "page"
      ],
      "metadata": {
        "id": "lue-Xl51i0OD"
      },
      "id": "lue-Xl51i0OD",
      "execution_count": null,
      "outputs": []
    }
  ],
  "metadata": {
    "kernelspec": {
      "display_name": "Python 3 (ipykernel)",
      "language": "python",
      "name": "python3"
    },
    "language_info": {
      "codemirror_mode": {
        "name": "ipython",
        "version": 3
      },
      "file_extension": ".py",
      "mimetype": "text/x-python",
      "name": "python",
      "nbconvert_exporter": "python",
      "pygments_lexer": "ipython3",
      "version": "3.8.10"
    },
    "colab": {
      "provenance": []
    }
  },
  "nbformat": 4,
  "nbformat_minor": 5
}