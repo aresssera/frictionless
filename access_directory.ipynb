{
  "cells": [
    {
      "cell_type": "code",
      "source": [
        "import requests     # 2.18.4\n",
        "import json         # 2.0.9\n",
        "import pandas as pd # 0.23.0\n",
        "import numpy as np\n",
        "import time"
      ],
      "metadata": {
        "id": "65Qr9ip3uvh4"
      },
      "id": "65Qr9ip3uvh4",
      "execution_count": 4,
      "outputs": []
    },
    {
      "cell_type": "code",
      "source": [
        "import pandas as pd\n",
        "import re\n",
        "from urllib.request import Request, urlopen, urlretrieve\n",
        "from bs4 import BeautifulSoup\n",
        "\n",
        "url = 'https://www.uvek-gis.admin.ch/BFE/ogd/staging/'\n",
        "\n",
        "def extract_id(fileName):\n",
        "    ogd_id = fileName.partition('_')[0]\n",
        "    return ogd_id.replace('ogd', '')\n",
        "\n",
        "def getInformation(url):\n",
        "\n",
        "  csvList = []\n",
        "  url = url.replace(\" \",\"%20\")\n",
        "  req = Request(url)\n",
        "  a = urlopen(req).read()\n",
        "  soup = BeautifulSoup(a, 'html.parser')\n",
        "  x = (soup.find_all('a'))\n",
        "\n",
        "  for elem in x:\n",
        "    stringElem = str(elem)\n",
        "\n",
        "    if 'csv' in stringElem:\n",
        "      fileName = re.search('href=\"(.*)\"', stringElem).group(1)\n",
        "      csvList.append([fileName, extract_id(fileName)])\n",
        "\n",
        "  df = pd.DataFrame(csvList, columns= ['fileName', 'ogd_id'])\n",
        "  print(df)\n",
        "  return df\n",
        "  #df.to_csv('files/info.csv')\n",
        "\n",
        "df = getInformation(url)"
      ],
      "metadata": {
        "colab": {
          "base_uri": "https://localhost:8080/"
        },
        "id": "qY0auw0JLXyA",
        "outputId": "05136037-742e-4e2d-c1bc-a0554af85bb8"
      },
      "id": "qY0auw0JLXyA",
      "execution_count": 21,
      "outputs": [
        {
          "output_type": "stream",
          "name": "stdout",
          "text": [
            "                                            fileName ogd_id\n",
            "0  ogd35_schweizerische_elektrizitaetsbilanz_mona...     35\n",
            "1                                     ogd39_epec.csv     39\n",
            "2                     ogd47_vollzugsresultate_pw.csv     47\n",
            "3                ogd47_vollzugsresultate_pw_2020.csv     47\n",
            "4                    ogd61_vollzugsresultate_lnf.csv     61\n",
            "5               ogd61_vollzugsresultate_lnf_2020.csv     61\n",
            "6           ogd90_potenzialstudien_waermenutzung.csv     90\n"
          ]
        }
      ]
    },
    {
      "cell_type": "code",
      "source": [
        "id = 35\n",
        "url_dataPackage = 'https://www.uvek-gis.admin.ch/BFE/ogd/' + str(id) + '/datapackage.json'\n",
        "\n",
        "print(url_dataPackage)"
      ],
      "metadata": {
        "id": "zAz1Rlzhy2_h",
        "colab": {
          "base_uri": "https://localhost:8080/"
        },
        "outputId": "a7a54604-e213-424e-eecf-9274ebd07b9f"
      },
      "id": "zAz1Rlzhy2_h",
      "execution_count": 22,
      "outputs": [
        {
          "output_type": "stream",
          "name": "stdout",
          "text": [
            "https://www.uvek-gis.admin.ch/BFE/ogd/35/datapackage.json\n"
          ]
        }
      ]
    },
    {
      "cell_type": "code",
      "source": [
        "import requests\n",
        "\n",
        "x = requests.get(url_dataPackage)\n",
        "print(x.status_code)"
      ],
      "metadata": {
        "colab": {
          "base_uri": "https://localhost:8080/"
        },
        "id": "No2piD9ynsP6",
        "outputId": "2224ca34-b43a-47b6-cb77-9f35a1d3ad21"
      },
      "id": "No2piD9ynsP6",
      "execution_count": 10,
      "outputs": [
        {
          "output_type": "stream",
          "name": "stdout",
          "text": [
            "200\n"
          ]
        }
      ]
    },
    {
      "cell_type": "code",
      "source": [
        "# import urllib library\n",
        "from urllib.request import urlopen\n",
        "\n",
        "# import json\n",
        "import json\n",
        "\n",
        "# store the response of URL\n",
        "response = urlopen(url_dataPackage)\n",
        "\n",
        "# storing the JSON response\n",
        "# from url in data\n",
        "data_json = json.loads(response.read())\n",
        "\n",
        "# print the json response\n",
        "print(data_json)"
      ],
      "metadata": {
        "colab": {
          "base_uri": "https://localhost:8080/"
        },
        "id": "GrQMzzAPnyxE",
        "outputId": "feca1b99-cb1d-49a6-d8b2-1c7f4aa51cf1"
      },
      "id": "GrQMzzAPnyxE",
      "execution_count": 11,
      "outputs": [
        {
          "output_type": "stream",
          "name": "stdout",
          "text": [
            "{'profile': 'tabular-data-package', 'resources': [{'name': 'ogd35_schweizerische_elektrizitaetsbilanz_monatswerte.csv', 'path': 'https://www.uvek-gis.admin.ch/BFE/ogd/35/ogd35_schweizerische_elektrizitaetsbilanz_monatswerte.csv', 'profile': 'tabular-data-resource', 'schema': {'fields': [{'name': 'Jahr', 'type': 'year', 'format': 'default', 'title@de': 'Jahr', 'title@fr': 'Année', 'description@de': 'Jahr der Aufnahme', 'description@fr': \"Année d'acquisition\"}, {'name': 'Monat', 'type': 'integer', 'format': 'default', 'title@de': 'Monat', 'title@fr': 'Mois', 'description@de': 'Monat der Aufnahme', 'description@fr': \"Mois d'acquisition\", 'constraints': {'minimum': '1', 'maximum': '12'}}, {'name': 'Definitiv', 'type': 'boolean', 'format': 'default', 'title@de': '', 'title@fr': '', 'description@de': '', 'description@fr': '', 'trueValues': ['1'], 'falseValues': ['0']}, {'name': 'Erzeugung_laufwerk_GWh', 'type': 'integer', 'format': 'default', 'title@de': 'Erzeugung Laufwerk GWh', 'title@fr': \"Production centrales au fil de l'eau GWh\", 'description@de': 'Stromerzeugung Laufwerk, in GWh', 'description@fr': \"Production d'électricité à partir de centrales hydroélectriques au fil de l'eau, en GWh\"}, {'name': 'Erzeugung_speicherwerk_GWh', 'type': 'integer', 'format': 'default', 'title@de': 'Erzeugung Speicherwerk GWh', 'title@fr': 'Production centrales à accumulation GWh', 'description@de': 'Stromerzeugung Speicherwerk, in GWh', 'description@fr': \"Production d'électricité à partir de centrales hydroélectriques à accumulation, en GWh\"}, {'name': 'Erzeugung_kernkraftwerk_GWh', 'type': 'integer', 'format': 'default', 'title@de': 'Erzeugung Kernkraftwerk GWh', 'title@fr': 'Production nucléaire GWh', 'description@de': 'Stromeerzeugung Kernkraftwerk, in GWh', 'description@fr': \"Production d'électricité à partir de centrales nucléaires, en GWh\"}, {'name': 'Erzeugung_andere_GWh', 'type': 'integer', 'format': 'default', 'title@de': 'Erzeugung Konv.-therm. & erneuerbare GWh', 'title@fr': 'Production therm. classique et renouvelable GWh', 'description@de': 'Stromerzeugung aus konventionnellen thermischen Kraftwerke und ubrige erneuerbare Energien, in GWh', 'description@fr': \"Production d'électricité à partir de centrales thermiques conventionnelles et d'autres énergies renouvelables, en GWh\"}, {'name': 'Verbrauch_speicherpumpen_GWh', 'type': 'integer', 'format': 'default', 'title@de': 'Verbrauch Speicherpumpen GWh', 'title@fr': \"Consommation du pompage d'accumulation\", 'description@de': 'Stromverbauch der Speicherpumpen, in GWh', 'description@fr': \"Consommation d'électricité du pompage d'accumulation, en GWh\"}, {'name': 'Erzeugung_netto_GWh', 'type': 'integer', 'format': 'default', 'title@de': 'Erzeugung Netto GWh', 'title@fr': ' Production nette GWh', 'description@de': 'Nettostromerzeugung (Total alle Quellen - Nutzung Speicherpumpen), in GWh.', 'description@fr': \"Production d'électricité nette (total de toutes les sources de production - consommation du pompage d'accumulation, en GWh\"}, {'name': 'Einfuhr_GWh', 'type': 'integer', 'format': 'default', 'title@de': 'Einführ GWh', 'title@fr': 'Importation GWh', 'description@de': 'Einführ von Strom (physikalisch), in GWh', 'description@fr': \"Importation d'électricité (physique), en GWh\"}, {'name': 'Ausfuhr_GWh', 'type': 'integer', 'format': 'default', 'title@de': 'Ausfuhr GWh', 'title@fr': ' Exportation GWh', 'description@de': 'Ausfuhr von Strom (physikalisch), in GWh', 'description@fr': \"Exportation d'électricité (physique), en GWh\"}, {'name': 'Landesverbrauch_GWh', 'type': 'integer', 'format': 'default', 'title@de': 'Landesverbrauch GWh', 'title@fr': 'Consommation du pays GWh', 'description@de': 'Totales Landesverbrauch (Nettoerzeugung + Einführ - Ausführ), in GWh. Gesamter Verbrauch der Haushalte, von Gewerbe, Landwirtschaft,  Dienstleistungen, Industrie und des Verkehrs (inkl. Übertragungs- und Verteilverluste).', 'description@fr': 'Consommation du pays totale (Production nette + Importation - Exportations), en GWh. Consommation totale des ménages, de l’artisanat, de l’agriculture, des services, de l’industrie et des transports (y compris les pertes de transport et de distribution).'}, {'name': 'Verluste_GWh', 'type': 'integer', 'format': 'default', 'title@de': 'Verluste GWh', 'title@fr': 'Pertes GWh', 'description@de': 'Übertragungs- und Verteilverluste, in GWh', 'description@fr': 'Pertes de transport et de distribution, en GWh'}, {'name': 'Endverbrauch_GWh', 'type': 'integer', 'format': 'default', 'title@de': 'Endverbrauch von Strom GWh', 'title@fr': \"Consommation finale d'électricité GWh\", 'description@de': 'Landesverbrauch abzüglich Übertragungs- und Verteilverluste, in GWh', 'description@fr': 'Consommation du pays, pertes de transport et de distribution déduites, en GWh'}]}, 'title@de': 'Schweizerische Elektrizitätsstatistik: Schweizerische Elektrizitätsbilanz – Monatswerte', 'title@fr': \"Statistique suisse de l'électricité: bilan mensuel suisse de l'électricité\", 'format': 'csv', 'mediatype': 'text/csv', 'dialect': {'delimiter': ',', 'doubleQuote': True, 'lineTerminator': '\\r\\n', 'quoteChar': '\"', 'skipInitialSpace': True, 'header': True, 'caseSensitiveHeader': False}, 'encoding': 'UTF-8', 'description@de': 'Die Schweizerische Elektrizitätsbilanz - Monatswerte gibt Auskunft über Produktion, Import / Export und Verbrauch von Elektrizität in der Schweiz auf monatlicher Basis. Bei der Produktion werden Wasserkraftwerke, Kernkraftwerke, konventionell-thermische und erneuerbare Kraftwerke unterschieden. Der Verbrauch der Speicherpumpen und die Leitungsverluste werden ausgewiesen. Die monatliche Elektrizitätsbilanz wird im Rahmen der Elektrizitätsstatistik erstellt, welche Teil der öffentlichen Statistik der Schweiz ist (gesetzliche Grundlage: BStatG).', 'description@fr': \"Cette statistique recense sur une base mensuelle la production, l'importation, l'exportation et la consommation d'électricité en Suisse. Elle présente la production des centrales hydrauliques, des centrales nucléaires, des centrales thermiques classiques et renouvelables. Elle indique la consommation des installations de pompage d'accumulation et les pertes en ligne. Elle est établie dans le cadre de la Statistique de l'électricité, qui fait partie de la statistique publique de la Suisse (base légale: LSF).\"}], 'name': 'ogd35_bfe', 'title@de': 'Schweizerische Elektrizitätsstatistik: Schweizerische Elektrizitätsbilanz – Monatswerte', 'title@fr': \"Statistique suisse de l'électricité: bilan mensuel suisse de l'électricité\", 'description@de': 'Die Schweizerische Elektrizitätsbilanz - Monatswerte gibt Auskunft über Produktion, Import / Export und Verbrauch von Elektrizität in der Schweiz auf monatlicher Basis. Bei der Produktion werden Wasserkraftwerke, Kernkraftwerke, konventionell-thermische und erneuerbare Kraftwerke unterschieden. Der Verbrauch der Speicherpumpen und die Leitungsverluste werden ausgewiesen. Die monatliche Elektrizitätsbilanz wird im Rahmen der Elektrizitätsstatistik erstellt, welche Teil der öffentlichen Statistik der Schweiz ist (gesetzliche Grundlage: BStatG).', 'description@fr': \"Cette statistique recense sur une base mensuelle la production, l'importation, l'exportation et la consommation d'électricité en Suisse. Elle présente la production des centrales hydrauliques, des centrales nucléaires, des centrales thermiques classiques et renouvelables. Elle indique la consommation des installations de pompage d'accumulation et les pertes en ligne. Elle est établie dans le cadre de la Statistique de l'électricité, qui fait partie de la statistique publique de la Suisse (base légale: LSF).\", 'homepage': 'http://www.bfe.admin.ch/ogd35', 'contributors': [{'title': 'OGD Fachstelle', 'role': 'author'}], 'temporal': {'name': 'Zeitliche Abdeckung', 'start': '2021-01-04', 'end': '2021-04-05'}, 'licenses': [{'name': 'O-By', 'title': 'Freie Nutzung. Quellenangabe ist Pflicht.', 'path': 'https://opendata.swiss/de/terms-of-use'}]}\n"
          ]
        }
      ]
    },
    {
      "cell_type": "code",
      "source": [
        "id = 35\n",
        "fileName = 'ogd35_schweizerische_elektrizitaetsbilanz_monatswerte.csv'\n",
        "data_json['resources'][0]['path'] = 'https://www.uvek-gis.admin.ch/BFE/ogd/staging/' + fileName"
      ],
      "metadata": {
        "id": "sZ-LoUVwpB9Y"
      },
      "id": "sZ-LoUVwpB9Y",
      "execution_count": 16,
      "outputs": []
    },
    {
      "cell_type": "code",
      "source": [
        "type(data_json)"
      ],
      "metadata": {
        "colab": {
          "base_uri": "https://localhost:8080/"
        },
        "id": "Xa5fF1VvxSut",
        "outputId": "d18975c3-3dd2-423e-c5f2-d9edb2e8feb4"
      },
      "id": "Xa5fF1VvxSut",
      "execution_count": 17,
      "outputs": [
        {
          "output_type": "execute_result",
          "data": {
            "text/plain": [
              "dict"
            ]
          },
          "metadata": {},
          "execution_count": 17
        }
      ]
    },
    {
      "cell_type": "code",
      "source": [
        "json_data = json.dumps(data_json)\n",
        "\n",
        "# print the Converted JSON object\n",
        "print(json_data)"
      ],
      "metadata": {
        "colab": {
          "base_uri": "https://localhost:8080/"
        },
        "id": "Er17BPrQyUue",
        "outputId": "bdf9c549-9238-47aa-c456-07a4e8cf11d5"
      },
      "id": "Er17BPrQyUue",
      "execution_count": 18,
      "outputs": [
        {
          "output_type": "stream",
          "name": "stdout",
          "text": [
            "{\"profile\": \"tabular-data-package\", \"resources\": [{\"name\": \"ogd35_schweizerische_elektrizitaetsbilanz_monatswerte.csv\", \"path\": \"https://www.uvek-gis.admin.ch/BFE/ogd/staging/ogd35_schweizerische_elektrizitaetsbilanz_monatswerte.csv\", \"profile\": \"tabular-data-resource\", \"schema\": {\"fields\": [{\"name\": \"Jahr\", \"type\": \"year\", \"format\": \"default\", \"title@de\": \"Jahr\", \"title@fr\": \"Ann\\u00e9e\", \"description@de\": \"Jahr der Aufnahme\", \"description@fr\": \"Ann\\u00e9e d'acquisition\"}, {\"name\": \"Monat\", \"type\": \"integer\", \"format\": \"default\", \"title@de\": \"Monat\", \"title@fr\": \"Mois\", \"description@de\": \"Monat der Aufnahme\", \"description@fr\": \"Mois d'acquisition\", \"constraints\": {\"minimum\": \"1\", \"maximum\": \"12\"}}, {\"name\": \"Definitiv\", \"type\": \"boolean\", \"format\": \"default\", \"title@de\": \"\", \"title@fr\": \"\", \"description@de\": \"\", \"description@fr\": \"\", \"trueValues\": [\"1\"], \"falseValues\": [\"0\"]}, {\"name\": \"Erzeugung_laufwerk_GWh\", \"type\": \"integer\", \"format\": \"default\", \"title@de\": \"Erzeugung Laufwerk GWh\", \"title@fr\": \"Production centrales au fil de l'eau GWh\", \"description@de\": \"Stromerzeugung Laufwerk, in GWh\", \"description@fr\": \"Production d'\\u00e9lectricit\\u00e9 \\u00e0 partir de centrales hydro\\u00e9lectriques au fil de l'eau, en GWh\"}, {\"name\": \"Erzeugung_speicherwerk_GWh\", \"type\": \"integer\", \"format\": \"default\", \"title@de\": \"Erzeugung Speicherwerk GWh\", \"title@fr\": \"Production centrales \\u00e0 accumulation GWh\", \"description@de\": \"Stromerzeugung Speicherwerk, in GWh\", \"description@fr\": \"Production d'\\u00e9lectricit\\u00e9 \\u00e0 partir de centrales hydro\\u00e9lectriques \\u00e0 accumulation, en GWh\"}, {\"name\": \"Erzeugung_kernkraftwerk_GWh\", \"type\": \"integer\", \"format\": \"default\", \"title@de\": \"Erzeugung Kernkraftwerk GWh\", \"title@fr\": \"Production nucl\\u00e9aire GWh\", \"description@de\": \"Stromeerzeugung Kernkraftwerk, in GWh\", \"description@fr\": \"Production d'\\u00e9lectricit\\u00e9 \\u00e0 partir de centrales nucl\\u00e9aires, en GWh\"}, {\"name\": \"Erzeugung_andere_GWh\", \"type\": \"integer\", \"format\": \"default\", \"title@de\": \"Erzeugung Konv.-therm. & erneuerbare GWh\", \"title@fr\": \"Production therm. classique et renouvelable GWh\", \"description@de\": \"Stromerzeugung aus konventionnellen thermischen Kraftwerke und ubrige erneuerbare Energien, in GWh\", \"description@fr\": \"Production d'\\u00e9lectricit\\u00e9 \\u00e0 partir de centrales thermiques conventionnelles et d'autres \\u00e9nergies renouvelables, en GWh\"}, {\"name\": \"Verbrauch_speicherpumpen_GWh\", \"type\": \"integer\", \"format\": \"default\", \"title@de\": \"Verbrauch Speicherpumpen GWh\", \"title@fr\": \"Consommation du pompage d'accumulation\", \"description@de\": \"Stromverbauch der Speicherpumpen, in GWh\", \"description@fr\": \"Consommation d'\\u00e9lectricit\\u00e9 du pompage d'accumulation, en GWh\"}, {\"name\": \"Erzeugung_netto_GWh\", \"type\": \"integer\", \"format\": \"default\", \"title@de\": \"Erzeugung Netto GWh\", \"title@fr\": \" Production nette GWh\", \"description@de\": \"Nettostromerzeugung (Total alle Quellen - Nutzung Speicherpumpen), in GWh.\", \"description@fr\": \"Production d'\\u00e9lectricit\\u00e9 nette (total de toutes les sources de production - consommation du pompage d'accumulation, en GWh\"}, {\"name\": \"Einfuhr_GWh\", \"type\": \"integer\", \"format\": \"default\", \"title@de\": \"Einf\\u00fchr GWh\", \"title@fr\": \"Importation GWh\", \"description@de\": \"Einf\\u00fchr von Strom (physikalisch), in GWh\", \"description@fr\": \"Importation d'\\u00e9lectricit\\u00e9 (physique), en GWh\"}, {\"name\": \"Ausfuhr_GWh\", \"type\": \"integer\", \"format\": \"default\", \"title@de\": \"Ausfuhr GWh\", \"title@fr\": \" Exportation GWh\", \"description@de\": \"Ausfuhr von Strom (physikalisch), in GWh\", \"description@fr\": \"Exportation d'\\u00e9lectricit\\u00e9 (physique), en GWh\"}, {\"name\": \"Landesverbrauch_GWh\", \"type\": \"integer\", \"format\": \"default\", \"title@de\": \"Landesverbrauch GWh\", \"title@fr\": \"Consommation du pays GWh\", \"description@de\": \"Totales Landesverbrauch (Nettoerzeugung + Einf\\u00fchr - Ausf\\u00fchr), in GWh. Gesamter Verbrauch der Haushalte, von Gewerbe, Landwirtschaft,  Dienstleistungen, Industrie und des Verkehrs (inkl. \\u00dcbertragungs- und Verteilverluste).\", \"description@fr\": \"Consommation du pays totale (Production nette + Importation - Exportations), en GWh. Consommation totale des m\\u00e9nages, de l\\u2019artisanat, de l\\u2019agriculture, des services, de l\\u2019industrie et des transports (y compris les pertes de transport et de distribution).\"}, {\"name\": \"Verluste_GWh\", \"type\": \"integer\", \"format\": \"default\", \"title@de\": \"Verluste GWh\", \"title@fr\": \"Pertes GWh\", \"description@de\": \"\\u00dcbertragungs- und Verteilverluste, in GWh\", \"description@fr\": \"Pertes de transport et de distribution, en GWh\"}, {\"name\": \"Endverbrauch_GWh\", \"type\": \"integer\", \"format\": \"default\", \"title@de\": \"Endverbrauch von Strom GWh\", \"title@fr\": \"Consommation finale d'\\u00e9lectricit\\u00e9 GWh\", \"description@de\": \"Landesverbrauch abz\\u00fcglich \\u00dcbertragungs- und Verteilverluste, in GWh\", \"description@fr\": \"Consommation du pays, pertes de transport et de distribution d\\u00e9duites, en GWh\"}]}, \"title@de\": \"Schweizerische Elektrizit\\u00e4tsstatistik: Schweizerische Elektrizit\\u00e4tsbilanz \\u2013 Monatswerte\", \"title@fr\": \"Statistique suisse de l'\\u00e9lectricit\\u00e9: bilan mensuel suisse de l'\\u00e9lectricit\\u00e9\", \"format\": \"csv\", \"mediatype\": \"text/csv\", \"dialect\": {\"delimiter\": \",\", \"doubleQuote\": true, \"lineTerminator\": \"\\r\\n\", \"quoteChar\": \"\\\"\", \"skipInitialSpace\": true, \"header\": true, \"caseSensitiveHeader\": false}, \"encoding\": \"UTF-8\", \"description@de\": \"Die Schweizerische Elektrizit\\u00e4tsbilanz - Monatswerte gibt Auskunft \\u00fcber Produktion, Import / Export und Verbrauch von Elektrizit\\u00e4t in der Schweiz auf monatlicher Basis. Bei der Produktion werden Wasserkraftwerke, Kernkraftwerke, konventionell-thermische und erneuerbare Kraftwerke unterschieden. Der Verbrauch der Speicherpumpen und die Leitungsverluste werden ausgewiesen. Die monatliche Elektrizit\\u00e4tsbilanz wird im Rahmen der Elektrizit\\u00e4tsstatistik erstellt, welche Teil der \\u00f6ffentlichen Statistik der Schweiz ist (gesetzliche Grundlage: BStatG).\", \"description@fr\": \"Cette statistique recense sur une base mensuelle la production, l'importation, l'exportation et la consommation d'\\u00e9lectricit\\u00e9 en Suisse. Elle pr\\u00e9sente la production des centrales hydrauliques, des centrales nucl\\u00e9aires, des centrales thermiques classiques et renouvelables. Elle indique la consommation des installations de pompage d'accumulation et les pertes en ligne. Elle est \\u00e9tablie dans le cadre de la Statistique de l'\\u00e9lectricit\\u00e9, qui fait partie de la statistique publique de la Suisse (base l\\u00e9gale: LSF).\"}], \"name\": \"ogd35_bfe\", \"title@de\": \"Schweizerische Elektrizit\\u00e4tsstatistik: Schweizerische Elektrizit\\u00e4tsbilanz \\u2013 Monatswerte\", \"title@fr\": \"Statistique suisse de l'\\u00e9lectricit\\u00e9: bilan mensuel suisse de l'\\u00e9lectricit\\u00e9\", \"description@de\": \"Die Schweizerische Elektrizit\\u00e4tsbilanz - Monatswerte gibt Auskunft \\u00fcber Produktion, Import / Export und Verbrauch von Elektrizit\\u00e4t in der Schweiz auf monatlicher Basis. Bei der Produktion werden Wasserkraftwerke, Kernkraftwerke, konventionell-thermische und erneuerbare Kraftwerke unterschieden. Der Verbrauch der Speicherpumpen und die Leitungsverluste werden ausgewiesen. Die monatliche Elektrizit\\u00e4tsbilanz wird im Rahmen der Elektrizit\\u00e4tsstatistik erstellt, welche Teil der \\u00f6ffentlichen Statistik der Schweiz ist (gesetzliche Grundlage: BStatG).\", \"description@fr\": \"Cette statistique recense sur une base mensuelle la production, l'importation, l'exportation et la consommation d'\\u00e9lectricit\\u00e9 en Suisse. Elle pr\\u00e9sente la production des centrales hydrauliques, des centrales nucl\\u00e9aires, des centrales thermiques classiques et renouvelables. Elle indique la consommation des installations de pompage d'accumulation et les pertes en ligne. Elle est \\u00e9tablie dans le cadre de la Statistique de l'\\u00e9lectricit\\u00e9, qui fait partie de la statistique publique de la Suisse (base l\\u00e9gale: LSF).\", \"homepage\": \"http://www.bfe.admin.ch/ogd35\", \"contributors\": [{\"title\": \"OGD Fachstelle\", \"role\": \"author\"}], \"temporal\": {\"name\": \"Zeitliche Abdeckung\", \"start\": \"2021-01-04\", \"end\": \"2021-04-05\"}, \"licenses\": [{\"name\": \"O-By\", \"title\": \"Freie Nutzung. Quellenangabe ist Pflicht.\", \"path\": \"https://opendata.swiss/de/terms-of-use\"}]}\n"
          ]
        }
      ]
    },
    {
      "cell_type": "code",
      "source": [
        "import json\n",
        "with open('datapackageStaging.json', 'w', encoding='utf-8') as f:\n",
        "    json.dump(data_json, f, ensure_ascii=False, indent=4)"
      ],
      "metadata": {
        "id": "o53wEqUyh-Ty"
      },
      "id": "o53wEqUyh-Ty",
      "execution_count": 20,
      "outputs": []
    },
    {
      "cell_type": "code",
      "source": [],
      "metadata": {
        "id": "DF8Oh1zGiCLh"
      },
      "id": "DF8Oh1zGiCLh",
      "execution_count": 15,
      "outputs": []
    },
    {
      "cell_type": "markdown",
      "source": [
        "-----------------------------------------------------------------------------------------------"
      ],
      "metadata": {
        "id": "_l-XUXEkxmos"
      },
      "id": "_l-XUXEkxmos"
    },
    {
      "cell_type": "markdown",
      "source": [
        "Load the datapackage content from the ogd directory, change the path, save new datapackage as _datapackageStaging.json_."
      ],
      "metadata": {
        "id": "NmAVzoJZxpox"
      },
      "id": "NmAVzoJZxpox"
    },
    {
      "cell_type": "code",
      "source": [
        "df"
      ],
      "metadata": {
        "id": "Yw-BBlNdzAlK",
        "outputId": "5ef7a8c2-9677-4b1b-f4bf-267c8ad82cf7",
        "colab": {
          "base_uri": "https://localhost:8080/",
          "height": 269
        }
      },
      "id": "Yw-BBlNdzAlK",
      "execution_count": 29,
      "outputs": [
        {
          "output_type": "execute_result",
          "data": {
            "text/plain": [
              "                                            fileName ogd_id\n",
              "0  ogd35_schweizerische_elektrizitaetsbilanz_mona...     35\n",
              "1                                     ogd39_epec.csv     39\n",
              "2                     ogd47_vollzugsresultate_pw.csv     47\n",
              "3                ogd47_vollzugsresultate_pw_2020.csv     47\n",
              "4                    ogd61_vollzugsresultate_lnf.csv     61\n",
              "5               ogd61_vollzugsresultate_lnf_2020.csv     61\n",
              "6           ogd90_potenzialstudien_waermenutzung.csv     90"
            ],
            "text/html": [
              "\n",
              "  <div id=\"df-41d84991-f9b1-4e38-b564-2a346b4cbbf1\">\n",
              "    <div class=\"colab-df-container\">\n",
              "      <div>\n",
              "<style scoped>\n",
              "    .dataframe tbody tr th:only-of-type {\n",
              "        vertical-align: middle;\n",
              "    }\n",
              "\n",
              "    .dataframe tbody tr th {\n",
              "        vertical-align: top;\n",
              "    }\n",
              "\n",
              "    .dataframe thead th {\n",
              "        text-align: right;\n",
              "    }\n",
              "</style>\n",
              "<table border=\"1\" class=\"dataframe\">\n",
              "  <thead>\n",
              "    <tr style=\"text-align: right;\">\n",
              "      <th></th>\n",
              "      <th>fileName</th>\n",
              "      <th>ogd_id</th>\n",
              "    </tr>\n",
              "  </thead>\n",
              "  <tbody>\n",
              "    <tr>\n",
              "      <th>0</th>\n",
              "      <td>ogd35_schweizerische_elektrizitaetsbilanz_mona...</td>\n",
              "      <td>35</td>\n",
              "    </tr>\n",
              "    <tr>\n",
              "      <th>1</th>\n",
              "      <td>ogd39_epec.csv</td>\n",
              "      <td>39</td>\n",
              "    </tr>\n",
              "    <tr>\n",
              "      <th>2</th>\n",
              "      <td>ogd47_vollzugsresultate_pw.csv</td>\n",
              "      <td>47</td>\n",
              "    </tr>\n",
              "    <tr>\n",
              "      <th>3</th>\n",
              "      <td>ogd47_vollzugsresultate_pw_2020.csv</td>\n",
              "      <td>47</td>\n",
              "    </tr>\n",
              "    <tr>\n",
              "      <th>4</th>\n",
              "      <td>ogd61_vollzugsresultate_lnf.csv</td>\n",
              "      <td>61</td>\n",
              "    </tr>\n",
              "    <tr>\n",
              "      <th>5</th>\n",
              "      <td>ogd61_vollzugsresultate_lnf_2020.csv</td>\n",
              "      <td>61</td>\n",
              "    </tr>\n",
              "    <tr>\n",
              "      <th>6</th>\n",
              "      <td>ogd90_potenzialstudien_waermenutzung.csv</td>\n",
              "      <td>90</td>\n",
              "    </tr>\n",
              "  </tbody>\n",
              "</table>\n",
              "</div>\n",
              "      <button class=\"colab-df-convert\" onclick=\"convertToInteractive('df-41d84991-f9b1-4e38-b564-2a346b4cbbf1')\"\n",
              "              title=\"Convert this dataframe to an interactive table.\"\n",
              "              style=\"display:none;\">\n",
              "        \n",
              "  <svg xmlns=\"http://www.w3.org/2000/svg\" height=\"24px\"viewBox=\"0 0 24 24\"\n",
              "       width=\"24px\">\n",
              "    <path d=\"M0 0h24v24H0V0z\" fill=\"none\"/>\n",
              "    <path d=\"M18.56 5.44l.94 2.06.94-2.06 2.06-.94-2.06-.94-.94-2.06-.94 2.06-2.06.94zm-11 1L8.5 8.5l.94-2.06 2.06-.94-2.06-.94L8.5 2.5l-.94 2.06-2.06.94zm10 10l.94 2.06.94-2.06 2.06-.94-2.06-.94-.94-2.06-.94 2.06-2.06.94z\"/><path d=\"M17.41 7.96l-1.37-1.37c-.4-.4-.92-.59-1.43-.59-.52 0-1.04.2-1.43.59L10.3 9.45l-7.72 7.72c-.78.78-.78 2.05 0 2.83L4 21.41c.39.39.9.59 1.41.59.51 0 1.02-.2 1.41-.59l7.78-7.78 2.81-2.81c.8-.78.8-2.07 0-2.86zM5.41 20L4 18.59l7.72-7.72 1.47 1.35L5.41 20z\"/>\n",
              "  </svg>\n",
              "      </button>\n",
              "      \n",
              "  <style>\n",
              "    .colab-df-container {\n",
              "      display:flex;\n",
              "      flex-wrap:wrap;\n",
              "      gap: 12px;\n",
              "    }\n",
              "\n",
              "    .colab-df-convert {\n",
              "      background-color: #E8F0FE;\n",
              "      border: none;\n",
              "      border-radius: 50%;\n",
              "      cursor: pointer;\n",
              "      display: none;\n",
              "      fill: #1967D2;\n",
              "      height: 32px;\n",
              "      padding: 0 0 0 0;\n",
              "      width: 32px;\n",
              "    }\n",
              "\n",
              "    .colab-df-convert:hover {\n",
              "      background-color: #E2EBFA;\n",
              "      box-shadow: 0px 1px 2px rgba(60, 64, 67, 0.3), 0px 1px 3px 1px rgba(60, 64, 67, 0.15);\n",
              "      fill: #174EA6;\n",
              "    }\n",
              "\n",
              "    [theme=dark] .colab-df-convert {\n",
              "      background-color: #3B4455;\n",
              "      fill: #D2E3FC;\n",
              "    }\n",
              "\n",
              "    [theme=dark] .colab-df-convert:hover {\n",
              "      background-color: #434B5C;\n",
              "      box-shadow: 0px 1px 3px 1px rgba(0, 0, 0, 0.15);\n",
              "      filter: drop-shadow(0px 1px 2px rgba(0, 0, 0, 0.3));\n",
              "      fill: #FFFFFF;\n",
              "    }\n",
              "  </style>\n",
              "\n",
              "      <script>\n",
              "        const buttonEl =\n",
              "          document.querySelector('#df-41d84991-f9b1-4e38-b564-2a346b4cbbf1 button.colab-df-convert');\n",
              "        buttonEl.style.display =\n",
              "          google.colab.kernel.accessAllowed ? 'block' : 'none';\n",
              "\n",
              "        async function convertToInteractive(key) {\n",
              "          const element = document.querySelector('#df-41d84991-f9b1-4e38-b564-2a346b4cbbf1');\n",
              "          const dataTable =\n",
              "            await google.colab.kernel.invokeFunction('convertToInteractive',\n",
              "                                                     [key], {});\n",
              "          if (!dataTable) return;\n",
              "\n",
              "          const docLinkHtml = 'Like what you see? Visit the ' +\n",
              "            '<a target=\"_blank\" href=https://colab.research.google.com/notebooks/data_table.ipynb>data table notebook</a>'\n",
              "            + ' to learn more about interactive tables.';\n",
              "          element.innerHTML = '';\n",
              "          dataTable['output_type'] = 'display_data';\n",
              "          await google.colab.output.renderOutput(dataTable, element);\n",
              "          const docLink = document.createElement('div');\n",
              "          docLink.innerHTML = docLinkHtml;\n",
              "          element.appendChild(docLink);\n",
              "        }\n",
              "      </script>\n",
              "    </div>\n",
              "  </div>\n",
              "  "
            ]
          },
          "metadata": {},
          "execution_count": 29
        }
      ]
    },
    {
      "cell_type": "code",
      "source": [
        "url_staging = 'https://www.uvek-gis.admin.ch/BFE/ogd/staging/'\n",
        "url_ogd = 'https://www.uvek-gis.admin.ch/BFE/ogd/'\n",
        "dataPackage = 'datapackage.json'\n",
        "\n",
        "for index, row in df.iterrows():\n",
        "\n",
        "    folderPath = url_ogd + row['ogd_id'] + '/'\n",
        "    datapackagePath = folderPath + dataPackage\n",
        "\n",
        "    #print(datapackagePath)\n",
        "\n",
        "    # store the response of URL\n",
        "    response = urlopen(datapackagePath)\n",
        "\n",
        "    # storing the JSON response\n",
        "    # from url in data\n",
        "    data_json = json.loads(response.read())\n",
        "    data_json['resources'][0]['path'] = url_staging + row['fileName']\n",
        "\n",
        "    # print the json response\n",
        "    print(data_json)\n",
        "\n",
        "    with open(folderPath + 'datapackageStaging.json', 'w', encoding='utf-8') as f:\n",
        "      json.dump(data_json, f, ensure_ascii=False, indent=4)"
      ],
      "metadata": {
        "id": "SpX2jCkfxo4P",
        "outputId": "fef4cb31-ba25-43f5-ea5d-4e9236ddb4a4",
        "colab": {
          "base_uri": "https://localhost:8080/",
          "height": 256
        }
      },
      "id": "SpX2jCkfxo4P",
      "execution_count": 34,
      "outputs": [
        {
          "output_type": "stream",
          "name": "stdout",
          "text": [
            "{'profile': 'tabular-data-package', 'resources': [{'name': 'ogd35_schweizerische_elektrizitaetsbilanz_monatswerte.csv', 'path': 'https://www.uvek-gis.admin.ch/BFE/ogd/staging/ogd35_schweizerische_elektrizitaetsbilanz_monatswerte.csv', 'profile': 'tabular-data-resource', 'schema': {'fields': [{'name': 'Jahr', 'type': 'year', 'format': 'default', 'title@de': 'Jahr', 'title@fr': 'Année', 'description@de': 'Jahr der Aufnahme', 'description@fr': \"Année d'acquisition\"}, {'name': 'Monat', 'type': 'integer', 'format': 'default', 'title@de': 'Monat', 'title@fr': 'Mois', 'description@de': 'Monat der Aufnahme', 'description@fr': \"Mois d'acquisition\", 'constraints': {'minimum': '1', 'maximum': '12'}}, {'name': 'Definitiv', 'type': 'boolean', 'format': 'default', 'title@de': '', 'title@fr': '', 'description@de': '', 'description@fr': '', 'trueValues': ['1'], 'falseValues': ['0']}, {'name': 'Erzeugung_laufwerk_GWh', 'type': 'integer', 'format': 'default', 'title@de': 'Erzeugung Laufwerk GWh', 'title@fr': \"Production centrales au fil de l'eau GWh\", 'description@de': 'Stromerzeugung Laufwerk, in GWh', 'description@fr': \"Production d'électricité à partir de centrales hydroélectriques au fil de l'eau, en GWh\"}, {'name': 'Erzeugung_speicherwerk_GWh', 'type': 'integer', 'format': 'default', 'title@de': 'Erzeugung Speicherwerk GWh', 'title@fr': 'Production centrales à accumulation GWh', 'description@de': 'Stromerzeugung Speicherwerk, in GWh', 'description@fr': \"Production d'électricité à partir de centrales hydroélectriques à accumulation, en GWh\"}, {'name': 'Erzeugung_kernkraftwerk_GWh', 'type': 'integer', 'format': 'default', 'title@de': 'Erzeugung Kernkraftwerk GWh', 'title@fr': 'Production nucléaire GWh', 'description@de': 'Stromeerzeugung Kernkraftwerk, in GWh', 'description@fr': \"Production d'électricité à partir de centrales nucléaires, en GWh\"}, {'name': 'Erzeugung_andere_GWh', 'type': 'integer', 'format': 'default', 'title@de': 'Erzeugung Konv.-therm. & erneuerbare GWh', 'title@fr': 'Production therm. classique et renouvelable GWh', 'description@de': 'Stromerzeugung aus konventionnellen thermischen Kraftwerke und ubrige erneuerbare Energien, in GWh', 'description@fr': \"Production d'électricité à partir de centrales thermiques conventionnelles et d'autres énergies renouvelables, en GWh\"}, {'name': 'Verbrauch_speicherpumpen_GWh', 'type': 'integer', 'format': 'default', 'title@de': 'Verbrauch Speicherpumpen GWh', 'title@fr': \"Consommation du pompage d'accumulation\", 'description@de': 'Stromverbauch der Speicherpumpen, in GWh', 'description@fr': \"Consommation d'électricité du pompage d'accumulation, en GWh\"}, {'name': 'Erzeugung_netto_GWh', 'type': 'integer', 'format': 'default', 'title@de': 'Erzeugung Netto GWh', 'title@fr': ' Production nette GWh', 'description@de': 'Nettostromerzeugung (Total alle Quellen - Nutzung Speicherpumpen), in GWh.', 'description@fr': \"Production d'électricité nette (total de toutes les sources de production - consommation du pompage d'accumulation, en GWh\"}, {'name': 'Einfuhr_GWh', 'type': 'integer', 'format': 'default', 'title@de': 'Einführ GWh', 'title@fr': 'Importation GWh', 'description@de': 'Einführ von Strom (physikalisch), in GWh', 'description@fr': \"Importation d'électricité (physique), en GWh\"}, {'name': 'Ausfuhr_GWh', 'type': 'integer', 'format': 'default', 'title@de': 'Ausfuhr GWh', 'title@fr': ' Exportation GWh', 'description@de': 'Ausfuhr von Strom (physikalisch), in GWh', 'description@fr': \"Exportation d'électricité (physique), en GWh\"}, {'name': 'Landesverbrauch_GWh', 'type': 'integer', 'format': 'default', 'title@de': 'Landesverbrauch GWh', 'title@fr': 'Consommation du pays GWh', 'description@de': 'Totales Landesverbrauch (Nettoerzeugung + Einführ - Ausführ), in GWh. Gesamter Verbrauch der Haushalte, von Gewerbe, Landwirtschaft,  Dienstleistungen, Industrie und des Verkehrs (inkl. Übertragungs- und Verteilverluste).', 'description@fr': 'Consommation du pays totale (Production nette + Importation - Exportations), en GWh. Consommation totale des ménages, de l’artisanat, de l’agriculture, des services, de l’industrie et des transports (y compris les pertes de transport et de distribution).'}, {'name': 'Verluste_GWh', 'type': 'integer', 'format': 'default', 'title@de': 'Verluste GWh', 'title@fr': 'Pertes GWh', 'description@de': 'Übertragungs- und Verteilverluste, in GWh', 'description@fr': 'Pertes de transport et de distribution, en GWh'}, {'name': 'Endverbrauch_GWh', 'type': 'integer', 'format': 'default', 'title@de': 'Endverbrauch von Strom GWh', 'title@fr': \"Consommation finale d'électricité GWh\", 'description@de': 'Landesverbrauch abzüglich Übertragungs- und Verteilverluste, in GWh', 'description@fr': 'Consommation du pays, pertes de transport et de distribution déduites, en GWh'}]}, 'title@de': 'Schweizerische Elektrizitätsstatistik: Schweizerische Elektrizitätsbilanz – Monatswerte', 'title@fr': \"Statistique suisse de l'électricité: bilan mensuel suisse de l'électricité\", 'format': 'csv', 'mediatype': 'text/csv', 'dialect': {'delimiter': ',', 'doubleQuote': True, 'lineTerminator': '\\r\\n', 'quoteChar': '\"', 'skipInitialSpace': True, 'header': True, 'caseSensitiveHeader': False}, 'encoding': 'UTF-8', 'description@de': 'Die Schweizerische Elektrizitätsbilanz - Monatswerte gibt Auskunft über Produktion, Import / Export und Verbrauch von Elektrizität in der Schweiz auf monatlicher Basis. Bei der Produktion werden Wasserkraftwerke, Kernkraftwerke, konventionell-thermische und erneuerbare Kraftwerke unterschieden. Der Verbrauch der Speicherpumpen und die Leitungsverluste werden ausgewiesen. Die monatliche Elektrizitätsbilanz wird im Rahmen der Elektrizitätsstatistik erstellt, welche Teil der öffentlichen Statistik der Schweiz ist (gesetzliche Grundlage: BStatG).', 'description@fr': \"Cette statistique recense sur une base mensuelle la production, l'importation, l'exportation et la consommation d'électricité en Suisse. Elle présente la production des centrales hydrauliques, des centrales nucléaires, des centrales thermiques classiques et renouvelables. Elle indique la consommation des installations de pompage d'accumulation et les pertes en ligne. Elle est établie dans le cadre de la Statistique de l'électricité, qui fait partie de la statistique publique de la Suisse (base légale: LSF).\"}], 'name': 'ogd35_bfe', 'title@de': 'Schweizerische Elektrizitätsstatistik: Schweizerische Elektrizitätsbilanz – Monatswerte', 'title@fr': \"Statistique suisse de l'électricité: bilan mensuel suisse de l'électricité\", 'description@de': 'Die Schweizerische Elektrizitätsbilanz - Monatswerte gibt Auskunft über Produktion, Import / Export und Verbrauch von Elektrizität in der Schweiz auf monatlicher Basis. Bei der Produktion werden Wasserkraftwerke, Kernkraftwerke, konventionell-thermische und erneuerbare Kraftwerke unterschieden. Der Verbrauch der Speicherpumpen und die Leitungsverluste werden ausgewiesen. Die monatliche Elektrizitätsbilanz wird im Rahmen der Elektrizitätsstatistik erstellt, welche Teil der öffentlichen Statistik der Schweiz ist (gesetzliche Grundlage: BStatG).', 'description@fr': \"Cette statistique recense sur une base mensuelle la production, l'importation, l'exportation et la consommation d'électricité en Suisse. Elle présente la production des centrales hydrauliques, des centrales nucléaires, des centrales thermiques classiques et renouvelables. Elle indique la consommation des installations de pompage d'accumulation et les pertes en ligne. Elle est établie dans le cadre de la Statistique de l'électricité, qui fait partie de la statistique publique de la Suisse (base légale: LSF).\", 'homepage': 'http://www.bfe.admin.ch/ogd35', 'contributors': [{'title': 'OGD Fachstelle', 'role': 'author'}], 'temporal': {'name': 'Zeitliche Abdeckung', 'start': '2021-01-04', 'end': '2021-04-05'}, 'licenses': [{'name': 'O-By', 'title': 'Freie Nutzung. Quellenangabe ist Pflicht.', 'path': 'https://opendata.swiss/de/terms-of-use'}]}\n"
          ]
        },
        {
          "output_type": "error",
          "ename": "FileNotFoundError",
          "evalue": "ignored",
          "traceback": [
            "\u001b[0;31m---------------------------------------------------------------------------\u001b[0m",
            "\u001b[0;31mFileNotFoundError\u001b[0m                         Traceback (most recent call last)",
            "\u001b[0;32m<ipython-input-34-856c29164b72>\u001b[0m in \u001b[0;36m<cell line: 5>\u001b[0;34m()\u001b[0m\n\u001b[1;32m     21\u001b[0m     \u001b[0mprint\u001b[0m\u001b[0;34m(\u001b[0m\u001b[0mdata_json\u001b[0m\u001b[0;34m)\u001b[0m\u001b[0;34m\u001b[0m\u001b[0;34m\u001b[0m\u001b[0m\n\u001b[1;32m     22\u001b[0m \u001b[0;34m\u001b[0m\u001b[0m\n\u001b[0;32m---> 23\u001b[0;31m     \u001b[0;32mwith\u001b[0m \u001b[0mopen\u001b[0m\u001b[0;34m(\u001b[0m\u001b[0mfolderPath\u001b[0m \u001b[0;34m+\u001b[0m \u001b[0;34m'datapackageStaging.json'\u001b[0m\u001b[0;34m,\u001b[0m \u001b[0;34m'w'\u001b[0m\u001b[0;34m,\u001b[0m \u001b[0mencoding\u001b[0m\u001b[0;34m=\u001b[0m\u001b[0;34m'utf-8'\u001b[0m\u001b[0;34m)\u001b[0m \u001b[0;32mas\u001b[0m \u001b[0mf\u001b[0m\u001b[0;34m:\u001b[0m\u001b[0;34m\u001b[0m\u001b[0;34m\u001b[0m\u001b[0m\n\u001b[0m\u001b[1;32m     24\u001b[0m       \u001b[0mjson\u001b[0m\u001b[0;34m.\u001b[0m\u001b[0mdump\u001b[0m\u001b[0;34m(\u001b[0m\u001b[0mdata_json\u001b[0m\u001b[0;34m,\u001b[0m \u001b[0mf\u001b[0m\u001b[0;34m,\u001b[0m \u001b[0mensure_ascii\u001b[0m\u001b[0;34m=\u001b[0m\u001b[0;32mFalse\u001b[0m\u001b[0;34m,\u001b[0m \u001b[0mindent\u001b[0m\u001b[0;34m=\u001b[0m\u001b[0;36m4\u001b[0m\u001b[0;34m)\u001b[0m\u001b[0;34m\u001b[0m\u001b[0;34m\u001b[0m\u001b[0m\n",
            "\u001b[0;31mFileNotFoundError\u001b[0m: [Errno 2] No such file or directory: 'https://www.uvek-gis.admin.ch/BFE/ogd/35/datapackageStaging.json'"
          ]
        }
      ]
    },
    {
      "cell_type": "code",
      "source": [],
      "metadata": {
        "id": "t5MMK7OBxo7l"
      },
      "id": "t5MMK7OBxo7l",
      "execution_count": null,
      "outputs": []
    }
  ],
  "metadata": {
    "kernelspec": {
      "display_name": "Python 3 (ipykernel)",
      "language": "python",
      "name": "python3"
    },
    "language_info": {
      "codemirror_mode": {
        "name": "ipython",
        "version": 3
      },
      "file_extension": ".py",
      "mimetype": "text/x-python",
      "name": "python",
      "nbconvert_exporter": "python",
      "pygments_lexer": "ipython3",
      "version": "3.8.10"
    },
    "colab": {
      "provenance": []
    }
  },
  "nbformat": 4,
  "nbformat_minor": 5
}