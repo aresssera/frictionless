{
  "cells": [
    {
      "cell_type": "code",
      "source": [
        "import requests     # 2.18.4\n",
        "import json         # 2.0.9\n",
        "import pandas as pd # 0.23.0\n",
        "import numpy as np\n",
        "import time"
      ],
      "metadata": {
        "id": "65Qr9ip3uvh4"
      },
      "id": "65Qr9ip3uvh4",
      "execution_count": 4,
      "outputs": []
    },
    {
      "cell_type": "code",
      "source": [
        "! pip install urlextract"
      ],
      "metadata": {
        "id": "9d6H9qVO3tjg",
        "outputId": "e111c4a9-af8c-4380-923f-f993e1ceedff",
        "colab": {
          "base_uri": "https://localhost:8080/"
        }
      },
      "id": "9d6H9qVO3tjg",
      "execution_count": 5,
      "outputs": [
        {
          "output_type": "stream",
          "name": "stdout",
          "text": [
            "Looking in indexes: https://pypi.org/simple, https://us-python.pkg.dev/colab-wheels/public/simple/\n",
            "Collecting urlextract\n",
            "  Downloading urlextract-1.8.0-py3-none-any.whl (21 kB)\n",
            "Requirement already satisfied: idna in /usr/local/lib/python3.10/dist-packages (from urlextract) (3.4)\n",
            "Collecting uritools (from urlextract)\n",
            "  Downloading uritools-4.0.1-py3-none-any.whl (10 kB)\n",
            "Requirement already satisfied: platformdirs in /usr/local/lib/python3.10/dist-packages (from urlextract) (3.3.0)\n",
            "Requirement already satisfied: filelock in /usr/local/lib/python3.10/dist-packages (from urlextract) (3.12.0)\n",
            "Installing collected packages: uritools, urlextract\n",
            "Successfully installed uritools-4.0.1 urlextract-1.8.0\n"
          ]
        }
      ]
    },
    {
      "cell_type": "code",
      "source": [
        "from urlextract import URLExtract as extract\n",
        "extractor = extract()"
      ],
      "metadata": {
        "id": "k7Ofe2RX3t62"
      },
      "id": "k7Ofe2RX3t62",
      "execution_count": 6,
      "outputs": []
    },
    {
      "cell_type": "code",
      "source": [
        "import pandas as pd\n",
        "import re\n",
        "from urllib.request import Request, urlopen, urlretrieve\n",
        "from bs4 import BeautifulSoup\n",
        "\n",
        "url = 'https://www.uvek-gis.admin.ch/BFE/ogd/staging/'\n",
        "\n",
        "def extract_id(fileName):\n",
        "    ogd_id = fileName.partition('_')[0]\n",
        "    return ogd_id.replace('ogd', '')\n",
        "\n",
        "\n",
        "def getInformation(url):\n",
        "\n",
        "  csvList = []\n",
        "  url = url.replace(\" \",\"%20\")\n",
        "  req = Request(url)\n",
        "  a = urlopen(req).read()\n",
        "  soup = BeautifulSoup(a, 'html.parser')\n",
        "  x = (soup.find_all('a'))\n",
        "\n",
        "  for elem in x:\n",
        "    stringElem = str(elem)\n",
        "\n",
        "    if 'csv' in stringElem:\n",
        "      fileName = re.search('href=\"(.*)\"', stringElem).group(1)\n",
        "      csvList.append([fileName, extract_id(fileName)])\n",
        "\n",
        "  df = pd.DataFrame(csvList, columns= ['fileName', 'ogd_id'])\n",
        "  print(df)\n",
        "  #df.to_csv('files/info.csv')\n",
        "\n",
        "getInformation(url)"
      ],
      "metadata": {
        "colab": {
          "base_uri": "https://localhost:8080/"
        },
        "id": "qY0auw0JLXyA",
        "outputId": "31b425b4-4d78-45e9-db7f-4339b65377b2"
      },
      "id": "qY0auw0JLXyA",
      "execution_count": 50,
      "outputs": [
        {
          "output_type": "stream",
          "name": "stdout",
          "text": [
            "                                            fileName ogd_id\n",
            "0  ogd35_schweizerische_elektrizitaetsbilanz_mona...     35\n",
            "1                                     ogd39_epec.csv     39\n",
            "2                     ogd47_vollzugsresultate_pw.csv     47\n",
            "3                    ogd61_vollzugsresultate_lnf.csv     61\n",
            "4           ogd90_potenzialstudien_waermenutzung.csv     90\n"
          ]
        }
      ]
    },
    {
      "cell_type": "code",
      "source": [
        "id = 35\n",
        "url_dataPackage = 'https://www.uvek-gis.admin.ch/BFE/ogd/' + str(id) + '/datapackage.json'\n",
        "\n",
        "print(url_dataPackage)"
      ],
      "metadata": {
        "id": "zAz1Rlzhy2_h",
        "colab": {
          "base_uri": "https://localhost:8080/"
        },
        "outputId": "b745f767-3e28-41b6-f34d-b01f34811851"
      },
      "id": "zAz1Rlzhy2_h",
      "execution_count": 51,
      "outputs": [
        {
          "output_type": "stream",
          "name": "stdout",
          "text": [
            "https://www.uvek-gis.admin.ch/BFE/ogd/35/datapackage.json\n"
          ]
        }
      ]
    },
    {
      "cell_type": "code",
      "source": [
        "import requests\n",
        "\n",
        "x = requests.get(url_dataPackage)\n",
        "print(x.status_code)"
      ],
      "metadata": {
        "colab": {
          "base_uri": "https://localhost:8080/"
        },
        "id": "No2piD9ynsP6",
        "outputId": "8eec7e1f-7a0c-4a18-d1fd-9e283e426307"
      },
      "id": "No2piD9ynsP6",
      "execution_count": 63,
      "outputs": [
        {
          "output_type": "stream",
          "name": "stdout",
          "text": [
            "200\n"
          ]
        }
      ]
    },
    {
      "cell_type": "code",
      "source": [
        "# import urllib library\n",
        "from urllib.request import urlopen\n",
        "\n",
        "# import json\n",
        "import json\n",
        "\n",
        "# store the response of URL\n",
        "response = urlopen(url_dataPackage)\n",
        "\n",
        "# storing the JSON response\n",
        "# from url in data\n",
        "data_json = json.loads(response.read())\n",
        "\n",
        "# print the json response\n",
        "print(data_json)"
      ],
      "metadata": {
        "colab": {
          "base_uri": "https://localhost:8080/"
        },
        "id": "GrQMzzAPnyxE",
        "outputId": "af086ec7-3d84-42a7-fa0d-7bbea881060e"
      },
      "id": "GrQMzzAPnyxE",
      "execution_count": 66,
      "outputs": [
        {
          "output_type": "stream",
          "name": "stdout",
          "text": [
            "{'profile': 'tabular-data-package', 'resources': [{'name': 'ogd35_schweizerische_elektrizitaetsbilanz_monatswerte.csv', 'path': 'https://www.uvek-gis.admin.ch/BFE/ogd/35/ogd35_schweizerische_elektrizitaetsbilanz_monatswerte.csv', 'profile': 'tabular-data-resource', 'schema': {'fields': [{'name': 'Jahr', 'type': 'year', 'format': 'default', 'title@de': 'Jahr', 'title@fr': 'Année', 'description@de': 'Jahr der Aufnahme', 'description@fr': \"Année d'acquisition\"}, {'name': 'Monat', 'type': 'integer', 'format': 'default', 'title@de': 'Monat', 'title@fr': 'Mois', 'description@de': 'Monat der Aufnahme', 'description@fr': \"Mois d'acquisition\", 'constraints': {'minimum': '1', 'maximum': '12'}}, {'name': 'Definitiv', 'type': 'boolean', 'format': 'default', 'title@de': '', 'title@fr': '', 'description@de': '', 'description@fr': '', 'trueValues': ['1'], 'falseValues': ['0']}, {'name': 'Erzeugung_laufwerk_GWh', 'type': 'integer', 'format': 'default', 'title@de': 'Erzeugung Laufwerk GWh', 'title@fr': \"Production centrales au fil de l'eau GWh\", 'description@de': 'Stromerzeugung Laufwerk, in GWh', 'description@fr': \"Production d'électricité à partir de centrales hydroélectriques au fil de l'eau, en GWh\"}, {'name': 'Erzeugung_speicherwerk_GWh', 'type': 'integer', 'format': 'default', 'title@de': 'Erzeugung Speicherwerk GWh', 'title@fr': 'Production centrales à accumulation GWh', 'description@de': 'Stromerzeugung Speicherwerk, in GWh', 'description@fr': \"Production d'électricité à partir de centrales hydroélectriques à accumulation, en GWh\"}, {'name': 'Erzeugung_kernkraftwerk_GWh', 'type': 'integer', 'format': 'default', 'title@de': 'Erzeugung Kernkraftwerk GWh', 'title@fr': 'Production nucléaire GWh', 'description@de': 'Stromeerzeugung Kernkraftwerk, in GWh', 'description@fr': \"Production d'électricité à partir de centrales nucléaires, en GWh\"}, {'name': 'Erzeugung_andere_GWh', 'type': 'integer', 'format': 'default', 'title@de': 'Erzeugung Konv.-therm. & erneuerbare GWh', 'title@fr': 'Production therm. classique et renouvelable GWh', 'description@de': 'Stromerzeugung aus konventionnellen thermischen Kraftwerke und ubrige erneuerbare Energien, in GWh', 'description@fr': \"Production d'électricité à partir de centrales thermiques conventionnelles et d'autres énergies renouvelables, en GWh\"}, {'name': 'Verbrauch_speicherpumpen_GWh', 'type': 'integer', 'format': 'default', 'title@de': 'Verbrauch Speicherpumpen GWh', 'title@fr': \"Consommation du pompage d'accumulation\", 'description@de': 'Stromverbauch der Speicherpumpen, in GWh', 'description@fr': \"Consommation d'électricité du pompage d'accumulation, en GWh\"}, {'name': 'Erzeugung_netto_GWh', 'type': 'integer', 'format': 'default', 'title@de': 'Erzeugung Netto GWh', 'title@fr': ' Production nette GWh', 'description@de': 'Nettostromerzeugung (Total alle Quellen - Nutzung Speicherpumpen), in GWh.', 'description@fr': \"Production d'électricité nette (total de toutes les sources de production - consommation du pompage d'accumulation, en GWh\"}, {'name': 'Einfuhr_GWh', 'type': 'integer', 'format': 'default', 'title@de': 'Einführ GWh', 'title@fr': 'Importation GWh', 'description@de': 'Einführ von Strom (physikalisch), in GWh', 'description@fr': \"Importation d'électricité (physique), en GWh\"}, {'name': 'Ausfuhr_GWh', 'type': 'integer', 'format': 'default', 'title@de': 'Ausfuhr GWh', 'title@fr': ' Exportation GWh', 'description@de': 'Ausfuhr von Strom (physikalisch), in GWh', 'description@fr': \"Exportation d'électricité (physique), en GWh\"}, {'name': 'Landesverbrauch_GWh', 'type': 'integer', 'format': 'default', 'title@de': 'Landesverbrauch GWh', 'title@fr': 'Consommation du pays GWh', 'description@de': 'Totales Landesverbrauch (Nettoerzeugung + Einführ - Ausführ), in GWh. Gesamter Verbrauch der Haushalte, von Gewerbe, Landwirtschaft,  Dienstleistungen, Industrie und des Verkehrs (inkl. Übertragungs- und Verteilverluste).', 'description@fr': 'Consommation du pays totale (Production nette + Importation - Exportations), en GWh. Consommation totale des ménages, de l’artisanat, de l’agriculture, des services, de l’industrie et des transports (y compris les pertes de transport et de distribution).'}, {'name': 'Verluste_GWh', 'type': 'integer', 'format': 'default', 'title@de': 'Verluste GWh', 'title@fr': 'Pertes GWh', 'description@de': 'Übertragungs- und Verteilverluste, in GWh', 'description@fr': 'Pertes de transport et de distribution, en GWh'}, {'name': 'Endverbrauch_GWh', 'type': 'integer', 'format': 'default', 'title@de': 'Endverbrauch von Strom GWh', 'title@fr': \"Consommation finale d'électricité GWh\", 'description@de': 'Landesverbrauch abzüglich Übertragungs- und Verteilverluste, in GWh', 'description@fr': 'Consommation du pays, pertes de transport et de distribution déduites, en GWh'}]}, 'title@de': 'Schweizerische Elektrizitätsstatistik: Schweizerische Elektrizitätsbilanz – Monatswerte', 'title@fr': \"Statistique suisse de l'électricité: bilan mensuel suisse de l'électricité\", 'format': 'csv', 'mediatype': 'text/csv', 'dialect': {'delimiter': ',', 'doubleQuote': True, 'lineTerminator': '\\r\\n', 'quoteChar': '\"', 'skipInitialSpace': True, 'header': True, 'caseSensitiveHeader': False}, 'encoding': 'UTF-8', 'description@de': 'Die Schweizerische Elektrizitätsbilanz - Monatswerte gibt Auskunft über Produktion, Import / Export und Verbrauch von Elektrizität in der Schweiz auf monatlicher Basis. Bei der Produktion werden Wasserkraftwerke, Kernkraftwerke, konventionell-thermische und erneuerbare Kraftwerke unterschieden. Der Verbrauch der Speicherpumpen und die Leitungsverluste werden ausgewiesen. Die monatliche Elektrizitätsbilanz wird im Rahmen der Elektrizitätsstatistik erstellt, welche Teil der öffentlichen Statistik der Schweiz ist (gesetzliche Grundlage: BStatG).', 'description@fr': \"Cette statistique recense sur une base mensuelle la production, l'importation, l'exportation et la consommation d'électricité en Suisse. Elle présente la production des centrales hydrauliques, des centrales nucléaires, des centrales thermiques classiques et renouvelables. Elle indique la consommation des installations de pompage d'accumulation et les pertes en ligne. Elle est établie dans le cadre de la Statistique de l'électricité, qui fait partie de la statistique publique de la Suisse (base légale: LSF).\"}], 'name': 'ogd35_bfe', 'title@de': 'Schweizerische Elektrizitätsstatistik: Schweizerische Elektrizitätsbilanz – Monatswerte', 'title@fr': \"Statistique suisse de l'électricité: bilan mensuel suisse de l'électricité\", 'description@de': 'Die Schweizerische Elektrizitätsbilanz - Monatswerte gibt Auskunft über Produktion, Import / Export und Verbrauch von Elektrizität in der Schweiz auf monatlicher Basis. Bei der Produktion werden Wasserkraftwerke, Kernkraftwerke, konventionell-thermische und erneuerbare Kraftwerke unterschieden. Der Verbrauch der Speicherpumpen und die Leitungsverluste werden ausgewiesen. Die monatliche Elektrizitätsbilanz wird im Rahmen der Elektrizitätsstatistik erstellt, welche Teil der öffentlichen Statistik der Schweiz ist (gesetzliche Grundlage: BStatG).', 'description@fr': \"Cette statistique recense sur une base mensuelle la production, l'importation, l'exportation et la consommation d'électricité en Suisse. Elle présente la production des centrales hydrauliques, des centrales nucléaires, des centrales thermiques classiques et renouvelables. Elle indique la consommation des installations de pompage d'accumulation et les pertes en ligne. Elle est établie dans le cadre de la Statistique de l'électricité, qui fait partie de la statistique publique de la Suisse (base légale: LSF).\", 'homepage': 'http://www.bfe.admin.ch/ogd35', 'contributors': [{'title': 'OGD Fachstelle', 'role': 'author'}], 'temporal': {'name': 'Zeitliche Abdeckung', 'start': '2021-01-04', 'end': '2021-04-05'}, 'licenses': [{'name': 'O-By', 'title': 'Freie Nutzung. Quellenangabe ist Pflicht.', 'path': 'https://opendata.swiss/de/terms-of-use'}]}\n"
          ]
        }
      ]
    },
    {
      "cell_type": "code",
      "source": [
        "id = 35\n",
        "fileName = 'ogd35_schweizerische_elektrizitaetsbilanz_monatswerte.csv'\n",
        "data_json['resources'][0]['path'] = 'https://www.uvek-gis.admin.ch/BFE/ogd/staging' + str(id) + '/' + fileName"
      ],
      "metadata": {
        "id": "sZ-LoUVwpB9Y"
      },
      "id": "sZ-LoUVwpB9Y",
      "execution_count": 70,
      "outputs": []
    },
    {
      "cell_type": "code",
      "source": [
        "type(data_json)"
      ],
      "metadata": {
        "colab": {
          "base_uri": "https://localhost:8080/"
        },
        "id": "Xa5fF1VvxSut",
        "outputId": "59783c1d-5583-4c6e-ae4f-1303db1ab60c"
      },
      "id": "Xa5fF1VvxSut",
      "execution_count": 72,
      "outputs": [
        {
          "output_type": "execute_result",
          "data": {
            "text/plain": [
              "dict"
            ]
          },
          "metadata": {},
          "execution_count": 72
        }
      ]
    },
    {
      "cell_type": "code",
      "source": [
        "json_data = json.dumps(data_json)\n",
        "\n",
        "# print the Converted JSON object\n",
        "print(json_data)"
      ],
      "metadata": {
        "colab": {
          "base_uri": "https://localhost:8080/"
        },
        "id": "Er17BPrQyUue",
        "outputId": "3d286059-7ead-47fd-9219-f92ab213cb8a"
      },
      "id": "Er17BPrQyUue",
      "execution_count": 73,
      "outputs": [
        {
          "output_type": "stream",
          "name": "stdout",
          "text": [
            "{\"profile\": \"tabular-data-package\", \"resources\": [{\"name\": \"ogd35_schweizerische_elektrizitaetsbilanz_monatswerte.csv\", \"path\": \"https://www.uvek-gis.admin.ch/BFE/ogd/staging35/ogd35_schweizerische_elektrizitaetsbilanz_monatswerte.csv\", \"profile\": \"tabular-data-resource\", \"schema\": {\"fields\": [{\"name\": \"Jahr\", \"type\": \"year\", \"format\": \"default\", \"title@de\": \"Jahr\", \"title@fr\": \"Ann\\u00e9e\", \"description@de\": \"Jahr der Aufnahme\", \"description@fr\": \"Ann\\u00e9e d'acquisition\"}, {\"name\": \"Monat\", \"type\": \"integer\", \"format\": \"default\", \"title@de\": \"Monat\", \"title@fr\": \"Mois\", \"description@de\": \"Monat der Aufnahme\", \"description@fr\": \"Mois d'acquisition\", \"constraints\": {\"minimum\": \"1\", \"maximum\": \"12\"}}, {\"name\": \"Definitiv\", \"type\": \"boolean\", \"format\": \"default\", \"title@de\": \"\", \"title@fr\": \"\", \"description@de\": \"\", \"description@fr\": \"\", \"trueValues\": [\"1\"], \"falseValues\": [\"0\"]}, {\"name\": \"Erzeugung_laufwerk_GWh\", \"type\": \"integer\", \"format\": \"default\", \"title@de\": \"Erzeugung Laufwerk GWh\", \"title@fr\": \"Production centrales au fil de l'eau GWh\", \"description@de\": \"Stromerzeugung Laufwerk, in GWh\", \"description@fr\": \"Production d'\\u00e9lectricit\\u00e9 \\u00e0 partir de centrales hydro\\u00e9lectriques au fil de l'eau, en GWh\"}, {\"name\": \"Erzeugung_speicherwerk_GWh\", \"type\": \"integer\", \"format\": \"default\", \"title@de\": \"Erzeugung Speicherwerk GWh\", \"title@fr\": \"Production centrales \\u00e0 accumulation GWh\", \"description@de\": \"Stromerzeugung Speicherwerk, in GWh\", \"description@fr\": \"Production d'\\u00e9lectricit\\u00e9 \\u00e0 partir de centrales hydro\\u00e9lectriques \\u00e0 accumulation, en GWh\"}, {\"name\": \"Erzeugung_kernkraftwerk_GWh\", \"type\": \"integer\", \"format\": \"default\", \"title@de\": \"Erzeugung Kernkraftwerk GWh\", \"title@fr\": \"Production nucl\\u00e9aire GWh\", \"description@de\": \"Stromeerzeugung Kernkraftwerk, in GWh\", \"description@fr\": \"Production d'\\u00e9lectricit\\u00e9 \\u00e0 partir de centrales nucl\\u00e9aires, en GWh\"}, {\"name\": \"Erzeugung_andere_GWh\", \"type\": \"integer\", \"format\": \"default\", \"title@de\": \"Erzeugung Konv.-therm. & erneuerbare GWh\", \"title@fr\": \"Production therm. classique et renouvelable GWh\", \"description@de\": \"Stromerzeugung aus konventionnellen thermischen Kraftwerke und ubrige erneuerbare Energien, in GWh\", \"description@fr\": \"Production d'\\u00e9lectricit\\u00e9 \\u00e0 partir de centrales thermiques conventionnelles et d'autres \\u00e9nergies renouvelables, en GWh\"}, {\"name\": \"Verbrauch_speicherpumpen_GWh\", \"type\": \"integer\", \"format\": \"default\", \"title@de\": \"Verbrauch Speicherpumpen GWh\", \"title@fr\": \"Consommation du pompage d'accumulation\", \"description@de\": \"Stromverbauch der Speicherpumpen, in GWh\", \"description@fr\": \"Consommation d'\\u00e9lectricit\\u00e9 du pompage d'accumulation, en GWh\"}, {\"name\": \"Erzeugung_netto_GWh\", \"type\": \"integer\", \"format\": \"default\", \"title@de\": \"Erzeugung Netto GWh\", \"title@fr\": \" Production nette GWh\", \"description@de\": \"Nettostromerzeugung (Total alle Quellen - Nutzung Speicherpumpen), in GWh.\", \"description@fr\": \"Production d'\\u00e9lectricit\\u00e9 nette (total de toutes les sources de production - consommation du pompage d'accumulation, en GWh\"}, {\"name\": \"Einfuhr_GWh\", \"type\": \"integer\", \"format\": \"default\", \"title@de\": \"Einf\\u00fchr GWh\", \"title@fr\": \"Importation GWh\", \"description@de\": \"Einf\\u00fchr von Strom (physikalisch), in GWh\", \"description@fr\": \"Importation d'\\u00e9lectricit\\u00e9 (physique), en GWh\"}, {\"name\": \"Ausfuhr_GWh\", \"type\": \"integer\", \"format\": \"default\", \"title@de\": \"Ausfuhr GWh\", \"title@fr\": \" Exportation GWh\", \"description@de\": \"Ausfuhr von Strom (physikalisch), in GWh\", \"description@fr\": \"Exportation d'\\u00e9lectricit\\u00e9 (physique), en GWh\"}, {\"name\": \"Landesverbrauch_GWh\", \"type\": \"integer\", \"format\": \"default\", \"title@de\": \"Landesverbrauch GWh\", \"title@fr\": \"Consommation du pays GWh\", \"description@de\": \"Totales Landesverbrauch (Nettoerzeugung + Einf\\u00fchr - Ausf\\u00fchr), in GWh. Gesamter Verbrauch der Haushalte, von Gewerbe, Landwirtschaft,  Dienstleistungen, Industrie und des Verkehrs (inkl. \\u00dcbertragungs- und Verteilverluste).\", \"description@fr\": \"Consommation du pays totale (Production nette + Importation - Exportations), en GWh. Consommation totale des m\\u00e9nages, de l\\u2019artisanat, de l\\u2019agriculture, des services, de l\\u2019industrie et des transports (y compris les pertes de transport et de distribution).\"}, {\"name\": \"Verluste_GWh\", \"type\": \"integer\", \"format\": \"default\", \"title@de\": \"Verluste GWh\", \"title@fr\": \"Pertes GWh\", \"description@de\": \"\\u00dcbertragungs- und Verteilverluste, in GWh\", \"description@fr\": \"Pertes de transport et de distribution, en GWh\"}, {\"name\": \"Endverbrauch_GWh\", \"type\": \"integer\", \"format\": \"default\", \"title@de\": \"Endverbrauch von Strom GWh\", \"title@fr\": \"Consommation finale d'\\u00e9lectricit\\u00e9 GWh\", \"description@de\": \"Landesverbrauch abz\\u00fcglich \\u00dcbertragungs- und Verteilverluste, in GWh\", \"description@fr\": \"Consommation du pays, pertes de transport et de distribution d\\u00e9duites, en GWh\"}]}, \"title@de\": \"Schweizerische Elektrizit\\u00e4tsstatistik: Schweizerische Elektrizit\\u00e4tsbilanz \\u2013 Monatswerte\", \"title@fr\": \"Statistique suisse de l'\\u00e9lectricit\\u00e9: bilan mensuel suisse de l'\\u00e9lectricit\\u00e9\", \"format\": \"csv\", \"mediatype\": \"text/csv\", \"dialect\": {\"delimiter\": \",\", \"doubleQuote\": true, \"lineTerminator\": \"\\r\\n\", \"quoteChar\": \"\\\"\", \"skipInitialSpace\": true, \"header\": true, \"caseSensitiveHeader\": false}, \"encoding\": \"UTF-8\", \"description@de\": \"Die Schweizerische Elektrizit\\u00e4tsbilanz - Monatswerte gibt Auskunft \\u00fcber Produktion, Import / Export und Verbrauch von Elektrizit\\u00e4t in der Schweiz auf monatlicher Basis. Bei der Produktion werden Wasserkraftwerke, Kernkraftwerke, konventionell-thermische und erneuerbare Kraftwerke unterschieden. Der Verbrauch der Speicherpumpen und die Leitungsverluste werden ausgewiesen. Die monatliche Elektrizit\\u00e4tsbilanz wird im Rahmen der Elektrizit\\u00e4tsstatistik erstellt, welche Teil der \\u00f6ffentlichen Statistik der Schweiz ist (gesetzliche Grundlage: BStatG).\", \"description@fr\": \"Cette statistique recense sur une base mensuelle la production, l'importation, l'exportation et la consommation d'\\u00e9lectricit\\u00e9 en Suisse. Elle pr\\u00e9sente la production des centrales hydrauliques, des centrales nucl\\u00e9aires, des centrales thermiques classiques et renouvelables. Elle indique la consommation des installations de pompage d'accumulation et les pertes en ligne. Elle est \\u00e9tablie dans le cadre de la Statistique de l'\\u00e9lectricit\\u00e9, qui fait partie de la statistique publique de la Suisse (base l\\u00e9gale: LSF).\"}], \"name\": \"ogd35_bfe\", \"title@de\": \"Schweizerische Elektrizit\\u00e4tsstatistik: Schweizerische Elektrizit\\u00e4tsbilanz \\u2013 Monatswerte\", \"title@fr\": \"Statistique suisse de l'\\u00e9lectricit\\u00e9: bilan mensuel suisse de l'\\u00e9lectricit\\u00e9\", \"description@de\": \"Die Schweizerische Elektrizit\\u00e4tsbilanz - Monatswerte gibt Auskunft \\u00fcber Produktion, Import / Export und Verbrauch von Elektrizit\\u00e4t in der Schweiz auf monatlicher Basis. Bei der Produktion werden Wasserkraftwerke, Kernkraftwerke, konventionell-thermische und erneuerbare Kraftwerke unterschieden. Der Verbrauch der Speicherpumpen und die Leitungsverluste werden ausgewiesen. Die monatliche Elektrizit\\u00e4tsbilanz wird im Rahmen der Elektrizit\\u00e4tsstatistik erstellt, welche Teil der \\u00f6ffentlichen Statistik der Schweiz ist (gesetzliche Grundlage: BStatG).\", \"description@fr\": \"Cette statistique recense sur une base mensuelle la production, l'importation, l'exportation et la consommation d'\\u00e9lectricit\\u00e9 en Suisse. Elle pr\\u00e9sente la production des centrales hydrauliques, des centrales nucl\\u00e9aires, des centrales thermiques classiques et renouvelables. Elle indique la consommation des installations de pompage d'accumulation et les pertes en ligne. Elle est \\u00e9tablie dans le cadre de la Statistique de l'\\u00e9lectricit\\u00e9, qui fait partie de la statistique publique de la Suisse (base l\\u00e9gale: LSF).\", \"homepage\": \"http://www.bfe.admin.ch/ogd35\", \"contributors\": [{\"title\": \"OGD Fachstelle\", \"role\": \"author\"}], \"temporal\": {\"name\": \"Zeitliche Abdeckung\", \"start\": \"2021-01-04\", \"end\": \"2021-04-05\"}, \"licenses\": [{\"name\": \"O-By\", \"title\": \"Freie Nutzung. Quellenangabe ist Pflicht.\", \"path\": \"https://opendata.swiss/de/terms-of-use\"}]}\n"
          ]
        }
      ]
    },
    {
      "cell_type": "code",
      "source": [
        "type(json_data)"
      ],
      "metadata": {
        "id": "qL-zIETo1Aba",
        "outputId": "2cad9e81-f23c-4e86-a42b-6500d8c9bd5c",
        "colab": {
          "base_uri": "https://localhost:8080/"
        }
      },
      "id": "qL-zIETo1Aba",
      "execution_count": 74,
      "outputs": [
        {
          "output_type": "execute_result",
          "data": {
            "text/plain": [
              "str"
            ]
          },
          "metadata": {},
          "execution_count": 74
        }
      ]
    },
    {
      "cell_type": "code",
      "source": [],
      "metadata": {
        "id": "VO3q9rPJ1B2C"
      },
      "id": "VO3q9rPJ1B2C",
      "execution_count": null,
      "outputs": []
    }
  ],
  "metadata": {
    "kernelspec": {
      "display_name": "Python 3 (ipykernel)",
      "language": "python",
      "name": "python3"
    },
    "language_info": {
      "codemirror_mode": {
        "name": "ipython",
        "version": 3
      },
      "file_extension": ".py",
      "mimetype": "text/x-python",
      "name": "python",
      "nbconvert_exporter": "python",
      "pygments_lexer": "ipython3",
      "version": "3.8.10"
    },
    "colab": {
      "provenance": []
    }
  },
  "nbformat": 4,
  "nbformat_minor": 5
}