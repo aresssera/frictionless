{
  "cells": [
    {
      "cell_type": "code",
      "source": [
        "import requests     # 2.18.4\n",
        "import json         # 2.0.9\n",
        "import pandas as pd # 0.23.0\n",
        "import numpy as np\n",
        "import time\n",
        "from getpass import getpass\n",
        "from ftplib import FTP_TLS\n",
        "from ftplib import FTP\n",
        "import ftplib"
      ],
      "metadata": {
        "id": "65Qr9ip3uvh4"
      },
      "id": "65Qr9ip3uvh4",
      "execution_count": 1,
      "outputs": []
    },
    {
      "cell_type": "code",
      "source": [
        "import pandas as pd\n",
        "import re\n",
        "from urllib.request import Request, urlopen, urlretrieve\n",
        "from bs4 import BeautifulSoup\n",
        "\n",
        "url = 'https://www.uvek-gis.admin.ch/BFE/ogd/staging/'\n",
        "\n",
        "def extract_id(fileName):\n",
        "    ogd_id = fileName.partition('_')[0]\n",
        "    return ogd_id.replace('ogd', '')\n",
        "\n",
        "def getInformation(url):\n",
        "\n",
        "  csvList = []\n",
        "  url = url.replace(\" \",\"%20\")\n",
        "  req = Request(url)\n",
        "  a = urlopen(req).read()\n",
        "  soup = BeautifulSoup(a, 'html.parser')\n",
        "  x = (soup.find_all('a'))\n",
        "\n",
        "  for elem in x:\n",
        "    stringElem = str(elem)\n",
        "\n",
        "    if 'csv' in stringElem:\n",
        "      fileName = re.search('href=\"(.*)\"', stringElem).group(1)\n",
        "      csvList.append([fileName, extract_id(fileName)])\n",
        "\n",
        "  df = pd.DataFrame(csvList, columns= ['fileName', 'ogd_id'])\n",
        "  print(df)\n",
        "  return df\n",
        "  #df.to_csv('files/info.csv')\n",
        "\n",
        "df = getInformation(url)"
      ],
      "metadata": {
        "colab": {
          "base_uri": "https://localhost:8080/"
        },
        "id": "qY0auw0JLXyA",
        "outputId": "d4055ef6-48ae-4f7f-c4d9-e75f3855f9ab"
      },
      "id": "qY0auw0JLXyA",
      "execution_count": 2,
      "outputs": [
        {
          "output_type": "stream",
          "name": "stdout",
          "text": [
            "                                            fileName ogd_id\n",
            "0  ogd35_schweizerische_elektrizitaetsbilanz_mona...     35\n",
            "1                                     ogd39_epec.csv     39\n",
            "2                     ogd47_vollzugsresultate_pw.csv     47\n",
            "3                ogd47_vollzugsresultate_pw_2020.csv     47\n",
            "4                    ogd61_vollzugsresultate_lnf.csv     61\n",
            "5               ogd61_vollzugsresultate_lnf_2020.csv     61\n",
            "6           ogd90_potenzialstudien_waermenutzung.csv     90\n"
          ]
        }
      ]
    },
    {
      "cell_type": "code",
      "source": [
        "# import urllib library\n",
        "from urllib.request import urlopen\n",
        "\n",
        "# import json\n",
        "import json\n",
        "\n",
        "url_dataPackage = 'https://www.uvek-gis.admin.ch/BFE/ogd/39/datapackage.json'\n",
        "\n",
        "# store the response of URL\n",
        "response = urlopen(url_dataPackage)\n",
        "\n",
        "# storing the JSON response\n",
        "# from url in data\n",
        "data_json = json.loads(response.read())\n",
        "\n",
        "# print the json response\n",
        "print(data_json)"
      ],
      "metadata": {
        "colab": {
          "base_uri": "https://localhost:8080/"
        },
        "id": "GrQMzzAPnyxE",
        "outputId": "841d0c67-cba7-448f-8a54-2878cb53efd7"
      },
      "id": "GrQMzzAPnyxE",
      "execution_count": 4,
      "outputs": [
        {
          "output_type": "stream",
          "name": "stdout",
          "text": [
            "{'profile': 'tabular-data-package', 'resources': [{'name': 'ogd39_epec.csv', 'languages': ['de', 'fr'], 'path': 'https://www.uvek-gis.admin.ch/BFE/ogd/39/ogd39_epec.csv', 'profile': 'tabular-data-resource', 'schema': {'fields': [{'name': 'Kantonsname', 'type': 'string', 'format': 'default', 'title@de': 'Kantonsname', 'title@fr': '', 'description@de': 'Kantonsname', 'description@fr': ''}, {'name': 'Kantonskuerzel', 'type': 'string', 'format': 'default', 'title@de': 'Kantonskürzel', 'title@fr': '', 'description@de': 'Offizielles Kantonskürzel', 'description@fr': ''}, {'name': 'jahr', 'type': 'year', 'format': 'default', 'title@de': 'Jahr', 'title@fr': '', 'description@de': 'Jahr', 'description@fr': '', 'rdfType': 'http://www.w3.org/2006/time#Year'}, {'name': 'fr_0101', 'type': 'string', 'format': 'default', 'title@de': '1.1 - Kantonale Rechtsgrundlagen', 'title@fr': '', 'description@de': '1.1 Kantonale Energie- und Klimapolitik: Überblick der Rechtsgrundlagen - Kantonale Rechtsgrundlagen', 'description@fr': ''}, {'name': 'fr_0102', 'type': 'string', 'format': 'default', 'title@de': '1.2 - Anpassungen im Berichtsjahr', 'title@fr': '', 'description@de': '1.2 Kantonale Energie- und Klimapolitik: Überblick der Rechtsgrundlagen - Anpassungen im Berichtsjahr', 'description@fr': ''}, {'name': 'fr_0103', 'type': 'string', 'format': 'default', 'title@de': '1.3 - Bemerkungen', 'title@fr': '', 'description@de': '1.3 Kantonale Energie- und Klimapolitik: Überblick der Rechtsgrundlagen - Bemerkungen', 'description@fr': ''}, {'name': 'fr_0201', 'type': 'string', 'format': 'default', 'title@de': '2.1 - Titel/Hauptthema der Strategie, des Energiekonzepts oder des Leitbildes', 'title@fr': '', 'description@de': '2.1 Kantonale Energie- und Klimapolitik: Strategie, Energiekonzept, Leitbild - Titel/Hauptthema der Strategie, des Energiekonzepts oder des Leitbildes', 'description@fr': ''}, {'name': 'fr_0202', 'type': 'string', 'format': 'default', 'title@de': '2.2 - Zielsetzung mit Fristen (inkl. Emissionsreduktionsziele)', 'title@fr': '', 'description@de': '2.2 Kantonale Energie- und Klimapolitik: Strategie, Energiekonzept, Leitbild - Zielsetzung mit Fristen (inkl. Emissionsreduktionsziele)', 'description@fr': ''}, {'name': 'fr_0203', 'type': 'string', 'format': 'default', 'title@de': '2.3 - Verabschiedungsdatum Gültigkeit', 'title@fr': '', 'description@de': '2.3 Kantonale Energie- und Klimapolitik: Strategie, Energiekonzept, Leitbild - Verabschiedungsdatum Gültigkeit', 'description@fr': ''}, {'name': 'fr_0204', 'type': 'string', 'format': 'default', 'title@de': '2.4 - Bemerkungen', 'title@fr': '', 'description@de': '2.4 Kantonale Energie- und Klimapolitik: Strategie, Energiekonzept, Leitbild - Bemerkungen', 'description@fr': ''}, {'name': 'fr_0301', 'type': 'string', 'format': 'default', 'title@de': '3.1 - Kantonale Energieplanung gemäss MuKEn 2014 – Modul 10 Art. 10.1–10.3', 'title@fr': '', 'description@de': '3.1 Kantonale Energie und Klimapolitik: Kantonale und kommunale Energieplanung - Kantonale Energieplanung gemäss MuKEn 2014 – Modul 10 Art. 10.1–10.3', 'description@fr': ''}, {'name': 'fr_0302', 'type': 'string', 'format': 'default', 'title@de': '3.2 - Kommunale Energieplanung gemäss MuKEn 2014 – Modul 10  Art. 10.4', 'title@fr': '', 'description@de': '3.2 Kantonale Energie und Klimapolitik: Kantonale und kommunale Energieplanung - Kommunale Energieplanung gemäss MuKEn 2014 – Modul 10  Art. 10.4', 'description@fr': ''}, {'name': 'fr_0303', 'type': 'string', 'format': 'default', 'title@de': '3.3 - Erarbeitete Energierichtpläne (kantonal, regional, kommunal)', 'title@fr': '', 'description@de': '3.3 Kantonale Energie und Klimapolitik: Kantonale und kommunale Energieplanung - Erarbeitete Energierichtpläne (kantonal, regional, kommunal)', 'description@fr': ''}, {'name': 'fr_0304', 'type': 'string', 'format': 'default', 'title@de': '3.4 - Bemerkungen', 'title@fr': '', 'description@de': '3.4 Kantonale Energie und Klimapolitik: Kantonale und kommunale Energieplanung - Bemerkungen', 'description@fr': ''}, {'name': 'fr_0401', 'type': 'string', 'format': 'default', 'title@de': '4.1 - Wurden die erschliessbaren Potentiale an erneuerbaren Energien festgelegt und mit dem Natur-, Landschafts- und Ortsbildschutz sowie der Denkmalpflege und der Fischerei im kantonalen Richtplan gem. Positionspapier EnDK vom 02.09.2011 abgestimmt?', 'title@fr': '', 'description@de': '4.1 Kantonale Energie- und Klimapolitik: Kantonale Richtpläne - Wurden die erschliessbaren Potentiale an erneuerbaren Energien festgelegt und mit dem Natur-, Landschafts- und Ortsbildschutz sowie der Denkmalpflege und der Fischerei im kantonalen Richtplan gem. Positionspapier EnDK vom 02.09.2011 abgestimmt?', 'description@fr': ''}, {'name': 'fr_0402', 'type': 'string', 'format': 'default', 'title@de': '4.2 - Wurden bestehende und neu notwendige Energieversorgungsnetze (Strom, Gas und Fernwärme) mit anderen räumlichen Interessen im kantonalen Richtplan gem. Positionspapier EnDK vom 02.09.2011 festgelegt und abgestimmt?', 'title@fr': '', 'description@de': '4.2 Kantonale Energie- und Klimapolitik: Kantonale Richtpläne - Wurden bestehende und neu notwendige Energieversorgungsnetze (Strom, Gas und Fernwärme) mit anderen räumlichen Interessen im kantonalen Richtplan gem. Positionspapier EnDK vom 02.09.2011 festgelegt und abgestimmt?', 'description@fr': ''}, {'name': 'fr_0403', 'type': 'string', 'format': 'default', 'title@de': '4.3 - Bemerkungen', 'title@fr': '', 'description@de': '4.3 Kantonale Energie- und Klimapolitik: Kantonale Richtpläne - Bemerkungen', 'description@fr': ''}, {'name': 'fr_0501', 'type': 'string', 'format': 'default', 'title@de': '5.1 - Vollzugsbehörde Gebäudebereich', 'title@fr': '', 'description@de': '5.1 Vollzug: Organisation Gebäudebereich - Vollzugsbehörde Gebäudebereich', 'description@fr': ''}, {'name': 'fr_0502', 'type': 'string', 'format': 'default', 'title@de': '5.2 - Projektnachweis gemäss Art. 1.52 MuKEn 2014', 'title@fr': '', 'description@de': '5.2 Vollzug: Organisation Gebäudebereich - Projektnachweis gemäss Art. 1.52 MuKEn 2014', 'description@fr': ''}, {'name': 'fr_0503', 'type': 'string', 'format': 'default', 'title@de': '5.3 - Übertragung von Vollzugsaufgaben an Private gemäss Art. 1.53 MuKEn 2014', 'title@fr': '', 'description@de': '5.3 Vollzug: Organisation Gebäudebereich - Übertragung von Vollzugsaufgaben an Private gemäss Art. 1.53 MuKEn 2014', 'description@fr': ''}, {'name': 'fr_0504', 'type': 'string', 'format': 'default', 'title@de': '5.4 - Prüfstelle Projektnachweis im Zusammenhang mit  Art. 1.52/1.53 MuKEn 2014', 'title@fr': '', 'description@de': '5.4 Vollzug: Organisation Gebäudebereich - Prüfstelle Projektnachweis im Zusammenhang mit  Art. 1.52/1.53 MuKEn 2014', 'description@fr': ''}, {'name': 'fr_0505', 'type': 'string', 'format': 'default', 'title@de': '5.5 - Ausführungs-bestätigung gemäss MuKEn 2014 – Modul 7', 'title@fr': '', 'description@de': '5.5 Vollzug: Organisation Gebäudebereich - Ausführungs-bestätigung gemäss MuKEn 2014 – Modul 7', 'description@fr': ''}, {'name': 'fr_0506', 'type': 'string', 'format': 'default', 'title@de': '5.6 - Bemerkungen', 'title@fr': '', 'description@de': '5.6 Vollzug: Organisation Gebäudebereich - Bemerkungen', 'description@fr': ''}, {'name': 'fr_0601', 'type': 'string', 'format': 'default', 'title@de': '6.1 - Vollzugsunterstützung für Behörden, Vollzugsverantwortliche', 'title@fr': '', 'description@de': '6.1 Vollzug: Unterstützung, Einschätzung Qualität, Probleme - Vollzugsunterstützung für Behörden, Vollzugsverantwortliche', 'description@fr': ''}, {'name': 'fr_0602', 'type': 'string', 'format': 'default', 'title@de': '6.2 - Vollzugsunterstützung für Architekten, Planer, Baufachleute, Handwerker', 'title@fr': '', 'description@de': '6.2 Vollzug: Unterstützung, Einschätzung Qualität, Probleme - Vollzugsunterstützung für Architekten, Planer, Baufachleute, Handwerker', 'description@fr': ''}, {'name': 'fr_0603', 'type': 'string', 'format': 'default', 'title@de': '6.3 - Vom Kanton durchgeführte Vollzugsuntersuchungen, Stichprobenkontrollen', 'title@fr': '', 'description@de': '6.3 Vollzug: Unterstützung, Einschätzung Qualität, Probleme - Vom Kanton durchgeführte Vollzugsuntersuchungen, Stichprobenkontrollen', 'description@fr': ''}, {'name': 'fr_0604', 'type': 'string', 'format': 'default', 'title@de': '6.4 - Einschätzung Qualität, Probleme beim Vollzug auf kantonaler und kommunaler Ebene', 'title@fr': '', 'description@de': '6.4 Vollzug: Unterstützung, Einschätzung Qualität, Probleme - Einschätzung Qualität, Probleme beim Vollzug auf kantonaler und kommunaler Ebene', 'description@fr': ''}, {'name': 'fr_0605', 'type': 'string', 'format': 'default', 'title@de': '6.5 - Bemerkungen', 'title@fr': '', 'description@de': '6.5 Vollzug: Unterstützung, Einschätzung Qualität, Probleme - Bemerkungen', 'description@fr': ''}, {'name': 'fr_0701', 'type': 'string', 'format': 'default', 'title@de': '7.1 - Anforderungen und Nachweis winterlicher Wärmeschutz gemäss Art. 1.7 MuKEn 2014', 'title@fr': '', 'description@de': '7.1 Gesetzgebung: Winterlicher und sommerlicher Wärmeschutz von Gebäuden - Anforderungen und Nachweis winterlicher Wärmeschutz gemäss Art. 1.7 MuKEn 2014', 'description@fr': ''}, {'name': 'fr_0702', 'type': 'string', 'format': 'default', 'title@de': '7.2 - Anforderungen und Nachweis sommerlicher Wärmeschutz gemäss Art. 1.8 MuKEn 2014', 'title@fr': '', 'description@de': '7.2 Gesetzgebung: Winterlicher und sommerlicher Wärmeschutz von Gebäuden - Anforderungen und Nachweis sommerlicher Wärmeschutz gemäss Art. 1.8 MuKEn 2014', 'description@fr': ''}, {'name': 'fr_0703', 'type': 'string', 'format': 'default', 'title@de': '7.3 - Befreiung/ Erleichterung gemäss Art. 1.9 MuKEn 2014', 'title@fr': '', 'description@de': '7.3 Gesetzgebung: Winterlicher und sommerlicher Wärmeschutz von Gebäuden - Befreiung/ Erleichterung gemäss Art. 1.9 MuKEn 2014', 'description@fr': ''}, {'name': 'fr_0704', 'type': 'string', 'format': 'default', 'title@de': '7.4 - Bemerkungen', 'title@fr': '', 'description@de': '7.4 Gesetzgebung: Winterlicher und sommerlicher Wärmeschutz von Gebäuden - Bemerkungen', 'description@fr': ''}, {'name': 'fr_0801', 'type': 'string', 'format': 'default', 'title@de': '8.1 - Kühlräume gemäss Art. 1.10 MuKEn 2014', 'title@fr': '', 'description@de': '8.1 Gesetzgebung: Wärmeschutz von Kühlräumen und Gewächshäusern, Wärmedämmung/Ausnützung, Mitzählung Wärmedämmung/erneuerbare Energie bei Abständen - Kühlräume gemäss Art. 1.10 MuKEn 2014', 'description@fr': ''}, {'name': 'fr_0802', 'type': 'string', 'format': 'default', 'title@de': '8.2 - Gewächshäuser und beheizte Traglufthallen gemäss Art. 1.11 MuKEn 2014', 'title@fr': '', 'description@de': '8.2 Gesetzgebung: Wärmeschutz von Kühlräumen und Gewächshäusern, Wärmedämmung/Ausnützung, Mitzählung Wärmedämmung/erneuerbare Energie bei Abständen - Gewächshäuser und beheizte Traglufthallen gemäss Art. 1.11 MuKEn 2014', 'description@fr': ''}, {'name': 'fr_0803', 'type': 'string', 'format': 'default', 'title@de': '8.3 - Wärmedämmung/ Ausnützung gemäss MuKEn 2014 – Modul 11', 'title@fr': '', 'description@de': '8.3 Gesetzgebung: Wärmeschutz von Kühlräumen und Gewächshäusern, Wärmedämmung/Ausnützung, Mitzählung Wärmedämmung/erneuerbare Energie bei Abständen - Wärmedämmung/ Ausnützung gemäss MuKEn 2014 – Modul 11', 'description@fr': ''}, {'name': 'fr_0804', 'type': 'string', 'format': 'default', 'title@de': '8.4 - Wird bei beheizten Gebäuden die Überschreitung von maximal 20 cm für die Wärmedämmung oder Anlagen zur besseren Nutzung erneuerbarer Energien bei Gebäudehöhe, Gebäude-, Grenz-, Gewässer-, Strassen- oder Parkplatzabständen und Baulinien nicht mitgezählt (gem. Art. 9 Abs. 3 Bst. e EnG)?', 'title@fr': '', 'description@de': '8.4 Gesetzgebung: Wärmeschutz von Kühlräumen und Gewächshäusern, Wärmedämmung/Ausnützung, Mitzählung Wärmedämmung/erneuerbare Energie bei Abständen - Wird bei beheizten Gebäuden die Überschreitung von maximal 20 cm für die Wärmedämmung oder Anlagen zur besseren Nutzung erneuerbarer Energien bei Gebäudehöhe, Gebäude-, Grenz-, Gewässer-, Strassen- oder Parkplatzabständen und Baulinien nicht mitgezählt (gem. Art. 9 Abs. 3 Bst. e EnG)?', 'description@fr': ''}, {'name': 'fr_0805', 'type': 'string', 'format': 'default', 'title@de': '8.5 - Bemerkungen', 'title@fr': '', 'description@de': '8.5 Gesetzgebung: Wärmeschutz von Kühlräumen und Gewächshäusern, Wärmedämmung/Ausnützung, Mitzählung Wärmedämmung/erneuerbare Energie bei Abständen - Bemerkungen', 'description@fr': ''}, {'name': 'fr_0901', 'type': 'string', 'format': 'default', 'title@de': '9.1 - Wärmeerzeugung gemäss Art. 1.15 MuKEn 2014', 'title@fr': '', 'description@de': '9.1 Gesetzgebung: Wärmeerzeugung, elektrische Widerstandsheizungen, Wassererwärmer - Wärmeerzeugung gemäss Art. 1.15 MuKEn 2014', 'description@fr': ''}, {'name': 'fr_0902', 'type': 'string', 'format': 'default', 'title@de': '9.2 - Ortsfeste elektrische Widerstandsheizungen gemäss Art. 1.13/1.14 MuKEn 2014', 'title@fr': '', 'description@de': '9.2 Gesetzgebung: Wärmeerzeugung, elektrische Widerstandsheizungen, Wassererwärmer - Ortsfeste elektrische Widerstandsheizungen gemäss Art. 1.13/1.14 MuKEn 2014', 'description@fr': ''}, {'name': 'fr_0903', 'type': 'string', 'format': 'default', 'title@de': '9.3 - Wassererwärmer gemäss Art. 1.16 MuKEn 2014', 'title@fr': '', 'description@de': '9.3 Gesetzgebung: Wärmeerzeugung, elektrische Widerstandsheizungen, Wassererwärmer - Wassererwärmer gemäss Art. 1.16 MuKEn 2014', 'description@fr': ''}, {'name': 'fr_0904', 'type': 'string', 'format': 'default', 'title@de': '9.4 - Bemerkungen', 'title@fr': '', 'description@de': '9.4 Gesetzgebung: Wärmeerzeugung, elektrische Widerstandsheizungen, Wassererwärmer - Bemerkungen', 'description@fr': ''}, {'name': 'fr_1001', 'type': 'string', 'format': 'default', 'title@de': '10.1 - Sanierungspflicht Elektroheizungen mit Wasserverteilsystem gemäss Art. 1.35/1.36 MuKEn 2014', 'title@fr': '', 'description@de': '10.1 Gesetzgebung: Sanierungspflicht Elektroheizungen und Elektro-Wassererwärmer - Sanierungspflicht Elektroheizungen mit Wasserverteilsystem gemäss Art. 1.35/1.36 MuKEn 2014', 'description@fr': ''}, {'name': 'fr_1002', 'type': 'string', 'format': 'default', 'title@de': '10.2 - Sanierungspflicht zentrale Elektro-Wassererwärmer gemäss Art. 1.37 MuKEn 2014', 'title@fr': '', 'description@de': '10.2 Gesetzgebung: Sanierungspflicht Elektroheizungen und Elektro-Wassererwärmer - Sanierungspflicht zentrale Elektro-Wassererwärmer gemäss Art. 1.37 MuKEn 2014', 'description@fr': ''}, {'name': 'fr_1003', 'type': 'string', 'format': 'default', 'title@de': '10.3 - Sanierungspflicht dezentrale Elektroheizungen gemäss MuKEn 2014 – Modul 6', 'title@fr': '', 'description@de': '10.3 Gesetzgebung: Sanierungspflicht Elektroheizungen und Elektro-Wassererwärmer - Sanierungspflicht dezentrale Elektroheizungen gemäss MuKEn 2014 – Modul 6', 'description@fr': ''}, {'name': 'fr_1004', 'type': 'string', 'format': 'default', 'title@de': '10.4 - Bemerkungen', 'title@fr': '', 'description@de': '10.4 Gesetzgebung: Sanierungspflicht Elektroheizungen und Elektro-Wassererwärmer - Bemerkungen', 'description@fr': ''}, {'name': 'fr_1101', 'type': 'string', 'format': 'default', 'title@de': '11.1 - Wärmeverteilung und  -abgabe gemäss Art. 1.17 MuKEn 2014', 'title@fr': '', 'description@de': '11.1 Gesetzgebung: Wärmeverteilung, Abwärmenutzung, Lüften, Kühlen, Be- und Entfeuchten - Wärmeverteilung und  -abgabe gemäss Art. 1.17 MuKEn 2014', 'description@fr': ''}, {'name': 'fr_1102', 'type': 'string', 'format': 'default', 'title@de': '11.2 - Abwärmenutzung gemäss Art. 1.18 MuKEn 2014', 'title@fr': '', 'description@de': '11.2 Gesetzgebung: Wärmeverteilung, Abwärmenutzung, Lüften, Kühlen, Be- und Entfeuchten - Abwärmenutzung gemäss Art. 1.18 MuKEn 2014', 'description@fr': ''}, {'name': 'fr_1103', 'type': 'string', 'format': 'default', 'title@de': '11.3 - Lüftungstechnische Anlagen inkl. deren Wärmedämmung gemäss Art. 1.19/1.20 MuKEn 2014', 'title@fr': '', 'description@de': '11.3 Gesetzgebung: Wärmeverteilung, Abwärmenutzung, Lüften, Kühlen, Be- und Entfeuchten - Lüftungstechnische Anlagen inkl. deren Wärmedämmung gemäss Art. 1.19/1.20 MuKEn 2014', 'description@fr': ''}, {'name': 'fr_1104', 'type': 'string', 'format': 'default', 'title@de': '11.4 - Kühlen, Be- und Entfeuchten gemäss Art. 1.21 MuKEn 2014', 'title@fr': '', 'description@de': '11.4 Gesetzgebung: Wärmeverteilung, Abwärmenutzung, Lüften, Kühlen, Be- und Entfeuchten - Kühlen, Be- und Entfeuchten gemäss Art. 1.21 MuKEn 2014', 'description@fr': ''}, {'name': 'fr_1105', 'type': 'string', 'format': 'default', 'title@de': '11.5 - Bemerkungen', 'title@fr': '', 'description@de': '11.5 Gesetzgebung: Wärmeverteilung, Abwärmenutzung, Lüften, Kühlen, Be- und Entfeuchten - Bemerkungen', 'description@fr': ''}, {'name': 'fr_1201', 'type': 'string', 'format': 'default', 'title@de': '12.1 - Grenzwerte für den Elektrizitätsbedarf Beleuchtung gemäss Art. 1.33 MuKEn 2014', 'title@fr': '', 'description@de': '12.1 Gesetzgebung: Elektrizitätsbedarf bei Neubauten, Umbauten und Umnutzungen; Wärmenutzung bei Elektrizitätserzeugungsanlagen - Grenzwerte für den Elektrizitätsbedarf Beleuchtung gemäss Art. 1.33 MuKEn 2014', 'description@fr': ''}, {'name': 'fr_1202', 'type': 'string', 'format': 'default', 'title@de': '12.2 - Wärmenutzung bei Elektrizitätserzeugungsanlagen gemäss Art. 1.43 MuKEn 2014', 'title@fr': '', 'description@de': '12.2 Gesetzgebung: Elektrizitätsbedarf bei Neubauten, Umbauten und Umnutzungen; Wärmenutzung bei Elektrizitätserzeugungsanlagen - Wärmenutzung bei Elektrizitätserzeugungsanlagen gemäss Art. 1.43 MuKEn 2014', 'description@fr': ''}, {'name': 'fr_1203', 'type': 'string', 'format': 'default', 'title@de': '12.3 - Bewilligte Elektrizitätserzeugungsanlagen im Berichtsjahr', 'title@fr': '', 'description@de': '12.3 Gesetzgebung: Elektrizitätsbedarf bei Neubauten, Umbauten und Umnutzungen; Wärmenutzung bei Elektrizitätserzeugungsanlagen - Bewilligte Elektrizitätserzeugungsanlagen im Berichtsjahr', 'description@fr': ''}, {'name': 'fr_1205', 'type': 'string', 'format': 'default', 'title@de': '12.5 - Bemerkungen', 'title@fr': '', 'description@de': '12.5 Gesetzgebung: Elektrizitätsbedarf bei Neubauten, Umbauten und Umnutzungen; Wärmenutzung bei Elektrizitätserzeugungsanlagen - Bemerkungen', 'description@fr': ''}, {'name': 'fr_1301', 'type': 'string', 'format': 'default', 'title@de': '13.1 - Heizungen im Freien gemäss MuKEn 2014 – Modul 3 Art. 3.1', 'title@fr': '', 'description@de': '13.1 Gesetzgebung: Heizungen im Freien, beheizte Freiluftbäder, Ferienhäuser und Wohnungen - Heizungen im Freien gemäss MuKEn 2014 – Modul 3 Art. 3.1', 'description@fr': ''}, {'name': 'fr_1302', 'type': 'string', 'format': 'default', 'title@de': '13.2 - Beheizte Freiluftbäder gemäss MuKEn 2014 – Modul 3 Art. 3.2/3.3', 'title@fr': '', 'description@de': '13.2 Gesetzgebung: Heizungen im Freien, beheizte Freiluftbäder, Ferienhäuser und Wohnungen - Beheizte Freiluftbäder gemäss MuKEn 2014 – Modul 3 Art. 3.2/3.3', 'description@fr': ''}, {'name': 'fr_1303', 'type': 'string', 'format': 'default', 'title@de': '13.3 - Ferienhäuser und Ferienwohnungen gemäss MuKEn 2014 – Modul 4', 'title@fr': '', 'description@de': '13.3 Gesetzgebung: Heizungen im Freien, beheizte Freiluftbäder, Ferienhäuser und Wohnungen - Ferienhäuser und Ferienwohnungen gemäss MuKEn 2014 – Modul 4', 'description@fr': ''}, {'name': 'fr_1304', 'type': 'string', 'format': 'default', 'title@de': '13.4 - Gegenüber MuKEn 2014 weitergehende kantonale Anforderungen an gebäudetechnische Anlagen', 'title@fr': '', 'description@de': '13.4 Gesetzgebung: Heizungen im Freien, beheizte Freiluftbäder, Ferienhäuser und Wohnungen - Gegenüber MuKEn 2014 weitergehende kantonale Anforderungen an gebäudetechnische Anlagen', 'description@fr': ''}, {'name': 'fr_1305', 'type': 'string', 'format': 'default', 'title@de': '13.5 - Bemerkungen', 'title@fr': '', 'description@de': '13.5 Gesetzgebung: Heizungen im Freien, beheizte Freiluftbäder, Ferienhäuser und Wohnungen - Bemerkungen', 'description@fr': ''}, {'name': 'fr_1401', 'type': 'string', 'format': 'default', 'title@de': '14.1 - Anforderungen an die Deckung des Wärmebedarfes von Neubauten gemäss Art. 1.22–1.25 MuKEn 2014', 'title@fr': '', 'description@de': '14.1 Gesetzgebung: Wärmebedarf von Neubauten, erneuerbare Wärme beim Wärmeerzeugungsersatz, Eigenstromerzeugung bei Neubauten - Anforderungen an die Deckung des Wärmebedarfes von Neubauten gemäss Art. 1.22–1.25 MuKEn 2014', 'description@fr': ''}, {'name': 'fr_1402', 'type': 'string', 'format': 'default', 'title@de': '14.2 - Erneuerbare Wärme beim Wärmeerzeugungsersatz gemäss Art. 1.29–1.31 MuKEn 2014', 'title@fr': '', 'description@de': '14.2 Gesetzgebung: Wärmebedarf von Neubauten, erneuerbare Wärme beim Wärmeerzeugungsersatz, Eigenstromerzeugung bei Neubauten - Erneuerbare Wärme beim Wärmeerzeugungsersatz gemäss Art. 1.29–1.31 MuKEn 2014', 'description@fr': ''}, {'name': 'fr_1403', 'type': 'string', 'format': 'default', 'title@de': '14.3 - Eigenstromerzeugung bei Neubauten gemäss Art. 1.26–1.28 MuKEn 2014', 'title@fr': '', 'description@de': '14.3 Gesetzgebung: Wärmebedarf von Neubauten, erneuerbare Wärme beim Wärmeerzeugungsersatz, Eigenstromerzeugung bei Neubauten - Eigenstromerzeugung bei Neubauten gemäss Art. 1.26–1.28 MuKEn 2014', 'description@fr': ''}, {'name': 'fr_1404', 'type': 'string', 'format': 'default', 'title@de': '14.4 - Bemerkungen', 'title@fr': '', 'description@de': '14.4 Gesetzgebung: Wärmebedarf von Neubauten, erneuerbare Wärme beim Wärmeerzeugungsersatz, Eigenstromerzeugung bei Neubauten - Bemerkungen', 'description@fr': ''}, {'name': 'fr_1501', 'type': 'string', 'format': 'default', 'title@de': '15.1 - Gebäudeenergieausweis der Kantone (GEAK) gemäss Art. 1.48 MuKEn 2014', 'title@fr': '', 'description@de': '15.1 Gesetzgebung: Gebäudeenergieausweis der Kantone GEAK und GEAK Plus - Gebäudeenergieausweis der Kantone (GEAK) gemäss Art. 1.48 MuKEn 2014', 'description@fr': ''}, {'name': 'fr_1502', 'type': 'string', 'format': 'default', 'title@de': '15.2 - GEAK-Plus-Pflicht bei Förderung von Massnahmen an der Gebäudehülle gemäss Art. 1.50/1.51 MuKEn 2014', 'title@fr': '', 'description@de': '15.2 Gesetzgebung: Gebäudeenergieausweis der Kantone GEAK und GEAK Plus - GEAK-Plus-Pflicht bei Förderung von Massnahmen an der Gebäudehülle gemäss Art. 1.50/1.51 MuKEn 2014', 'description@fr': ''}, {'name': 'fr_1503', 'type': 'string', 'format': 'default', 'title@de': '15.3 - GEAK-Anordnung für bestimmte Bauten gemäss MuKEn 2014 – Modul 9', 'title@fr': '', 'description@de': '15.3 Gesetzgebung: Gebäudeenergieausweis der Kantone GEAK und GEAK Plus - GEAK-Anordnung für bestimmte Bauten gemäss MuKEn 2014 – Modul 9', 'description@fr': ''}, {'name': 'fr_1504', 'type': 'string', 'format': 'default', 'title@de': '15.4 - Umsetzungsmassnahmen im Zusammenhang mit dem GEAK resp. GEAK Plus', 'title@fr': '', 'description@de': '15.4 Gesetzgebung: Gebäudeenergieausweis der Kantone GEAK und GEAK Plus - Umsetzungsmassnahmen im Zusammenhang mit dem GEAK resp. GEAK Plus', 'description@fr': ''}, {'name': 'fr_1505', 'type': 'string', 'format': 'default', 'title@de': '15.5 - Bemerkungen', 'title@fr': '', 'description@de': '15.5 Gesetzgebung: Gebäudeenergieausweis der Kantone GEAK und GEAK Plus - Bemerkungen', 'description@fr': ''}, {'name': 'fr_1601', 'type': 'string', 'format': 'default', 'title@de': '16.1 - Ausrüstungspflicht Gebäudeautomation bei Neubauten gemäss MuKEn 2014-Modul 5', 'title@fr': '', 'description@de': '16.1 Gesetzgebung: Ausrüstungspflicht Gebäudeautomation bei Neubauten, Betriebsoptimierung, Bewilligungspflicht von Solaranlagen - Ausrüstungspflicht Gebäudeautomation bei Neubauten gemäss MuKEn 2014-Modul 5', 'description@fr': ''}, {'name': 'fr_1602', 'type': 'string', 'format': 'default', 'title@de': '16.2 - Betriebsoptimierung gemäss MuKEn 2014-Modul 8', 'title@fr': '', 'description@de': '16.2 Gesetzgebung: Ausrüstungspflicht Gebäudeautomation bei Neubauten, Betriebsoptimierung, Bewilligungspflicht von Solaranlagen - Betriebsoptimierung gemäss MuKEn 2014-Modul 8', 'description@fr': ''}, {'name': 'fr_1603', 'type': 'string', 'format': 'default', 'title@de': '16.3 - Solaranlagen gemäss Art. 18a Abs. 2 Bst. a RPG: Hat der Kanton Bauzonen festgelegt, in denen auch andere Solaranlagen ohne Baubewilligung erstellt werden können?', 'title@fr': '', 'description@de': '16.3 Gesetzgebung: Ausrüstungspflicht Gebäudeautomation bei Neubauten, Betriebsoptimierung, Bewilligungspflicht von Solaranlagen - Solaranlagen gemäss Art. 18a Abs. 2 Bst. a RPG: Hat der Kanton Bauzonen festgelegt, in denen auch andere Solaranlagen ohne Baubewilligung erstellt werden können?', 'description@fr': ''}, {'name': 'fr_1604', 'type': 'string', 'format': 'default', 'title@de': '16.4 - Solaranlagen gemäss Art. 18a Abs. 2 Bst. b RPG: Sieht der Kanton in klar umschriebenen Typen von Schutzzonen eine Baubewilligungspflicht vor?', 'title@fr': '', 'description@de': '16.4 Gesetzgebung: Ausrüstungspflicht Gebäudeautomation bei Neubauten, Betriebsoptimierung, Bewilligungspflicht von Solaranlagen - Solaranlagen gemäss Art. 18a Abs. 2 Bst. b RPG: Sieht der Kanton in klar umschriebenen Typen von Schutzzonen eine Baubewilligungspflicht vor?', 'description@fr': ''}, {'name': 'fr_1605', 'type': 'string', 'format': 'default', 'title@de': '16.5 - Bemerkungen', 'title@fr': '', 'description@de': '16.5 Gesetzgebung: Ausrüstungspflicht Gebäudeautomation bei Neubauten, Betriebsoptimierung, Bewilligungspflicht von Solaranlagen - Bemerkungen', 'description@fr': ''}, {'name': 'fr_1701', 'type': 'string', 'format': 'default', 'title@de': '17.1 - VHKA - Ausrüstungspflicht bei Neubauten gemäss Art. 1.38/1.40 - 1.42 MuKEn 2014', 'title@fr': '', 'description@de': '17.1 Gesetzgebung: Verbrauchsabhängige Heiz- und Warmwasserkostenabrechnung - VHKA - Ausrüstungspflicht bei Neubauten gemäss Art. 1.38/1.40 - 1.42 MuKEn 2014', 'description@fr': ''}, {'name': 'fr_1702', 'type': 'string', 'format': 'default', 'title@de': '17.2 - VHKA - Ausrüstungspflicht bei wesentlichen Erneuerungen gemäss Art. 1.39 - 1.42 MuKEn 2014', 'title@fr': '', 'description@de': '17.2 Gesetzgebung: Verbrauchsabhängige Heiz- und Warmwasserkostenabrechnung - VHKA - Ausrüstungspflicht bei wesentlichen Erneuerungen gemäss Art. 1.39 - 1.42 MuKEn 2014', 'description@fr': ''}, {'name': 'fr_1703', 'type': 'string', 'format': 'default', 'title@de': '17.3 - VHKA in bestehenden Gebäuden gemäss MuKEn 2014-Modul 2', 'title@fr': '', 'description@de': '17.3 Gesetzgebung: Verbrauchsabhängige Heiz- und Warmwasserkostenabrechnung - VHKA in bestehenden Gebäuden gemäss MuKEn 2014-Modul 2', 'description@fr': ''}, {'name': 'fr_1704', 'type': 'string', 'format': 'default', 'title@de': '17.4 - Bemerkungen', 'title@fr': '', 'description@de': '17.4 Gesetzgebung: Verbrauchsabhängige Heiz- und Warmwasserkostenabrechnung - Bemerkungen', 'description@fr': ''}, {'name': 'fr_1801', 'type': 'string', 'format': 'default', 'title@de': '18.1 - Anforderungen für Grossverbraucher gemäss Art. 1.44 - 1.46 MuKEn 2014', 'title@fr': '', 'description@de': '18.1 Gesetzgebung: Grossverbraucher - Anforderungen für Grossverbraucher gemäss Art. 1.44 - 1.46 MuKEn 2014', 'description@fr': ''}, {'name': 'fr_1802', 'type': 'string', 'format': 'default', 'title@de': '18.2 - Stand der Umsetzung Grossverbrauchermodell', 'title@fr': '', 'description@de': '18.2 Gesetzgebung: Grossverbraucher - Stand der Umsetzung Grossverbrauchermodell', 'description@fr': ''}, {'name': 'fr_1803', 'type': 'string', 'format': 'default', 'title@de': '18.3 - Anzahl Grossverbraucher', 'title@fr': '', 'description@de': '18.3 Gesetzgebung: Grossverbraucher - Anzahl Grossverbraucher', 'description@fr': ''}, {'name': 'fr_1804', 'type': 'string', 'format': 'default', 'title@de': '18.4 - Umsetzungsmassnahmen im Zusammenhang mit den Grossverbrauchern', 'title@fr': '', 'description@de': '18.4 Gesetzgebung: Grossverbraucher - Umsetzungsmassnahmen im Zusammenhang mit den Grossverbrauchern', 'description@fr': ''}, {'name': 'fr_1805', 'type': 'string', 'format': 'default', 'title@de': '18.5 - Bemerkungen', 'title@fr': '', 'description@de': '18.5 Gesetzgebung: Grossverbraucher - Bemerkungen', 'description@fr': ''}, {'name': 'fr_1901', 'type': 'string', 'format': 'default', 'title@de': '19.1 - Rechtsgrundlage Anschlussgesetzgebung zum StromVG', 'title@fr': '', 'description@de': '19.1 Gesetzgebung: Stromversorgung - Bezeichnung der Netzgebiete/Leistungsauftrag - Rechtsgrundlage Anschlussgesetzgebung zum StromVG', 'description@fr': ''}, {'name': 'fr_1902', 'type': 'string', 'format': 'default', 'title@de': '19.2 - Ist die Bezeichnung der Netzgebiete flächendeckend erfolgt (gem. Art. 5 Abs. 1 StromVG)?', 'title@fr': '', 'description@de': '19.2 Gesetzgebung: Stromversorgung - Bezeichnung der Netzgebiete/Leistungsauftrag - Ist die Bezeichnung der Netzgebiete flächendeckend erfolgt (gem. Art. 5 Abs. 1 StromVG)?', 'description@fr': ''}, {'name': 'fr_1903', 'type': 'string', 'format': 'default', 'title@de': '19.3 - Bestehen Leistungsaufträge an die Netzbetreiber (gem. Art. 5 Abs. 1 StromVG)?', 'title@fr': '', 'description@de': '19.3 Gesetzgebung: Stromversorgung - Bezeichnung der Netzgebiete/Leistungsauftrag - Bestehen Leistungsaufträge an die Netzbetreiber (gem. Art. 5 Abs. 1 StromVG)?', 'description@fr': ''}, {'name': 'fr_1904', 'type': 'string', 'format': 'default', 'title@de': '19.4 - Entscheidungsbehörde bei Streitfällen bezüglich Anschlussgarantie (gem. Art. 5 Abs. 2 StromVG)', 'title@fr': '', 'description@de': '19.4 Gesetzgebung: Stromversorgung - Bezeichnung der Netzgebiete/Leistungsauftrag - Entscheidungsbehörde bei Streitfällen bezüglich Anschlussgarantie (gem. Art. 5 Abs. 2 StromVG)', 'description@fr': ''}, {'name': 'fr_1905', 'type': 'string', 'format': 'default', 'title@de': '19.5 - Bemerkungen', 'title@fr': '', 'description@de': '19.5 Gesetzgebung: Stromversorgung - Bezeichnung der Netzgebiete/Leistungsauftrag - Bemerkungen', 'description@fr': ''}, {'name': 'fr_2001', 'type': 'string', 'format': 'default', 'title@de': '20.1 - Anschlusspflicht ausserhalb des Netzgebietes: Sind die Netzbetreiber nach den kantonalen Rechtsgrundlagen verpflichtet, auch Endverbraucher ausserhalb ihres Netzgebietes an das Netz anzuschliessen (gem. Art. 5 Abs. 3 StromVG)?', 'title@fr': '', 'description@de': '20.1 Gesetzgebung: Stromversorgung - Anschlusspflichten - Anschlusspflicht ausserhalb des Netzgebietes: Sind die Netzbetreiber nach den kantonalen Rechtsgrundlagen verpflichtet, auch Endverbraucher ausserhalb ihres Netzgebietes an das Netz anzuschliessen (gem. Art. 5 Abs. 3 StromVG)?', 'description@fr': ''}, {'name': 'fr_2002', 'type': 'string', 'format': 'default', 'title@de': '20.2 - Anschlusspflicht ausserhalb der Bauzonen: Sind die Netzbetreiber nach den kantonalen Rechtsgrundlagen verpflichtet, auch Endverbraucher ausserhalb der Bauzone an das Netz anzuschliessen (gem. Art. 5 Abs. 4 StromVG)? ', 'title@fr': '', 'description@de': '20.2 Gesetzgebung: Stromversorgung - Anschlusspflichten - Anschlusspflicht ausserhalb der Bauzonen: Sind die Netzbetreiber nach den kantonalen Rechtsgrundlagen verpflichtet, auch Endverbraucher ausserhalb der Bauzone an das Netz anzuschliessen (gem. Art. 5 Abs. 4 StromVG)? ', 'description@fr': ''}, {'name': 'fr_2003', 'type': 'string', 'format': 'default', 'title@de': '20.3 - Netznutzungsentgelt: Bestehen Rechtsgrundlagen für den Erlass von Massnahmen gem. Art. 14 Abs. 4 Satz 1 StromVG?', 'title@fr': '', 'description@de': '20.3 Gesetzgebung: Stromversorgung - Anschlusspflichten - Netznutzungsentgelt: Bestehen Rechtsgrundlagen für den Erlass von Massnahmen gem. Art. 14 Abs. 4 Satz 1 StromVG?', 'description@fr': ''}, {'name': 'fr_2004', 'type': 'string', 'format': 'default', 'title@de': '20.4 - Entscheidungsbehörde bei Streitfällen bezüglich Anschlusspflicht ausserhalb des Netzgebietes resp. der Bauzone', 'title@fr': '', 'description@de': '20.4 Gesetzgebung: Stromversorgung - Anschlusspflichten - Entscheidungsbehörde bei Streitfällen bezüglich Anschlusspflicht ausserhalb des Netzgebietes resp. der Bauzone', 'description@fr': ''}, {'name': 'fr_2005', 'type': 'string', 'format': 'default', 'title@de': '20.5 - Bemerkungen', 'title@fr': '', 'description@de': '20.5 Gesetzgebung: Stromversorgung - Anschlusspflichten - Bemerkungen', 'description@fr': ''}, {'name': 'fr_2101', 'type': 'string', 'format': 'default', 'title@de': '21.1 - Rechtsgrundlage zur Wasserkraft-Nutzung', 'title@fr': '', 'description@de': '21.1 Gesetzgebung: Wasserkraft-Nutzung - Anschlusspflichten - Rechtsgrundlage zur Wasserkraft-Nutzung', 'description@fr': ''}, {'name': 'fr_2102', 'type': 'string', 'format': 'default', 'title@de': '21.2 - Änderungen der Rechtsgrundlagen im Berichtsjahr', 'title@fr': '', 'description@de': '21.2 Gesetzgebung: Wasserkraft-Nutzung - Anschlusspflichten - Änderungen der Rechtsgrundlagen im Berichtsjahr', 'description@fr': ''}, {'name': 'fr_2103', 'type': 'string', 'format': 'default', 'title@de': '21.3 - Vollzugsbehörde Energieversorgung (Wasserkraft-Konzessionen)', 'title@fr': '', 'description@de': '21.3 Gesetzgebung: Wasserkraft-Nutzung - Anschlusspflichten - Vollzugsbehörde Energieversorgung (Wasserkraft-Konzessionen)', 'description@fr': ''}, {'name': 'fr_2104', 'type': 'string', 'format': 'default', 'title@de': '21.4 - Massnahmen zur Förderung der Wasserkraft mit Zubauzielen', 'title@fr': '', 'description@de': '21.4 Gesetzgebung: Wasserkraft-Nutzung - Anschlusspflichten - Massnahmen zur Förderung der Wasserkraft mit Zubauzielen', 'description@fr': ''}, {'name': 'fr_2105', 'type': 'string', 'format': 'default', 'title@de': '21.5 - Erteilte Konzessionen (Neuanlagen, Erweiterungen, Konzessionserneuerungen) im Berichtsjahr (Anlagen > 300 kW)', 'title@fr': '', 'description@de': '21.5 Gesetzgebung: Wasserkraft-Nutzung - Anschlusspflichten - Erteilte Konzessionen (Neuanlagen, Erweiterungen, Konzessionserneuerungen) im Berichtsjahr (Anlagen > 300 kW)', 'description@fr': ''}, {'name': 'fr_2106', 'type': 'string', 'format': 'default', 'title@de': '21.6 - Bemerkungen', 'title@fr': '', 'description@de': '21.6 Gesetzgebung: Wasserkraft-Nutzung - Anschlusspflichten - Bemerkungen', 'description@fr': ''}, {'name': 'fr_2201', 'type': 'string', 'format': 'default', 'title@de': '22.1 - Rechtsgrundlage Nutzung tiefer und untiefer Untergrund', 'title@fr': '', 'description@de': '22.1 Gesetzgebung: Nutzung des Untergrundes (Geothermie, Kohlenwasserstoffe, Speicherung) - Rechtsgrundlage Nutzung tiefer und untiefer Untergrund', 'description@fr': ''}, {'name': 'fr_2202', 'type': 'string', 'format': 'default', 'title@de': '22.2 - Vollzugsbehörde (Konzession, Aufsicht)', 'title@fr': '', 'description@de': '22.2 Gesetzgebung: Nutzung des Untergrundes (Geothermie, Kohlenwasserstoffe, Speicherung) - Vollzugsbehörde (Konzession, Aufsicht)', 'description@fr': ''}, {'name': 'fr_2203', 'type': 'string', 'format': 'default', 'title@de': '22.3 - Massnahmen zur Förderung der energetischen Nutzung des Untergrundes', 'title@fr': '', 'description@de': '22.3 Gesetzgebung: Nutzung des Untergrundes (Geothermie, Kohlenwasserstoffe, Speicherung) - Massnahmen zur Förderung der energetischen Nutzung des Untergrundes', 'description@fr': ''}, {'name': 'fr_2204', 'type': 'string', 'format': 'default', 'title@de': '22.4 - Erteilte Neukonzessionierungen im Berichtsjahr', 'title@fr': '', 'description@de': '22.4 Gesetzgebung: Nutzung des Untergrundes (Geothermie, Kohlenwasserstoffe, Speicherung) - Erteilte Neukonzessionierungen im Berichtsjahr', 'description@fr': ''}, {'name': 'fr_2205', 'type': 'string', 'format': 'default', 'title@de': '22.5 - Bemerkungen', 'title@fr': '', 'description@de': '22.5 Gesetzgebung: Nutzung des Untergrundes (Geothermie, Kohlenwasserstoffe, Speicherung) - Bemerkungen', 'description@fr': ''}, {'name': 'fr_2301', 'type': 'string', 'format': 'default', 'title@de': '23.1 - Rechtsgrundlage Förderung gemäss Art. 1.49 MuKEn 2014', 'title@fr': '', 'description@de': '23.1 Direkte Förderung: Förderprogramm, Budget - Rechtsgrundlage Förderung gemäss Art. 1.49 MuKEn 2014', 'description@fr': ''}, {'name': 'fr_2302', 'type': 'string', 'format': 'default', 'title@de': '23.2 - Kantonales Förderprogramm: von den Kantonen ausbezahlte Förderbeiträge (inkl. allfälliger Fördermassnahmen ausserhalb des Gebäudeprogramms)', 'title@fr': '', 'description@de': '23.2 Direkte Förderung: Förderprogramm, Budget - Kantonales Förderprogramm: von den Kantonen ausbezahlte Förderbeiträge (inkl. allfälliger Fördermassnahmen ausserhalb des Gebäudeprogramms)', 'description@fr': ''}, {'name': 'fr_2303', 'type': 'string', 'format': 'default', 'title@de': '23.3 - Förderung direkter Massnahmen', 'title@fr': '', 'description@de': '23.3 Direkte Förderung: Förderprogramm, Budget - Förderung direkter Massnahmen', 'description@fr': ''}, {'name': 'fr_2304', 'type': 'string', 'format': 'default', 'title@de': '23.4 - Umsetzung harmonisiertes Fördermodell der Kantone HFM 2015', 'title@fr': '', 'description@de': '23.4 Direkte Förderung: Förderprogramm, Budget - Umsetzung harmonisiertes Fördermodell der Kantone HFM 2015', 'description@fr': ''}, {'name': 'fr_2305', 'type': 'string', 'format': 'default', 'title@de': '23.5 - Bemerkungen', 'title@fr': '', 'description@de': '23.5 Direkte Förderung: Förderprogramm, Budget - Bemerkungen', 'description@fr': ''}, {'name': 'fr_2401', 'type': 'string', 'format': 'default', 'title@de': '24.1 - Organisation und Anzahl Beratungsstellen', 'title@fr': '', 'description@de': '24.1 Indirekte Förderung im Bereich Energie und Klima: Beratung, Information, Aus- und Weiterbildung - Organisation und Anzahl Beratungsstellen', 'description@fr': ''}, {'name': 'fr_2402', 'type': 'string', 'format': 'default', 'title@de': '24.2 - Beratungsangebot resp. Aufgaben der öffentlichen Energieberatungsstellen', 'title@fr': '', 'description@de': '24.2 Indirekte Förderung im Bereich Energie und Klima: Beratung, Information, Aus- und Weiterbildung - Beratungsangebot resp. Aufgaben der öffentlichen Energieberatungsstellen', 'description@fr': ''}, {'name': 'fr_2403', 'type': 'string', 'format': 'default', 'title@de': '24.3 - Förderung indirekter Massnahmen', 'title@fr': '', 'description@de': '24.3 Indirekte Förderung im Bereich Energie und Klima: Beratung, Information, Aus- und Weiterbildung - Förderung indirekter Massnahmen', 'description@fr': ''}, {'name': 'fr_2404', 'type': 'string', 'format': 'default', 'title@de': '24.4 - Bemerkungen', 'title@fr': '', 'description@de': '24.4 Indirekte Förderung im Bereich Energie und Klima: Beratung, Information, Aus- und Weiterbildung - Bemerkungen', 'description@fr': ''}, {'name': 'fr_2501', 'type': 'string', 'format': 'default', 'title@de': '25.1 - Steuererleichterungen für energetische Massnahmen', 'title@fr': '', 'description@de': '25.1 Förderung: Weitere Förderinstrumente - Steuererleichterungen für energetische Massnahmen', 'description@fr': ''}, {'name': 'fr_2502', 'type': 'string', 'format': 'default', 'title@de': '25.2 - Ausnutzungsbonus von verbesserten Bauweisen', 'title@fr': '', 'description@de': '25.2 Förderung: Weitere Förderinstrumente - Ausnutzungsbonus von verbesserten Bauweisen', 'description@fr': ''}, {'name': 'fr_2503', 'type': 'string', 'format': 'default', 'title@de': '25.3 - Förderung Pilot- und Demonstrationsanlagen', 'title@fr': '', 'description@de': '25.3 Förderung: Weitere Förderinstrumente - Förderung Pilot- und Demonstrationsanlagen', 'description@fr': ''}, {'name': 'fr_2504', 'type': 'string', 'format': 'default', 'title@de': '25.4 - Förderung Forschung und Entwicklung', 'title@fr': '', 'description@de': '25.4 Förderung: Weitere Förderinstrumente - Förderung Forschung und Entwicklung', 'description@fr': ''}, {'name': 'fr_2505', 'type': 'string', 'format': 'default', 'title@de': '25.5 - Bemerkungen, weitere Förderinstrumente', 'title@fr': '', 'description@de': '25.5 Förderung: Weitere Förderinstrumente - Bemerkungen, weitere Förderinstrumente', 'description@fr': ''}, {'name': 'fr_2601', 'type': 'string', 'format': 'default', 'title@de': '26.1 - Energiestädte', 'title@fr': '', 'description@de': '26.1 Gemeinden, Energiestädte - Energiestädte', 'description@fr': ''}, {'name': 'fr_2602', 'type': 'string', 'format': 'default', 'title@de': '26.2 - Beiträge des Kantons an Gemeinden im Rahmen des Energiestadtprozesses', 'title@fr': '', 'description@de': '26.2 Gemeinden, Energiestädte - Beiträge des Kantons an Gemeinden im Rahmen des Energiestadtprozesses', 'description@fr': ''}, {'name': 'fr_2603', 'type': 'string', 'format': 'default', 'title@de': '26.3 - Gemeinden mit Förderprogrammen', 'title@fr': '', 'description@de': '26.3 Gemeinden, Energiestädte - Gemeinden mit Förderprogrammen', 'description@fr': ''}, {'name': 'fr_2604', 'type': 'string', 'format': 'default', 'title@de': '26.4 - Bemerkungen, weitere Unterstützung der Gemeinden', 'title@fr': '', 'description@de': '26.4 Gemeinden, Energiestädte - Bemerkungen, weitere Unterstützung der Gemeinden', 'description@fr': ''}, {'name': 'fr_2701', 'type': 'string', 'format': 'default', 'title@de': '27.1 - Rechtsgrundlage zur Unterstützung des öffentlichen Verkehrs, des Langsamverkehrs und der Förderung des effizienten Verkehrs', 'title@fr': '', 'description@de': '27.1 Förderung öffentlicher Verkehr, Langsamverkehr und effizienter Verkehr - Rechtsgrundlage zur Unterstützung des öffentlichen Verkehrs, des Langsamverkehrs und der Förderung des effizienten Verkehrs', 'description@fr': ''}, {'name': 'fr_2702', 'type': 'string', 'format': 'default', 'title@de': '27.2 - Aktivitäten im Bereich effizienter Fahrzeuge', 'title@fr': '', 'description@de': '27.2 Förderung öffentlicher Verkehr, Langsamverkehr und effizienter Verkehr - Aktivitäten im Bereich effizienter Fahrzeuge', 'description@fr': ''}, {'name': 'fr_2703', 'type': 'string', 'format': 'default', 'title@de': '27.3 - Massnahmen zur Förderung des öffentlichen Verkehrs, des Langsamverkehrs sowie der kombinierten Mobilität', 'title@fr': '', 'description@de': '27.3 Förderung öffentlicher Verkehr, Langsamverkehr und effizienter Verkehr - Massnahmen zur Förderung des öffentlichen Verkehrs, des Langsamverkehrs sowie der kombinierten Mobilität', 'description@fr': ''}, {'name': 'fr_2704', 'type': 'string', 'format': 'default', 'title@de': '27.4 - Mobilitätsmanagement (MM)', 'title@fr': '', 'description@de': '27.4 Förderung öffentlicher Verkehr, Langsamverkehr und effizienter Verkehr - Mobilitätsmanagement (MM)', 'description@fr': ''}, {'name': 'fr_2705', 'type': 'string', 'format': 'default', 'title@de': '27.5 - Weitere Aktivitäten im Bereich effiziente Mobilität', 'title@fr': '', 'description@de': '27.5 Förderung öffentlicher Verkehr, Langsamverkehr und effizienter Verkehr - Weitere Aktivitäten im Bereich effiziente Mobilität', 'description@fr': ''}, {'name': 'fr_2801', 'type': 'string', 'format': 'default', 'title@de': '28.1 - Rechtsgrundlage zur Differenzierung der Motorfahrzeugsteuer', 'title@fr': '', 'description@de': '28.1 Differenzierung der Motorfahrzeugsteuer - Rechtsgrundlage zur Differenzierung der Motorfahrzeugsteuer', 'description@fr': ''}, {'name': 'fr_2802', 'type': 'string', 'format': 'default', 'title@de': '28.2 - Differenzierung der Motorfahrzeugsteuer', 'title@fr': '', 'description@de': '28.2 Differenzierung der Motorfahrzeugsteuer - Differenzierung der Motorfahrzeugsteuer', 'description@fr': ''}, {'name': 'fr_2803', 'type': 'string', 'format': 'default', 'title@de': '28.3 - Bemerkungen', 'title@fr': '', 'description@de': '28.3 Differenzierung der Motorfahrzeugsteuer - Bemerkungen', 'description@fr': ''}, {'name': 'fr_2901', 'type': 'string', 'format': 'default', 'title@de': '29.1 - Grundsatz Vorbild öffentliche Hand gemäss Art. 1.47 MuKEn 2014', 'title@fr': '', 'description@de': '29.1 Vorbildfunktion Kanton: Grundsatz, Minimalanforderungen an Wärmeversorgung und Stromverbrauch, Betriebsoptimierung - Grundsatz Vorbild öffentliche Hand gemäss Art. 1.47 MuKEn 2014', 'description@fr': ''}, {'name': 'fr_2902', 'type': 'string', 'format': 'default', 'title@de': '29.2 - Minimalanforderungen gemäss Art. 1.47 MuKEn 2014 Absatz 2 1. Satz: Die Wärmeversorgung wird bis 2050 zu 100% ohne fossile Brennstoffe realisiert.', 'title@fr': '', 'description@de': '29.2 Vorbildfunktion Kanton: Grundsatz, Minimalanforderungen an Wärmeversorgung und Stromverbrauch, Betriebsoptimierung - Minimalanforderungen gemäss Art. 1.47 MuKEn 2014 Absatz 2 1. Satz: Die Wärmeversorgung wird bis 2050 zu 100% ohne fossile Brennstoffe realisiert.', 'description@fr': ''}, {'name': 'fr_2903', 'type': 'string', 'format': 'default', 'title@de': '29.3 - Minimalanforderungen gemäss Art. 1.47 MuKEn 2014 Absatz 2 2. Satz: Der Stromverbrauch wird bis 2030 um 20% gegenüber dem Niveau von 1990 gesenkt oder mit neu zugebauten erneuerbaren Energien gedeckt.', 'title@fr': '', 'description@de': '29.3 Vorbildfunktion Kanton: Grundsatz, Minimalanforderungen an Wärmeversorgung und Stromverbrauch, Betriebsoptimierung - Minimalanforderungen gemäss Art. 1.47 MuKEn 2014 Absatz 2 2. Satz: Der Stromverbrauch wird bis 2030 um 20% gegenüber dem Niveau von 1990 gesenkt oder mit neu zugebauten erneuerbaren Energien gedeckt.', 'description@fr': ''}, {'name': 'fr_2904', 'type': 'string', 'format': 'default', 'title@de': '29.4 - Betriebsoptimierung', 'title@fr': '', 'description@de': '29.4 Vorbildfunktion Kanton: Grundsatz, Minimalanforderungen an Wärmeversorgung und Stromverbrauch, Betriebsoptimierung - Betriebsoptimierung', 'description@fr': ''}, {'name': 'fr_2905', 'type': 'string', 'format': 'default', 'title@de': '29.5 - Bemerkungen', 'title@fr': '', 'description@de': '29.5 Vorbildfunktion Kanton: Grundsatz, Minimalanforderungen an Wärmeversorgung und Stromverbrauch, Betriebsoptimierung - Bemerkungen', 'description@fr': ''}, {'name': 'fr_3001', 'type': 'string', 'format': 'default', 'title@de': '30.1 - Energieleitbild kantonales Hochbauamt', 'title@fr': '', 'description@de': '30.1 Vorbildfunktion Kanton: Energieleitbild, Energiebuchhaltung und -Statistik, Einbezug externe Kosten, elektrische Energie, Geräte - Energieleitbild kantonales Hochbauamt', 'description@fr': ''}, {'name': 'fr_3002', 'type': 'string', 'format': 'default', 'title@de': '30.2 - Energiebuchhaltung, Energiestatistik', 'title@fr': '', 'description@de': '30.2 Vorbildfunktion Kanton: Energieleitbild, Energiebuchhaltung und -Statistik, Einbezug externe Kosten, elektrische Energie, Geräte - Energiebuchhaltung, Energiestatistik', 'description@fr': ''}, {'name': 'fr_3003', 'type': 'string', 'format': 'default', 'title@de': '30.3 - Einbezug der externen Kosten bei kantonalen Projekten', 'title@fr': '', 'description@de': '30.3 Vorbildfunktion Kanton: Energieleitbild, Energiebuchhaltung und -Statistik, Einbezug externe Kosten, elektrische Energie, Geräte - Einbezug der externen Kosten bei kantonalen Projekten', 'description@fr': ''}, {'name': 'fr_3004', 'type': 'string', 'format': 'default', 'title@de': '30.4 - Massnahmen im Bereich elektrische Energie, Geräte', 'title@fr': '', 'description@de': '30.4 Vorbildfunktion Kanton: Energieleitbild, Energiebuchhaltung und -Statistik, Einbezug externe Kosten, elektrische Energie, Geräte - Massnahmen im Bereich elektrische Energie, Geräte', 'description@fr': ''}, {'name': 'fr_3101', 'type': 'string', 'format': 'default', 'title@de': '31.1 - Anforderungen an kantonale Neubauten', 'title@fr': '', 'description@de': '31.1 Vorbildfunktion Kanton: Anforderungen an kantonale Bauten (Gebäudestandard), realisierte Projekte - Anforderungen an kantonale Neubauten', 'description@fr': ''}, {'name': 'fr_3102', 'type': 'string', 'format': 'default', 'title@de': '31.2 - Anforderungen an kantonale Gebäudesanierungen', 'title@fr': '', 'description@de': '31.2 Vorbildfunktion Kanton: Anforderungen an kantonale Bauten (Gebäudestandard), realisierte Projekte - Anforderungen an kantonale Gebäudesanierungen', 'description@fr': ''}, {'name': 'fr_3103', 'type': 'string', 'format': 'default', 'title@de': '31.3 - Erstellte und/oder sanierte Gebäude im MINERGIE-Standard (normal, A, P, ECO) im Berichtsjahr', 'title@fr': '', 'description@de': '31.3 Vorbildfunktion Kanton: Anforderungen an kantonale Bauten (Gebäudestandard), realisierte Projekte - Erstellte und/oder sanierte Gebäude im MINERGIE-Standard (normal, A, P, ECO) im Berichtsjahr', 'description@fr': ''}, {'name': 'fr_3104', 'type': 'string', 'format': 'default', 'title@de': '31.4 - Erstellte grössere Anlagen zur Nutzung erneuerbarer Energie resp. Abwärme im Berichtsjahr', 'title@fr': '', 'description@de': '31.4 Vorbildfunktion Kanton: Anforderungen an kantonale Bauten (Gebäudestandard), realisierte Projekte - Erstellte grössere Anlagen zur Nutzung erneuerbarer Energie resp. Abwärme im Berichtsjahr', 'description@fr': ''}, {'name': 'fr_3105', 'type': 'string', 'format': 'default', 'title@de': '31.5 - Bemerkungen, weitere Anforderungen', 'title@fr': '', 'description@de': '31.5 Vorbildfunktion Kanton: Anforderungen an kantonale Bauten (Gebäudestandard), realisierte Projekte - Bemerkungen, weitere Anforderungen', 'description@fr': ''}, {'name': 'fr_3201', 'type': 'string', 'format': 'default', 'title@de': '32.1 - Verwaltungsbauten - Energiekennzahl Wärme in [MJ/m2.a]', 'title@fr': '', 'description@de': '32.1 Vorbildfunktion Kanton: Energiekennzahlen Verwaltungsbauten - Durchschnittliche Energiekennzahl = Summe der Energieverbräuche / Summe der Energiebezugsflächen - Verwaltungsbauten - Energiekennzahl Wärme in [MJ/m2.a]', 'description@fr': ''}, {'name': 'fr_3202', 'type': 'string', 'format': 'default', 'title@de': '32.2 - Verwaltungsbauten - Energiekennzahl Elektrizität in [MJ/m2.a]', 'title@fr': '', 'description@de': '32.2 Vorbildfunktion Kanton: Energiekennzahlen Verwaltungsbauten - Durchschnittliche Energiekennzahl = Summe der Energieverbräuche / Summe der Energiebezugsflächen - Verwaltungsbauten - Energiekennzahl Elektrizität in [MJ/m2.a]', 'description@fr': ''}, {'name': 'fr_3203', 'type': 'string', 'format': 'default', 'title@de': '32.3 - Schulen - Energiekennzahl Wärme in [MJ/m2.a]', 'title@fr': '', 'description@de': '32.3 Vorbildfunktion Kanton: Energiekennzahlen Verwaltungsbauten - Durchschnittliche Energiekennzahl = Summe der Energieverbräuche / Summe der Energiebezugsflächen - Schulen - Energiekennzahl Wärme in [MJ/m2.a]', 'description@fr': ''}, {'name': 'fr_3204', 'type': 'string', 'format': 'default', 'title@de': '32.4 - Schulen - Energiekennzahl Elektrizität in [MJ/m2.a]', 'title@fr': '', 'description@de': '32.4 Vorbildfunktion Kanton: Energiekennzahlen Verwaltungsbauten - Durchschnittliche Energiekennzahl = Summe der Energieverbräuche / Summe der Energiebezugsflächen - Schulen - Energiekennzahl Elektrizität in [MJ/m2.a]', 'description@fr': ''}, {'name': 'fr_3205', 'type': 'string', 'format': 'default', 'title@de': '32.5 - Bemerkungen', 'title@fr': '', 'description@de': '32.5 Vorbildfunktion Kanton: Energiekennzahlen Verwaltungsbauten - Durchschnittliche Energiekennzahl = Summe der Energieverbräuche / Summe der Energiebezugsflächen - Bemerkungen', 'description@fr': ''}, {'name': 'fr_3301', 'type': 'string', 'format': 'default', 'title@de': '33.1 - Departement', 'title@fr': '', 'description@de': '33.1 Organisation der kantonalen Energiefachstelle - Departement', 'description@fr': ''}, {'name': 'fr_3302', 'type': 'string', 'format': 'default', 'title@de': '33.2 - Amt', 'title@fr': '', 'description@de': '33.2 Organisation der kantonalen Energiefachstelle - Amt', 'description@fr': ''}, {'name': 'fr_3303', 'type': 'string', 'format': 'default', 'title@de': '33.3 - Anzahl Vollzeitstellen', 'title@fr': '', 'description@de': '33.3 Organisation der kantonalen Energiefachstelle - Anzahl Vollzeitstellen', 'description@fr': ''}, {'name': 'fr_3304', 'type': 'string', 'format': 'default', 'title@de': '33.4 - Personal- und Sachaufwand für kantonale Energiepolitik ohne Budget Förderprogramm (Lohnkosten inkl. Sekretariat, Auszug aus Steuerrechnung)', 'title@fr': '', 'description@de': '33.4 Organisation der kantonalen Energiefachstelle - Personal- und Sachaufwand für kantonale Energiepolitik ohne Budget Förderprogramm (Lohnkosten inkl. Sekretariat, Auszug aus Steuerrechnung)', 'description@fr': ''}, {'name': 'fr_3305', 'type': 'string', 'format': 'default', 'title@de': '33.5 - Kantonales Förderprogramm: von den Kantonen ausbezahlte und gegenüber dem Bund deklarierte Förderbeiträge', 'title@fr': '', 'description@de': '33.5 Organisation der kantonalen Energiefachstelle - Kantonales Förderprogramm: von den Kantonen ausbezahlte und gegenüber dem Bund deklarierte Förderbeiträge', 'description@fr': ''}]}, 'title@de': 'Stand der Energiepolitik in den Kantonen', 'title@fr': 'État de la politique énergétique dans les cantons', 'format': 'csv', 'mediatype': 'text/csv', 'dialect': {'delimiter': ',', 'doubleQuote': True, 'lineTerminator': '\\r\\n', 'quoteChar': '\"', 'skipInitialSpace': True, 'header': True, 'caseSensitiveHeader': False}, 'encoding': 'UTF-8', 'description@de': 'Der Bericht enthält Informationen zur aktuellen Energiepolitik in den Kantonen sowie über deren Aktivitäten in den Bereichen Strategie, Gesetzgebung, indirekte und freiwillige Massnahmen sowie Förderung (u.a. Stand der Umsetzung der kantonalen Mustervorschriften). Gesetzliche Grundlage: Art. 19 Abs. 2 EnG', 'description@fr': \"Ce rapport présente la politique énergétique menée actuellement par les cantons, notamment leurs stratégies, leurs législations, les activités par rapport aux mesures indirectes librement consenties et leurs politiques d'encouragement (notamment la concrétisation du Modèle de prescriptions énergétiques des cantons). Base légale: art. 19, al. 2, LEne.\"}], 'name': 'ogd39_bfe', 'title@de': 'Stand der Energiepolitik in den Kantonen', 'title@fr': 'État de la politique énergétique dans les cantons', 'description@de': 'Der Bericht enthält Informationen zur aktuellen Energiepolitik in den Kantonen sowie über deren Aktivitäten in den Bereichen Strategie, Gesetzgebung, indirekte und freiwillige Massnahmen sowie Förderung (u.a. Stand der Umsetzung der kantonalen Mustervorschriften). Gesetzliche Grundlage: Art. 19 Abs. 2 EnG', 'description@fr': \"Ce rapport présente la politique énergétique menée actuellement par les cantons, notamment leurs stratégies, leurs législations, les activités par rapport aux mesures indirectes librement consenties et leurs politiques d'encouragement (notamment la concrétisation du Modèle de prescriptions énergétiques des cantons). Base légale: art. 19, al. 2, LEne.\", 'homepage': 'http://www.bfe.admin.ch/ogd39', 'contributors': [{'title': 'OGD Fachstelle', 'role': 'author'}], 'temporal': {'name': 'Zeitliche Abdeckung', 'start': '2018-01-01', 'end': '2021-12-31'}, 'licenses': [{'name': 'O-By', 'title': 'Freie Nutzung. Quellenangabe ist Pflicht.', 'path': 'https://opendata.swiss/de/terms-of-use'}]}\n"
          ]
        }
      ]
    },
    {
      "cell_type": "code",
      "source": [
        "id = 35\n",
        "fileName = 'ogd35_schweizerische_elektrizitaetsbilanz_monatswerte.csv'\n",
        "data_json['resources'][0]['path'] = 'https://www.uvek-gis.admin.ch/BFE/ogd/staging/' + fileName"
      ],
      "metadata": {
        "id": "sZ-LoUVwpB9Y"
      },
      "id": "sZ-LoUVwpB9Y",
      "execution_count": null,
      "outputs": []
    },
    {
      "cell_type": "code",
      "source": [
        "type(data_json)"
      ],
      "metadata": {
        "colab": {
          "base_uri": "https://localhost:8080/"
        },
        "id": "Xa5fF1VvxSut",
        "outputId": "d18975c3-3dd2-423e-c5f2-d9edb2e8feb4"
      },
      "id": "Xa5fF1VvxSut",
      "execution_count": null,
      "outputs": [
        {
          "output_type": "execute_result",
          "data": {
            "text/plain": [
              "dict"
            ]
          },
          "metadata": {},
          "execution_count": 17
        }
      ]
    },
    {
      "cell_type": "code",
      "source": [
        "json_data = json.dumps(data_json)\n",
        "\n",
        "# print the Converted JSON object\n",
        "print(json_data)"
      ],
      "metadata": {
        "colab": {
          "base_uri": "https://localhost:8080/"
        },
        "id": "Er17BPrQyUue",
        "outputId": "bdf9c549-9238-47aa-c456-07a4e8cf11d5"
      },
      "id": "Er17BPrQyUue",
      "execution_count": null,
      "outputs": [
        {
          "output_type": "stream",
          "name": "stdout",
          "text": [
            "{\"profile\": \"tabular-data-package\", \"resources\": [{\"name\": \"ogd35_schweizerische_elektrizitaetsbilanz_monatswerte.csv\", \"path\": \"https://www.uvek-gis.admin.ch/BFE/ogd/staging/ogd35_schweizerische_elektrizitaetsbilanz_monatswerte.csv\", \"profile\": \"tabular-data-resource\", \"schema\": {\"fields\": [{\"name\": \"Jahr\", \"type\": \"year\", \"format\": \"default\", \"title@de\": \"Jahr\", \"title@fr\": \"Ann\\u00e9e\", \"description@de\": \"Jahr der Aufnahme\", \"description@fr\": \"Ann\\u00e9e d'acquisition\"}, {\"name\": \"Monat\", \"type\": \"integer\", \"format\": \"default\", \"title@de\": \"Monat\", \"title@fr\": \"Mois\", \"description@de\": \"Monat der Aufnahme\", \"description@fr\": \"Mois d'acquisition\", \"constraints\": {\"minimum\": \"1\", \"maximum\": \"12\"}}, {\"name\": \"Definitiv\", \"type\": \"boolean\", \"format\": \"default\", \"title@de\": \"\", \"title@fr\": \"\", \"description@de\": \"\", \"description@fr\": \"\", \"trueValues\": [\"1\"], \"falseValues\": [\"0\"]}, {\"name\": \"Erzeugung_laufwerk_GWh\", \"type\": \"integer\", \"format\": \"default\", \"title@de\": \"Erzeugung Laufwerk GWh\", \"title@fr\": \"Production centrales au fil de l'eau GWh\", \"description@de\": \"Stromerzeugung Laufwerk, in GWh\", \"description@fr\": \"Production d'\\u00e9lectricit\\u00e9 \\u00e0 partir de centrales hydro\\u00e9lectriques au fil de l'eau, en GWh\"}, {\"name\": \"Erzeugung_speicherwerk_GWh\", \"type\": \"integer\", \"format\": \"default\", \"title@de\": \"Erzeugung Speicherwerk GWh\", \"title@fr\": \"Production centrales \\u00e0 accumulation GWh\", \"description@de\": \"Stromerzeugung Speicherwerk, in GWh\", \"description@fr\": \"Production d'\\u00e9lectricit\\u00e9 \\u00e0 partir de centrales hydro\\u00e9lectriques \\u00e0 accumulation, en GWh\"}, {\"name\": \"Erzeugung_kernkraftwerk_GWh\", \"type\": \"integer\", \"format\": \"default\", \"title@de\": \"Erzeugung Kernkraftwerk GWh\", \"title@fr\": \"Production nucl\\u00e9aire GWh\", \"description@de\": \"Stromeerzeugung Kernkraftwerk, in GWh\", \"description@fr\": \"Production d'\\u00e9lectricit\\u00e9 \\u00e0 partir de centrales nucl\\u00e9aires, en GWh\"}, {\"name\": \"Erzeugung_andere_GWh\", \"type\": \"integer\", \"format\": \"default\", \"title@de\": \"Erzeugung Konv.-therm. & erneuerbare GWh\", \"title@fr\": \"Production therm. classique et renouvelable GWh\", \"description@de\": \"Stromerzeugung aus konventionnellen thermischen Kraftwerke und ubrige erneuerbare Energien, in GWh\", \"description@fr\": \"Production d'\\u00e9lectricit\\u00e9 \\u00e0 partir de centrales thermiques conventionnelles et d'autres \\u00e9nergies renouvelables, en GWh\"}, {\"name\": \"Verbrauch_speicherpumpen_GWh\", \"type\": \"integer\", \"format\": \"default\", \"title@de\": \"Verbrauch Speicherpumpen GWh\", \"title@fr\": \"Consommation du pompage d'accumulation\", \"description@de\": \"Stromverbauch der Speicherpumpen, in GWh\", \"description@fr\": \"Consommation d'\\u00e9lectricit\\u00e9 du pompage d'accumulation, en GWh\"}, {\"name\": \"Erzeugung_netto_GWh\", \"type\": \"integer\", \"format\": \"default\", \"title@de\": \"Erzeugung Netto GWh\", \"title@fr\": \" Production nette GWh\", \"description@de\": \"Nettostromerzeugung (Total alle Quellen - Nutzung Speicherpumpen), in GWh.\", \"description@fr\": \"Production d'\\u00e9lectricit\\u00e9 nette (total de toutes les sources de production - consommation du pompage d'accumulation, en GWh\"}, {\"name\": \"Einfuhr_GWh\", \"type\": \"integer\", \"format\": \"default\", \"title@de\": \"Einf\\u00fchr GWh\", \"title@fr\": \"Importation GWh\", \"description@de\": \"Einf\\u00fchr von Strom (physikalisch), in GWh\", \"description@fr\": \"Importation d'\\u00e9lectricit\\u00e9 (physique), en GWh\"}, {\"name\": \"Ausfuhr_GWh\", \"type\": \"integer\", \"format\": \"default\", \"title@de\": \"Ausfuhr GWh\", \"title@fr\": \" Exportation GWh\", \"description@de\": \"Ausfuhr von Strom (physikalisch), in GWh\", \"description@fr\": \"Exportation d'\\u00e9lectricit\\u00e9 (physique), en GWh\"}, {\"name\": \"Landesverbrauch_GWh\", \"type\": \"integer\", \"format\": \"default\", \"title@de\": \"Landesverbrauch GWh\", \"title@fr\": \"Consommation du pays GWh\", \"description@de\": \"Totales Landesverbrauch (Nettoerzeugung + Einf\\u00fchr - Ausf\\u00fchr), in GWh. Gesamter Verbrauch der Haushalte, von Gewerbe, Landwirtschaft,  Dienstleistungen, Industrie und des Verkehrs (inkl. \\u00dcbertragungs- und Verteilverluste).\", \"description@fr\": \"Consommation du pays totale (Production nette + Importation - Exportations), en GWh. Consommation totale des m\\u00e9nages, de l\\u2019artisanat, de l\\u2019agriculture, des services, de l\\u2019industrie et des transports (y compris les pertes de transport et de distribution).\"}, {\"name\": \"Verluste_GWh\", \"type\": \"integer\", \"format\": \"default\", \"title@de\": \"Verluste GWh\", \"title@fr\": \"Pertes GWh\", \"description@de\": \"\\u00dcbertragungs- und Verteilverluste, in GWh\", \"description@fr\": \"Pertes de transport et de distribution, en GWh\"}, {\"name\": \"Endverbrauch_GWh\", \"type\": \"integer\", \"format\": \"default\", \"title@de\": \"Endverbrauch von Strom GWh\", \"title@fr\": \"Consommation finale d'\\u00e9lectricit\\u00e9 GWh\", \"description@de\": \"Landesverbrauch abz\\u00fcglich \\u00dcbertragungs- und Verteilverluste, in GWh\", \"description@fr\": \"Consommation du pays, pertes de transport et de distribution d\\u00e9duites, en GWh\"}]}, \"title@de\": \"Schweizerische Elektrizit\\u00e4tsstatistik: Schweizerische Elektrizit\\u00e4tsbilanz \\u2013 Monatswerte\", \"title@fr\": \"Statistique suisse de l'\\u00e9lectricit\\u00e9: bilan mensuel suisse de l'\\u00e9lectricit\\u00e9\", \"format\": \"csv\", \"mediatype\": \"text/csv\", \"dialect\": {\"delimiter\": \",\", \"doubleQuote\": true, \"lineTerminator\": \"\\r\\n\", \"quoteChar\": \"\\\"\", \"skipInitialSpace\": true, \"header\": true, \"caseSensitiveHeader\": false}, \"encoding\": \"UTF-8\", \"description@de\": \"Die Schweizerische Elektrizit\\u00e4tsbilanz - Monatswerte gibt Auskunft \\u00fcber Produktion, Import / Export und Verbrauch von Elektrizit\\u00e4t in der Schweiz auf monatlicher Basis. Bei der Produktion werden Wasserkraftwerke, Kernkraftwerke, konventionell-thermische und erneuerbare Kraftwerke unterschieden. Der Verbrauch der Speicherpumpen und die Leitungsverluste werden ausgewiesen. Die monatliche Elektrizit\\u00e4tsbilanz wird im Rahmen der Elektrizit\\u00e4tsstatistik erstellt, welche Teil der \\u00f6ffentlichen Statistik der Schweiz ist (gesetzliche Grundlage: BStatG).\", \"description@fr\": \"Cette statistique recense sur une base mensuelle la production, l'importation, l'exportation et la consommation d'\\u00e9lectricit\\u00e9 en Suisse. Elle pr\\u00e9sente la production des centrales hydrauliques, des centrales nucl\\u00e9aires, des centrales thermiques classiques et renouvelables. Elle indique la consommation des installations de pompage d'accumulation et les pertes en ligne. Elle est \\u00e9tablie dans le cadre de la Statistique de l'\\u00e9lectricit\\u00e9, qui fait partie de la statistique publique de la Suisse (base l\\u00e9gale: LSF).\"}], \"name\": \"ogd35_bfe\", \"title@de\": \"Schweizerische Elektrizit\\u00e4tsstatistik: Schweizerische Elektrizit\\u00e4tsbilanz \\u2013 Monatswerte\", \"title@fr\": \"Statistique suisse de l'\\u00e9lectricit\\u00e9: bilan mensuel suisse de l'\\u00e9lectricit\\u00e9\", \"description@de\": \"Die Schweizerische Elektrizit\\u00e4tsbilanz - Monatswerte gibt Auskunft \\u00fcber Produktion, Import / Export und Verbrauch von Elektrizit\\u00e4t in der Schweiz auf monatlicher Basis. Bei der Produktion werden Wasserkraftwerke, Kernkraftwerke, konventionell-thermische und erneuerbare Kraftwerke unterschieden. Der Verbrauch der Speicherpumpen und die Leitungsverluste werden ausgewiesen. Die monatliche Elektrizit\\u00e4tsbilanz wird im Rahmen der Elektrizit\\u00e4tsstatistik erstellt, welche Teil der \\u00f6ffentlichen Statistik der Schweiz ist (gesetzliche Grundlage: BStatG).\", \"description@fr\": \"Cette statistique recense sur une base mensuelle la production, l'importation, l'exportation et la consommation d'\\u00e9lectricit\\u00e9 en Suisse. Elle pr\\u00e9sente la production des centrales hydrauliques, des centrales nucl\\u00e9aires, des centrales thermiques classiques et renouvelables. Elle indique la consommation des installations de pompage d'accumulation et les pertes en ligne. Elle est \\u00e9tablie dans le cadre de la Statistique de l'\\u00e9lectricit\\u00e9, qui fait partie de la statistique publique de la Suisse (base l\\u00e9gale: LSF).\", \"homepage\": \"http://www.bfe.admin.ch/ogd35\", \"contributors\": [{\"title\": \"OGD Fachstelle\", \"role\": \"author\"}], \"temporal\": {\"name\": \"Zeitliche Abdeckung\", \"start\": \"2021-01-04\", \"end\": \"2021-04-05\"}, \"licenses\": [{\"name\": \"O-By\", \"title\": \"Freie Nutzung. Quellenangabe ist Pflicht.\", \"path\": \"https://opendata.swiss/de/terms-of-use\"}]}\n"
          ]
        }
      ]
    },
    {
      "cell_type": "code",
      "source": [
        "import json\n",
        "with open('datapackageStaging.json', 'w', encoding='utf-8') as f:\n",
        "    json.dump(data_json, f, ensure_ascii=False, indent=4)"
      ],
      "metadata": {
        "id": "o53wEqUyh-Ty"
      },
      "id": "o53wEqUyh-Ty",
      "execution_count": null,
      "outputs": []
    },
    {
      "cell_type": "code",
      "source": [],
      "metadata": {
        "id": "DF8Oh1zGiCLh"
      },
      "id": "DF8Oh1zGiCLh",
      "execution_count": null,
      "outputs": []
    },
    {
      "cell_type": "markdown",
      "source": [
        "-----------------------------------------------------------------------------------------------"
      ],
      "metadata": {
        "id": "_l-XUXEkxmos"
      },
      "id": "_l-XUXEkxmos"
    },
    {
      "cell_type": "markdown",
      "source": [
        "Load the datapackage content from the ogd directory, change the path, save new datapackage as _datapackageStaging.json_."
      ],
      "metadata": {
        "id": "NmAVzoJZxpox"
      },
      "id": "NmAVzoJZxpox"
    },
    {
      "cell_type": "code",
      "source": [
        "df"
      ],
      "metadata": {
        "id": "Yw-BBlNdzAlK",
        "outputId": "5ef7a8c2-9677-4b1b-f4bf-267c8ad82cf7",
        "colab": {
          "base_uri": "https://localhost:8080/",
          "height": 269
        }
      },
      "id": "Yw-BBlNdzAlK",
      "execution_count": null,
      "outputs": [
        {
          "output_type": "execute_result",
          "data": {
            "text/plain": [
              "                                            fileName ogd_id\n",
              "0  ogd35_schweizerische_elektrizitaetsbilanz_mona...     35\n",
              "1                                     ogd39_epec.csv     39\n",
              "2                     ogd47_vollzugsresultate_pw.csv     47\n",
              "3                ogd47_vollzugsresultate_pw_2020.csv     47\n",
              "4                    ogd61_vollzugsresultate_lnf.csv     61\n",
              "5               ogd61_vollzugsresultate_lnf_2020.csv     61\n",
              "6           ogd90_potenzialstudien_waermenutzung.csv     90"
            ],
            "text/html": [
              "\n",
              "  <div id=\"df-41d84991-f9b1-4e38-b564-2a346b4cbbf1\">\n",
              "    <div class=\"colab-df-container\">\n",
              "      <div>\n",
              "<style scoped>\n",
              "    .dataframe tbody tr th:only-of-type {\n",
              "        vertical-align: middle;\n",
              "    }\n",
              "\n",
              "    .dataframe tbody tr th {\n",
              "        vertical-align: top;\n",
              "    }\n",
              "\n",
              "    .dataframe thead th {\n",
              "        text-align: right;\n",
              "    }\n",
              "</style>\n",
              "<table border=\"1\" class=\"dataframe\">\n",
              "  <thead>\n",
              "    <tr style=\"text-align: right;\">\n",
              "      <th></th>\n",
              "      <th>fileName</th>\n",
              "      <th>ogd_id</th>\n",
              "    </tr>\n",
              "  </thead>\n",
              "  <tbody>\n",
              "    <tr>\n",
              "      <th>0</th>\n",
              "      <td>ogd35_schweizerische_elektrizitaetsbilanz_mona...</td>\n",
              "      <td>35</td>\n",
              "    </tr>\n",
              "    <tr>\n",
              "      <th>1</th>\n",
              "      <td>ogd39_epec.csv</td>\n",
              "      <td>39</td>\n",
              "    </tr>\n",
              "    <tr>\n",
              "      <th>2</th>\n",
              "      <td>ogd47_vollzugsresultate_pw.csv</td>\n",
              "      <td>47</td>\n",
              "    </tr>\n",
              "    <tr>\n",
              "      <th>3</th>\n",
              "      <td>ogd47_vollzugsresultate_pw_2020.csv</td>\n",
              "      <td>47</td>\n",
              "    </tr>\n",
              "    <tr>\n",
              "      <th>4</th>\n",
              "      <td>ogd61_vollzugsresultate_lnf.csv</td>\n",
              "      <td>61</td>\n",
              "    </tr>\n",
              "    <tr>\n",
              "      <th>5</th>\n",
              "      <td>ogd61_vollzugsresultate_lnf_2020.csv</td>\n",
              "      <td>61</td>\n",
              "    </tr>\n",
              "    <tr>\n",
              "      <th>6</th>\n",
              "      <td>ogd90_potenzialstudien_waermenutzung.csv</td>\n",
              "      <td>90</td>\n",
              "    </tr>\n",
              "  </tbody>\n",
              "</table>\n",
              "</div>\n",
              "      <button class=\"colab-df-convert\" onclick=\"convertToInteractive('df-41d84991-f9b1-4e38-b564-2a346b4cbbf1')\"\n",
              "              title=\"Convert this dataframe to an interactive table.\"\n",
              "              style=\"display:none;\">\n",
              "        \n",
              "  <svg xmlns=\"http://www.w3.org/2000/svg\" height=\"24px\"viewBox=\"0 0 24 24\"\n",
              "       width=\"24px\">\n",
              "    <path d=\"M0 0h24v24H0V0z\" fill=\"none\"/>\n",
              "    <path d=\"M18.56 5.44l.94 2.06.94-2.06 2.06-.94-2.06-.94-.94-2.06-.94 2.06-2.06.94zm-11 1L8.5 8.5l.94-2.06 2.06-.94-2.06-.94L8.5 2.5l-.94 2.06-2.06.94zm10 10l.94 2.06.94-2.06 2.06-.94-2.06-.94-.94-2.06-.94 2.06-2.06.94z\"/><path d=\"M17.41 7.96l-1.37-1.37c-.4-.4-.92-.59-1.43-.59-.52 0-1.04.2-1.43.59L10.3 9.45l-7.72 7.72c-.78.78-.78 2.05 0 2.83L4 21.41c.39.39.9.59 1.41.59.51 0 1.02-.2 1.41-.59l7.78-7.78 2.81-2.81c.8-.78.8-2.07 0-2.86zM5.41 20L4 18.59l7.72-7.72 1.47 1.35L5.41 20z\"/>\n",
              "  </svg>\n",
              "      </button>\n",
              "      \n",
              "  <style>\n",
              "    .colab-df-container {\n",
              "      display:flex;\n",
              "      flex-wrap:wrap;\n",
              "      gap: 12px;\n",
              "    }\n",
              "\n",
              "    .colab-df-convert {\n",
              "      background-color: #E8F0FE;\n",
              "      border: none;\n",
              "      border-radius: 50%;\n",
              "      cursor: pointer;\n",
              "      display: none;\n",
              "      fill: #1967D2;\n",
              "      height: 32px;\n",
              "      padding: 0 0 0 0;\n",
              "      width: 32px;\n",
              "    }\n",
              "\n",
              "    .colab-df-convert:hover {\n",
              "      background-color: #E2EBFA;\n",
              "      box-shadow: 0px 1px 2px rgba(60, 64, 67, 0.3), 0px 1px 3px 1px rgba(60, 64, 67, 0.15);\n",
              "      fill: #174EA6;\n",
              "    }\n",
              "\n",
              "    [theme=dark] .colab-df-convert {\n",
              "      background-color: #3B4455;\n",
              "      fill: #D2E3FC;\n",
              "    }\n",
              "\n",
              "    [theme=dark] .colab-df-convert:hover {\n",
              "      background-color: #434B5C;\n",
              "      box-shadow: 0px 1px 3px 1px rgba(0, 0, 0, 0.15);\n",
              "      filter: drop-shadow(0px 1px 2px rgba(0, 0, 0, 0.3));\n",
              "      fill: #FFFFFF;\n",
              "    }\n",
              "  </style>\n",
              "\n",
              "      <script>\n",
              "        const buttonEl =\n",
              "          document.querySelector('#df-41d84991-f9b1-4e38-b564-2a346b4cbbf1 button.colab-df-convert');\n",
              "        buttonEl.style.display =\n",
              "          google.colab.kernel.accessAllowed ? 'block' : 'none';\n",
              "\n",
              "        async function convertToInteractive(key) {\n",
              "          const element = document.querySelector('#df-41d84991-f9b1-4e38-b564-2a346b4cbbf1');\n",
              "          const dataTable =\n",
              "            await google.colab.kernel.invokeFunction('convertToInteractive',\n",
              "                                                     [key], {});\n",
              "          if (!dataTable) return;\n",
              "\n",
              "          const docLinkHtml = 'Like what you see? Visit the ' +\n",
              "            '<a target=\"_blank\" href=https://colab.research.google.com/notebooks/data_table.ipynb>data table notebook</a>'\n",
              "            + ' to learn more about interactive tables.';\n",
              "          element.innerHTML = '';\n",
              "          dataTable['output_type'] = 'display_data';\n",
              "          await google.colab.output.renderOutput(dataTable, element);\n",
              "          const docLink = document.createElement('div');\n",
              "          docLink.innerHTML = docLinkHtml;\n",
              "          element.appendChild(docLink);\n",
              "        }\n",
              "      </script>\n",
              "    </div>\n",
              "  </div>\n",
              "  "
            ]
          },
          "metadata": {},
          "execution_count": 29
        }
      ]
    },
    {
      "cell_type": "code",
      "source": [],
      "metadata": {
        "id": "_vgyhb4UA3aD"
      },
      "id": "_vgyhb4UA3aD",
      "execution_count": null,
      "outputs": []
    },
    {
      "cell_type": "markdown",
      "source": [
        "---------------------------------------------"
      ],
      "metadata": {
        "id": "zGZN2I4vA-Oq"
      },
      "id": "zGZN2I4vA-Oq"
    },
    {
      "cell_type": "code",
      "source": [
        "id = 35\n",
        "fileName = 'ogd35_schweizerische_elektrizitaetsbilanz_monatswerte.csv'\n",
        "data_json['resources'][0]['path'] = 'https://www.uvek-gis.admin.ch/BFE/ogd/staging/' + fileName\n",
        "\n",
        "json_data = json.dumps(data_json)\n",
        "\n",
        "# print the Converted JSON object\n",
        "print(json_data)\n",
        "\n",
        "import json\n",
        "with open('datapackageStaging.json', 'w', encoding='utf-8') as f:\n",
        "    json.dump(data_json, f, ensure_ascii=False, indent=4)"
      ],
      "metadata": {
        "colab": {
          "base_uri": "https://localhost:8080/"
        },
        "id": "PzbRc1tLA3dj",
        "outputId": "9c5e821b-d6af-4464-82a8-f107dbee0645"
      },
      "id": "PzbRc1tLA3dj",
      "execution_count": null,
      "outputs": [
        {
          "output_type": "stream",
          "name": "stdout",
          "text": [
            "{\"profile\": \"tabular-data-package\", \"resources\": [{\"name\": \"ogd35_schweizerische_elektrizitaetsbilanz_monatswerte.csv\", \"path\": \"https://www.uvek-gis.admin.ch/BFE/ogd/staging/ogd35_schweizerische_elektrizitaetsbilanz_monatswerte.csv\", \"profile\": \"tabular-data-resource\", \"schema\": {\"fields\": [{\"name\": \"Jahr\", \"type\": \"year\", \"format\": \"default\", \"title@de\": \"Jahr\", \"title@fr\": \"Ann\\u00e9e\", \"description@de\": \"Jahr der Aufnahme\", \"description@fr\": \"Ann\\u00e9e d'acquisition\"}, {\"name\": \"Monat\", \"type\": \"integer\", \"format\": \"default\", \"title@de\": \"Monat\", \"title@fr\": \"Mois\", \"description@de\": \"Monat der Aufnahme\", \"description@fr\": \"Mois d'acquisition\", \"constraints\": {\"minimum\": \"1\", \"maximum\": \"12\"}}, {\"name\": \"Definitiv\", \"type\": \"boolean\", \"format\": \"default\", \"title@de\": \"\", \"title@fr\": \"\", \"description@de\": \"\", \"description@fr\": \"\", \"trueValues\": [\"1\"], \"falseValues\": [\"0\"]}, {\"name\": \"Erzeugung_laufwerk_GWh\", \"type\": \"integer\", \"format\": \"default\", \"title@de\": \"Erzeugung Laufwerk GWh\", \"title@fr\": \"Production centrales au fil de l'eau GWh\", \"description@de\": \"Stromerzeugung Laufwerk, in GWh\", \"description@fr\": \"Production d'\\u00e9lectricit\\u00e9 \\u00e0 partir de centrales hydro\\u00e9lectriques au fil de l'eau, en GWh\"}, {\"name\": \"Erzeugung_speicherwerk_GWh\", \"type\": \"integer\", \"format\": \"default\", \"title@de\": \"Erzeugung Speicherwerk GWh\", \"title@fr\": \"Production centrales \\u00e0 accumulation GWh\", \"description@de\": \"Stromerzeugung Speicherwerk, in GWh\", \"description@fr\": \"Production d'\\u00e9lectricit\\u00e9 \\u00e0 partir de centrales hydro\\u00e9lectriques \\u00e0 accumulation, en GWh\"}, {\"name\": \"Erzeugung_kernkraftwerk_GWh\", \"type\": \"integer\", \"format\": \"default\", \"title@de\": \"Erzeugung Kernkraftwerk GWh\", \"title@fr\": \"Production nucl\\u00e9aire GWh\", \"description@de\": \"Stromeerzeugung Kernkraftwerk, in GWh\", \"description@fr\": \"Production d'\\u00e9lectricit\\u00e9 \\u00e0 partir de centrales nucl\\u00e9aires, en GWh\"}, {\"name\": \"Erzeugung_andere_GWh\", \"type\": \"integer\", \"format\": \"default\", \"title@de\": \"Erzeugung Konv.-therm. & erneuerbare GWh\", \"title@fr\": \"Production therm. classique et renouvelable GWh\", \"description@de\": \"Stromerzeugung aus konventionnellen thermischen Kraftwerke und ubrige erneuerbare Energien, in GWh\", \"description@fr\": \"Production d'\\u00e9lectricit\\u00e9 \\u00e0 partir de centrales thermiques conventionnelles et d'autres \\u00e9nergies renouvelables, en GWh\"}, {\"name\": \"Verbrauch_speicherpumpen_GWh\", \"type\": \"integer\", \"format\": \"default\", \"title@de\": \"Verbrauch Speicherpumpen GWh\", \"title@fr\": \"Consommation du pompage d'accumulation\", \"description@de\": \"Stromverbauch der Speicherpumpen, in GWh\", \"description@fr\": \"Consommation d'\\u00e9lectricit\\u00e9 du pompage d'accumulation, en GWh\"}, {\"name\": \"Erzeugung_netto_GWh\", \"type\": \"integer\", \"format\": \"default\", \"title@de\": \"Erzeugung Netto GWh\", \"title@fr\": \" Production nette GWh\", \"description@de\": \"Nettostromerzeugung (Total alle Quellen - Nutzung Speicherpumpen), in GWh.\", \"description@fr\": \"Production d'\\u00e9lectricit\\u00e9 nette (total de toutes les sources de production - consommation du pompage d'accumulation, en GWh\"}, {\"name\": \"Einfuhr_GWh\", \"type\": \"integer\", \"format\": \"default\", \"title@de\": \"Einf\\u00fchr GWh\", \"title@fr\": \"Importation GWh\", \"description@de\": \"Einf\\u00fchr von Strom (physikalisch), in GWh\", \"description@fr\": \"Importation d'\\u00e9lectricit\\u00e9 (physique), en GWh\"}, {\"name\": \"Ausfuhr_GWh\", \"type\": \"integer\", \"format\": \"default\", \"title@de\": \"Ausfuhr GWh\", \"title@fr\": \" Exportation GWh\", \"description@de\": \"Ausfuhr von Strom (physikalisch), in GWh\", \"description@fr\": \"Exportation d'\\u00e9lectricit\\u00e9 (physique), en GWh\"}, {\"name\": \"Landesverbrauch_GWh\", \"type\": \"integer\", \"format\": \"default\", \"title@de\": \"Landesverbrauch GWh\", \"title@fr\": \"Consommation du pays GWh\", \"description@de\": \"Totales Landesverbrauch (Nettoerzeugung + Einf\\u00fchr - Ausf\\u00fchr), in GWh. Gesamter Verbrauch der Haushalte, von Gewerbe, Landwirtschaft,  Dienstleistungen, Industrie und des Verkehrs (inkl. \\u00dcbertragungs- und Verteilverluste).\", \"description@fr\": \"Consommation du pays totale (Production nette + Importation - Exportations), en GWh. Consommation totale des m\\u00e9nages, de l\\u2019artisanat, de l\\u2019agriculture, des services, de l\\u2019industrie et des transports (y compris les pertes de transport et de distribution).\"}, {\"name\": \"Verluste_GWh\", \"type\": \"integer\", \"format\": \"default\", \"title@de\": \"Verluste GWh\", \"title@fr\": \"Pertes GWh\", \"description@de\": \"\\u00dcbertragungs- und Verteilverluste, in GWh\", \"description@fr\": \"Pertes de transport et de distribution, en GWh\"}, {\"name\": \"Endverbrauch_GWh\", \"type\": \"integer\", \"format\": \"default\", \"title@de\": \"Endverbrauch von Strom GWh\", \"title@fr\": \"Consommation finale d'\\u00e9lectricit\\u00e9 GWh\", \"description@de\": \"Landesverbrauch abz\\u00fcglich \\u00dcbertragungs- und Verteilverluste, in GWh\", \"description@fr\": \"Consommation du pays, pertes de transport et de distribution d\\u00e9duites, en GWh\"}]}, \"title@de\": \"Schweizerische Elektrizit\\u00e4tsstatistik: Schweizerische Elektrizit\\u00e4tsbilanz \\u2013 Monatswerte\", \"title@fr\": \"Statistique suisse de l'\\u00e9lectricit\\u00e9: bilan mensuel suisse de l'\\u00e9lectricit\\u00e9\", \"format\": \"csv\", \"mediatype\": \"text/csv\", \"dialect\": {\"delimiter\": \",\", \"doubleQuote\": true, \"lineTerminator\": \"\\r\\n\", \"quoteChar\": \"\\\"\", \"skipInitialSpace\": true, \"header\": true, \"caseSensitiveHeader\": false}, \"encoding\": \"UTF-8\", \"description@de\": \"Die Schweizerische Elektrizit\\u00e4tsbilanz - Monatswerte gibt Auskunft \\u00fcber Produktion, Import / Export und Verbrauch von Elektrizit\\u00e4t in der Schweiz auf monatlicher Basis. Bei der Produktion werden Wasserkraftwerke, Kernkraftwerke, konventionell-thermische und erneuerbare Kraftwerke unterschieden. Der Verbrauch der Speicherpumpen und die Leitungsverluste werden ausgewiesen. Die monatliche Elektrizit\\u00e4tsbilanz wird im Rahmen der Elektrizit\\u00e4tsstatistik erstellt, welche Teil der \\u00f6ffentlichen Statistik der Schweiz ist (gesetzliche Grundlage: BStatG).\", \"description@fr\": \"Cette statistique recense sur une base mensuelle la production, l'importation, l'exportation et la consommation d'\\u00e9lectricit\\u00e9 en Suisse. Elle pr\\u00e9sente la production des centrales hydrauliques, des centrales nucl\\u00e9aires, des centrales thermiques classiques et renouvelables. Elle indique la consommation des installations de pompage d'accumulation et les pertes en ligne. Elle est \\u00e9tablie dans le cadre de la Statistique de l'\\u00e9lectricit\\u00e9, qui fait partie de la statistique publique de la Suisse (base l\\u00e9gale: LSF).\"}], \"name\": \"ogd35_bfe\", \"title@de\": \"Schweizerische Elektrizit\\u00e4tsstatistik: Schweizerische Elektrizit\\u00e4tsbilanz \\u2013 Monatswerte\", \"title@fr\": \"Statistique suisse de l'\\u00e9lectricit\\u00e9: bilan mensuel suisse de l'\\u00e9lectricit\\u00e9\", \"description@de\": \"Die Schweizerische Elektrizit\\u00e4tsbilanz - Monatswerte gibt Auskunft \\u00fcber Produktion, Import / Export und Verbrauch von Elektrizit\\u00e4t in der Schweiz auf monatlicher Basis. Bei der Produktion werden Wasserkraftwerke, Kernkraftwerke, konventionell-thermische und erneuerbare Kraftwerke unterschieden. Der Verbrauch der Speicherpumpen und die Leitungsverluste werden ausgewiesen. Die monatliche Elektrizit\\u00e4tsbilanz wird im Rahmen der Elektrizit\\u00e4tsstatistik erstellt, welche Teil der \\u00f6ffentlichen Statistik der Schweiz ist (gesetzliche Grundlage: BStatG).\", \"description@fr\": \"Cette statistique recense sur une base mensuelle la production, l'importation, l'exportation et la consommation d'\\u00e9lectricit\\u00e9 en Suisse. Elle pr\\u00e9sente la production des centrales hydrauliques, des centrales nucl\\u00e9aires, des centrales thermiques classiques et renouvelables. Elle indique la consommation des installations de pompage d'accumulation et les pertes en ligne. Elle est \\u00e9tablie dans le cadre de la Statistique de l'\\u00e9lectricit\\u00e9, qui fait partie de la statistique publique de la Suisse (base l\\u00e9gale: LSF).\", \"homepage\": \"http://www.bfe.admin.ch/ogd35\", \"contributors\": [{\"title\": \"OGD Fachstelle\", \"role\": \"author\"}], \"temporal\": {\"name\": \"Zeitliche Abdeckung\", \"start\": \"2021-01-04\", \"end\": \"2021-04-05\"}, \"licenses\": [{\"name\": \"O-By\", \"title\": \"Freie Nutzung. Quellenangabe ist Pflicht.\", \"path\": \"https://opendata.swiss/de/terms-of-use\"}]}\n"
          ]
        }
      ]
    },
    {
      "cell_type": "markdown",
      "source": [
        "---------------------------------------------"
      ],
      "metadata": {
        "id": "uML6RspxBAol"
      },
      "id": "uML6RspxBAol"
    },
    {
      "cell_type": "code",
      "source": [
        "staging = 'staging/'\n",
        "url_ogd = 'https://www.uvek-gis.admin.ch/BFE/ogd/'\n",
        "dataPackage = 'datapackage.json'\n",
        "\n",
        "for index, row in df.iterrows():\n",
        "\n",
        "    folderPath = url_ogd + row['ogd_id'] + '/'\n",
        "    datapackagePath = folderPath + dataPackage\n",
        "\n",
        "    #print(datapackagePath)\n",
        "\n",
        "    # store the response of URL\n",
        "    response = urlopen(datapackagePath)\n",
        "\n",
        "    # storing the JSON response\n",
        "    # from url in data\n",
        "    data_json = json.loads(response.read())\n",
        "    data_json['resources'][0]['path'] = url_ogd + staging + row['fileName']\n",
        "\n",
        "    # print the json response\n",
        "    print(data_json)\n",
        "\n",
        "    with open(folderPath + 'datapackageStaging.json', 'w', encoding='utf-8') as f:\n",
        "      json.dump(data_json, f, ensure_ascii=False, indent=4)"
      ],
      "metadata": {
        "id": "SpX2jCkfxo4P",
        "outputId": "ab482358-119c-4be7-caee-208a988adb24",
        "colab": {
          "base_uri": "https://localhost:8080/",
          "height": 256
        }
      },
      "id": "SpX2jCkfxo4P",
      "execution_count": null,
      "outputs": [
        {
          "output_type": "stream",
          "name": "stdout",
          "text": [
            "{'profile': 'tabular-data-package', 'resources': [{'name': 'ogd35_schweizerische_elektrizitaetsbilanz_monatswerte.csv', 'path': 'https://www.uvek-gis.admin.ch/BFE/ogd/staging/ogd35_schweizerische_elektrizitaetsbilanz_monatswerte.csv', 'profile': 'tabular-data-resource', 'schema': {'fields': [{'name': 'Jahr', 'type': 'year', 'format': 'default', 'title@de': 'Jahr', 'title@fr': 'Année', 'description@de': 'Jahr der Aufnahme', 'description@fr': \"Année d'acquisition\"}, {'name': 'Monat', 'type': 'integer', 'format': 'default', 'title@de': 'Monat', 'title@fr': 'Mois', 'description@de': 'Monat der Aufnahme', 'description@fr': \"Mois d'acquisition\", 'constraints': {'minimum': '1', 'maximum': '12'}}, {'name': 'Definitiv', 'type': 'boolean', 'format': 'default', 'title@de': '', 'title@fr': '', 'description@de': '', 'description@fr': '', 'trueValues': ['1'], 'falseValues': ['0']}, {'name': 'Erzeugung_laufwerk_GWh', 'type': 'integer', 'format': 'default', 'title@de': 'Erzeugung Laufwerk GWh', 'title@fr': \"Production centrales au fil de l'eau GWh\", 'description@de': 'Stromerzeugung Laufwerk, in GWh', 'description@fr': \"Production d'électricité à partir de centrales hydroélectriques au fil de l'eau, en GWh\"}, {'name': 'Erzeugung_speicherwerk_GWh', 'type': 'integer', 'format': 'default', 'title@de': 'Erzeugung Speicherwerk GWh', 'title@fr': 'Production centrales à accumulation GWh', 'description@de': 'Stromerzeugung Speicherwerk, in GWh', 'description@fr': \"Production d'électricité à partir de centrales hydroélectriques à accumulation, en GWh\"}, {'name': 'Erzeugung_kernkraftwerk_GWh', 'type': 'integer', 'format': 'default', 'title@de': 'Erzeugung Kernkraftwerk GWh', 'title@fr': 'Production nucléaire GWh', 'description@de': 'Stromeerzeugung Kernkraftwerk, in GWh', 'description@fr': \"Production d'électricité à partir de centrales nucléaires, en GWh\"}, {'name': 'Erzeugung_andere_GWh', 'type': 'integer', 'format': 'default', 'title@de': 'Erzeugung Konv.-therm. & erneuerbare GWh', 'title@fr': 'Production therm. classique et renouvelable GWh', 'description@de': 'Stromerzeugung aus konventionnellen thermischen Kraftwerke und ubrige erneuerbare Energien, in GWh', 'description@fr': \"Production d'électricité à partir de centrales thermiques conventionnelles et d'autres énergies renouvelables, en GWh\"}, {'name': 'Verbrauch_speicherpumpen_GWh', 'type': 'integer', 'format': 'default', 'title@de': 'Verbrauch Speicherpumpen GWh', 'title@fr': \"Consommation du pompage d'accumulation\", 'description@de': 'Stromverbauch der Speicherpumpen, in GWh', 'description@fr': \"Consommation d'électricité du pompage d'accumulation, en GWh\"}, {'name': 'Erzeugung_netto_GWh', 'type': 'integer', 'format': 'default', 'title@de': 'Erzeugung Netto GWh', 'title@fr': ' Production nette GWh', 'description@de': 'Nettostromerzeugung (Total alle Quellen - Nutzung Speicherpumpen), in GWh.', 'description@fr': \"Production d'électricité nette (total de toutes les sources de production - consommation du pompage d'accumulation, en GWh\"}, {'name': 'Einfuhr_GWh', 'type': 'integer', 'format': 'default', 'title@de': 'Einführ GWh', 'title@fr': 'Importation GWh', 'description@de': 'Einführ von Strom (physikalisch), in GWh', 'description@fr': \"Importation d'électricité (physique), en GWh\"}, {'name': 'Ausfuhr_GWh', 'type': 'integer', 'format': 'default', 'title@de': 'Ausfuhr GWh', 'title@fr': ' Exportation GWh', 'description@de': 'Ausfuhr von Strom (physikalisch), in GWh', 'description@fr': \"Exportation d'électricité (physique), en GWh\"}, {'name': 'Landesverbrauch_GWh', 'type': 'integer', 'format': 'default', 'title@de': 'Landesverbrauch GWh', 'title@fr': 'Consommation du pays GWh', 'description@de': 'Totales Landesverbrauch (Nettoerzeugung + Einführ - Ausführ), in GWh. Gesamter Verbrauch der Haushalte, von Gewerbe, Landwirtschaft,  Dienstleistungen, Industrie und des Verkehrs (inkl. Übertragungs- und Verteilverluste).', 'description@fr': 'Consommation du pays totale (Production nette + Importation - Exportations), en GWh. Consommation totale des ménages, de l’artisanat, de l’agriculture, des services, de l’industrie et des transports (y compris les pertes de transport et de distribution).'}, {'name': 'Verluste_GWh', 'type': 'integer', 'format': 'default', 'title@de': 'Verluste GWh', 'title@fr': 'Pertes GWh', 'description@de': 'Übertragungs- und Verteilverluste, in GWh', 'description@fr': 'Pertes de transport et de distribution, en GWh'}, {'name': 'Endverbrauch_GWh', 'type': 'integer', 'format': 'default', 'title@de': 'Endverbrauch von Strom GWh', 'title@fr': \"Consommation finale d'électricité GWh\", 'description@de': 'Landesverbrauch abzüglich Übertragungs- und Verteilverluste, in GWh', 'description@fr': 'Consommation du pays, pertes de transport et de distribution déduites, en GWh'}]}, 'title@de': 'Schweizerische Elektrizitätsstatistik: Schweizerische Elektrizitätsbilanz – Monatswerte', 'title@fr': \"Statistique suisse de l'électricité: bilan mensuel suisse de l'électricité\", 'format': 'csv', 'mediatype': 'text/csv', 'dialect': {'delimiter': ',', 'doubleQuote': True, 'lineTerminator': '\\r\\n', 'quoteChar': '\"', 'skipInitialSpace': True, 'header': True, 'caseSensitiveHeader': False}, 'encoding': 'UTF-8', 'description@de': 'Die Schweizerische Elektrizitätsbilanz - Monatswerte gibt Auskunft über Produktion, Import / Export und Verbrauch von Elektrizität in der Schweiz auf monatlicher Basis. Bei der Produktion werden Wasserkraftwerke, Kernkraftwerke, konventionell-thermische und erneuerbare Kraftwerke unterschieden. Der Verbrauch der Speicherpumpen und die Leitungsverluste werden ausgewiesen. Die monatliche Elektrizitätsbilanz wird im Rahmen der Elektrizitätsstatistik erstellt, welche Teil der öffentlichen Statistik der Schweiz ist (gesetzliche Grundlage: BStatG).', 'description@fr': \"Cette statistique recense sur une base mensuelle la production, l'importation, l'exportation et la consommation d'électricité en Suisse. Elle présente la production des centrales hydrauliques, des centrales nucléaires, des centrales thermiques classiques et renouvelables. Elle indique la consommation des installations de pompage d'accumulation et les pertes en ligne. Elle est établie dans le cadre de la Statistique de l'électricité, qui fait partie de la statistique publique de la Suisse (base légale: LSF).\"}], 'name': 'ogd35_bfe', 'title@de': 'Schweizerische Elektrizitätsstatistik: Schweizerische Elektrizitätsbilanz – Monatswerte', 'title@fr': \"Statistique suisse de l'électricité: bilan mensuel suisse de l'électricité\", 'description@de': 'Die Schweizerische Elektrizitätsbilanz - Monatswerte gibt Auskunft über Produktion, Import / Export und Verbrauch von Elektrizität in der Schweiz auf monatlicher Basis. Bei der Produktion werden Wasserkraftwerke, Kernkraftwerke, konventionell-thermische und erneuerbare Kraftwerke unterschieden. Der Verbrauch der Speicherpumpen und die Leitungsverluste werden ausgewiesen. Die monatliche Elektrizitätsbilanz wird im Rahmen der Elektrizitätsstatistik erstellt, welche Teil der öffentlichen Statistik der Schweiz ist (gesetzliche Grundlage: BStatG).', 'description@fr': \"Cette statistique recense sur une base mensuelle la production, l'importation, l'exportation et la consommation d'électricité en Suisse. Elle présente la production des centrales hydrauliques, des centrales nucléaires, des centrales thermiques classiques et renouvelables. Elle indique la consommation des installations de pompage d'accumulation et les pertes en ligne. Elle est établie dans le cadre de la Statistique de l'électricité, qui fait partie de la statistique publique de la Suisse (base légale: LSF).\", 'homepage': 'http://www.bfe.admin.ch/ogd35', 'contributors': [{'title': 'OGD Fachstelle', 'role': 'author'}], 'temporal': {'name': 'Zeitliche Abdeckung', 'start': '2021-01-04', 'end': '2021-04-05'}, 'licenses': [{'name': 'O-By', 'title': 'Freie Nutzung. Quellenangabe ist Pflicht.', 'path': 'https://opendata.swiss/de/terms-of-use'}]}\n"
          ]
        },
        {
          "output_type": "error",
          "ename": "FileNotFoundError",
          "evalue": "ignored",
          "traceback": [
            "\u001b[0;31m---------------------------------------------------------------------------\u001b[0m",
            "\u001b[0;31mFileNotFoundError\u001b[0m                         Traceback (most recent call last)",
            "\u001b[0;32m<ipython-input-4-7b61ad842a0f>\u001b[0m in \u001b[0;36m<cell line: 5>\u001b[0;34m()\u001b[0m\n\u001b[1;32m     21\u001b[0m     \u001b[0mprint\u001b[0m\u001b[0;34m(\u001b[0m\u001b[0mdata_json\u001b[0m\u001b[0;34m)\u001b[0m\u001b[0;34m\u001b[0m\u001b[0;34m\u001b[0m\u001b[0m\n\u001b[1;32m     22\u001b[0m \u001b[0;34m\u001b[0m\u001b[0m\n\u001b[0;32m---> 23\u001b[0;31m     \u001b[0;32mwith\u001b[0m \u001b[0mopen\u001b[0m\u001b[0;34m(\u001b[0m\u001b[0mfolderPath\u001b[0m \u001b[0;34m+\u001b[0m \u001b[0;34m'datapackageStaging.json'\u001b[0m\u001b[0;34m,\u001b[0m \u001b[0;34m'w'\u001b[0m\u001b[0;34m,\u001b[0m \u001b[0mencoding\u001b[0m\u001b[0;34m=\u001b[0m\u001b[0;34m'utf-8'\u001b[0m\u001b[0;34m)\u001b[0m \u001b[0;32mas\u001b[0m \u001b[0mf\u001b[0m\u001b[0;34m:\u001b[0m\u001b[0;34m\u001b[0m\u001b[0;34m\u001b[0m\u001b[0m\n\u001b[0m\u001b[1;32m     24\u001b[0m       \u001b[0mjson\u001b[0m\u001b[0;34m.\u001b[0m\u001b[0mdump\u001b[0m\u001b[0;34m(\u001b[0m\u001b[0mdata_json\u001b[0m\u001b[0;34m,\u001b[0m \u001b[0mf\u001b[0m\u001b[0;34m,\u001b[0m \u001b[0mensure_ascii\u001b[0m\u001b[0;34m=\u001b[0m\u001b[0;32mFalse\u001b[0m\u001b[0;34m,\u001b[0m \u001b[0mindent\u001b[0m\u001b[0;34m=\u001b[0m\u001b[0;36m4\u001b[0m\u001b[0;34m)\u001b[0m\u001b[0;34m\u001b[0m\u001b[0;34m\u001b[0m\u001b[0m\n",
            "\u001b[0;31mFileNotFoundError\u001b[0m: [Errno 2] No such file or directory: 'https://www.uvek-gis.admin.ch/BFE/ogd/35/datapackageStaging.json'"
          ]
        }
      ]
    },
    {
      "cell_type": "code",
      "source": [
        "import requests\n",
        "r = requests.post('https://www.uvek-gis.admin.ch/BFE/ogd/staging/', json={\"key\": \"value\"})\n",
        "r.status_code"
      ],
      "metadata": {
        "id": "t5MMK7OBxo7l",
        "colab": {
          "base_uri": "https://localhost:8080/"
        },
        "outputId": "3a4b2a28-41b9-495b-a139-06b9dc461b06"
      },
      "id": "t5MMK7OBxo7l",
      "execution_count": null,
      "outputs": [
        {
          "output_type": "execute_result",
          "data": {
            "text/plain": [
              "404"
            ]
          },
          "metadata": {},
          "execution_count": 5
        }
      ]
    },
    {
      "cell_type": "markdown",
      "source": [
        "--------------------------------------------------------------------------------"
      ],
      "metadata": {
        "id": "NrswjYvI_aPn"
      },
      "id": "NrswjYvI_aPn"
    },
    {
      "cell_type": "markdown",
      "source": [
        "Connect to  FTP server to upload file -->  "
      ],
      "metadata": {
        "id": "v0S4NX7b_cJO"
      },
      "id": "v0S4NX7b_cJO"
    },
    {
      "cell_type": "code",
      "source": [
        "import ftplib\n",
        "server = ftplib.FTP()\n",
        "server.connect('10.73.220.213', 21)\n",
        "server.login(getpass('Enter user: '), getpass('Enter password: '))"
      ],
      "metadata": {
        "id": "vZpclmA8IWCv",
        "outputId": "45e3ae2b-3fd2-4e22-c15d-4310d7a4a28b",
        "colab": {
          "base_uri": "https://localhost:8080/",
          "height": 364
        }
      },
      "id": "vZpclmA8IWCv",
      "execution_count": null,
      "outputs": [
        {
          "output_type": "error",
          "ename": "TimeoutError",
          "evalue": "ignored",
          "traceback": [
            "\u001b[0;31m---------------------------------------------------------------------------\u001b[0m",
            "\u001b[0;31mTimeoutError\u001b[0m                              Traceback (most recent call last)",
            "\u001b[0;32m<ipython-input-21-e89813493ba4>\u001b[0m in \u001b[0;36m<cell line: 3>\u001b[0;34m()\u001b[0m\n\u001b[1;32m      1\u001b[0m \u001b[0;32mimport\u001b[0m \u001b[0mftplib\u001b[0m\u001b[0;34m\u001b[0m\u001b[0;34m\u001b[0m\u001b[0m\n\u001b[1;32m      2\u001b[0m \u001b[0mserver\u001b[0m \u001b[0;34m=\u001b[0m \u001b[0mftplib\u001b[0m\u001b[0;34m.\u001b[0m\u001b[0mFTP\u001b[0m\u001b[0;34m(\u001b[0m\u001b[0;34m)\u001b[0m\u001b[0;34m\u001b[0m\u001b[0;34m\u001b[0m\u001b[0m\n\u001b[0;32m----> 3\u001b[0;31m \u001b[0mserver\u001b[0m\u001b[0;34m.\u001b[0m\u001b[0mconnect\u001b[0m\u001b[0;34m(\u001b[0m\u001b[0;34m'10.73.220.213'\u001b[0m\u001b[0;34m,\u001b[0m \u001b[0;36m21\u001b[0m\u001b[0;34m)\u001b[0m\u001b[0;34m\u001b[0m\u001b[0;34m\u001b[0m\u001b[0m\n\u001b[0m\u001b[1;32m      4\u001b[0m \u001b[0mserver\u001b[0m\u001b[0;34m.\u001b[0m\u001b[0mlogin\u001b[0m\u001b[0;34m(\u001b[0m\u001b[0mgetpass\u001b[0m\u001b[0;34m(\u001b[0m\u001b[0;34m'Enter user: '\u001b[0m\u001b[0;34m)\u001b[0m\u001b[0;34m,\u001b[0m \u001b[0mgetpass\u001b[0m\u001b[0;34m(\u001b[0m\u001b[0;34m'Enter password: '\u001b[0m\u001b[0;34m)\u001b[0m\u001b[0;34m)\u001b[0m\u001b[0;34m\u001b[0m\u001b[0;34m\u001b[0m\u001b[0m\n",
            "\u001b[0;32m/usr/lib/python3.10/ftplib.py\u001b[0m in \u001b[0;36mconnect\u001b[0;34m(self, host, port, timeout, source_address)\u001b[0m\n\u001b[1;32m    156\u001b[0m             \u001b[0mself\u001b[0m\u001b[0;34m.\u001b[0m\u001b[0msource_address\u001b[0m \u001b[0;34m=\u001b[0m \u001b[0msource_address\u001b[0m\u001b[0;34m\u001b[0m\u001b[0;34m\u001b[0m\u001b[0m\n\u001b[1;32m    157\u001b[0m         \u001b[0msys\u001b[0m\u001b[0;34m.\u001b[0m\u001b[0maudit\u001b[0m\u001b[0;34m(\u001b[0m\u001b[0;34m\"ftplib.connect\"\u001b[0m\u001b[0;34m,\u001b[0m \u001b[0mself\u001b[0m\u001b[0;34m,\u001b[0m \u001b[0mself\u001b[0m\u001b[0;34m.\u001b[0m\u001b[0mhost\u001b[0m\u001b[0;34m,\u001b[0m \u001b[0mself\u001b[0m\u001b[0;34m.\u001b[0m\u001b[0mport\u001b[0m\u001b[0;34m)\u001b[0m\u001b[0;34m\u001b[0m\u001b[0;34m\u001b[0m\u001b[0m\n\u001b[0;32m--> 158\u001b[0;31m         self.sock = socket.create_connection((self.host, self.port), self.timeout,\n\u001b[0m\u001b[1;32m    159\u001b[0m                                              source_address=self.source_address)\n\u001b[1;32m    160\u001b[0m         \u001b[0mself\u001b[0m\u001b[0;34m.\u001b[0m\u001b[0maf\u001b[0m \u001b[0;34m=\u001b[0m \u001b[0mself\u001b[0m\u001b[0;34m.\u001b[0m\u001b[0msock\u001b[0m\u001b[0;34m.\u001b[0m\u001b[0mfamily\u001b[0m\u001b[0;34m\u001b[0m\u001b[0;34m\u001b[0m\u001b[0m\n",
            "\u001b[0;32m/usr/lib/python3.10/socket.py\u001b[0m in \u001b[0;36mcreate_connection\u001b[0;34m(address, timeout, source_address)\u001b[0m\n\u001b[1;32m    843\u001b[0m     \u001b[0;32mif\u001b[0m \u001b[0merr\u001b[0m \u001b[0;32mis\u001b[0m \u001b[0;32mnot\u001b[0m \u001b[0;32mNone\u001b[0m\u001b[0;34m:\u001b[0m\u001b[0;34m\u001b[0m\u001b[0;34m\u001b[0m\u001b[0m\n\u001b[1;32m    844\u001b[0m         \u001b[0;32mtry\u001b[0m\u001b[0;34m:\u001b[0m\u001b[0;34m\u001b[0m\u001b[0;34m\u001b[0m\u001b[0m\n\u001b[0;32m--> 845\u001b[0;31m             \u001b[0;32mraise\u001b[0m \u001b[0merr\u001b[0m\u001b[0;34m\u001b[0m\u001b[0;34m\u001b[0m\u001b[0m\n\u001b[0m\u001b[1;32m    846\u001b[0m         \u001b[0;32mfinally\u001b[0m\u001b[0;34m:\u001b[0m\u001b[0;34m\u001b[0m\u001b[0;34m\u001b[0m\u001b[0m\n\u001b[1;32m    847\u001b[0m             \u001b[0;31m# Break explicitly a reference cycle\u001b[0m\u001b[0;34m\u001b[0m\u001b[0;34m\u001b[0m\u001b[0m\n",
            "\u001b[0;32m/usr/lib/python3.10/socket.py\u001b[0m in \u001b[0;36mcreate_connection\u001b[0;34m(address, timeout, source_address)\u001b[0m\n\u001b[1;32m    831\u001b[0m             \u001b[0;32mif\u001b[0m \u001b[0msource_address\u001b[0m\u001b[0;34m:\u001b[0m\u001b[0;34m\u001b[0m\u001b[0;34m\u001b[0m\u001b[0m\n\u001b[1;32m    832\u001b[0m                 \u001b[0msock\u001b[0m\u001b[0;34m.\u001b[0m\u001b[0mbind\u001b[0m\u001b[0;34m(\u001b[0m\u001b[0msource_address\u001b[0m\u001b[0;34m)\u001b[0m\u001b[0;34m\u001b[0m\u001b[0;34m\u001b[0m\u001b[0m\n\u001b[0;32m--> 833\u001b[0;31m             \u001b[0msock\u001b[0m\u001b[0;34m.\u001b[0m\u001b[0mconnect\u001b[0m\u001b[0;34m(\u001b[0m\u001b[0msa\u001b[0m\u001b[0;34m)\u001b[0m\u001b[0;34m\u001b[0m\u001b[0;34m\u001b[0m\u001b[0m\n\u001b[0m\u001b[1;32m    834\u001b[0m             \u001b[0;31m# Break explicitly a reference cycle\u001b[0m\u001b[0;34m\u001b[0m\u001b[0;34m\u001b[0m\u001b[0m\n\u001b[1;32m    835\u001b[0m             \u001b[0merr\u001b[0m \u001b[0;34m=\u001b[0m \u001b[0;32mNone\u001b[0m\u001b[0;34m\u001b[0m\u001b[0;34m\u001b[0m\u001b[0m\n",
            "\u001b[0;31mTimeoutError\u001b[0m: [Errno 110] Connection timed out"
          ]
        }
      ]
    },
    {
      "cell_type": "code",
      "source": [
        "import os\n",
        "import pandas as pd\n",
        "import requests\n",
        "import datetime\n",
        "import zipfile\n",
        "from ftplib import FTP_TLS\n",
        "from ftplib import FTP\n",
        "import ftplib\n",
        "\n",
        "# passive mode should be on by default\n",
        "#ftps = FTP(\"10.73.220.213\").set_pasv(False)\n",
        "\n",
        "ftps = ftplib.FTP_TLS()\n",
        "ftps.connect(\"10.73.220.213\", 21)\n",
        "\n",
        "ftps.login(getpass('Enter user: '), getpass('Enter password: '))\n",
        "file = open(\"datapackageStaging.json\",\"rb\")\n",
        "ftps.storbinary(\"STOR https://www.uvek-gis.admin.ch/BFE/ogd/staging/datapackageStaging.json\", file)\n",
        "file.close()\n",
        "ftps.close()\n"
      ],
      "metadata": {
        "colab": {
          "base_uri": "https://localhost:8080/",
          "height": 381
        },
        "id": "X3crsfTC-BTz",
        "outputId": "cbbec264-cce6-4928-e91d-55b194444d15"
      },
      "id": "X3crsfTC-BTz",
      "execution_count": null,
      "outputs": [
        {
          "output_type": "error",
          "ename": "TimeoutError",
          "evalue": "ignored",
          "traceback": [
            "\u001b[0;31m---------------------------------------------------------------------------\u001b[0m",
            "\u001b[0;31mTimeoutError\u001b[0m                              Traceback (most recent call last)",
            "\u001b[0;32m<ipython-input-22-cb5b8143a2ab>\u001b[0m in \u001b[0;36m<cell line: 14>\u001b[0;34m()\u001b[0m\n\u001b[1;32m     12\u001b[0m \u001b[0;34m\u001b[0m\u001b[0m\n\u001b[1;32m     13\u001b[0m \u001b[0mftps\u001b[0m \u001b[0;34m=\u001b[0m \u001b[0mftplib\u001b[0m\u001b[0;34m.\u001b[0m\u001b[0mFTP_TLS\u001b[0m\u001b[0;34m(\u001b[0m\u001b[0;34m)\u001b[0m\u001b[0;34m\u001b[0m\u001b[0;34m\u001b[0m\u001b[0m\n\u001b[0;32m---> 14\u001b[0;31m \u001b[0mftps\u001b[0m\u001b[0;34m.\u001b[0m\u001b[0mconnect\u001b[0m\u001b[0;34m(\u001b[0m\u001b[0;34m\"10.73.220.213\"\u001b[0m\u001b[0;34m,\u001b[0m \u001b[0;36m21\u001b[0m\u001b[0;34m)\u001b[0m\u001b[0;34m\u001b[0m\u001b[0;34m\u001b[0m\u001b[0m\n\u001b[0m\u001b[1;32m     15\u001b[0m \u001b[0;34m\u001b[0m\u001b[0m\n\u001b[1;32m     16\u001b[0m \u001b[0mftps\u001b[0m\u001b[0;34m.\u001b[0m\u001b[0mlogin\u001b[0m\u001b[0;34m(\u001b[0m\u001b[0mgetpass\u001b[0m\u001b[0;34m(\u001b[0m\u001b[0;34m'Enter user: '\u001b[0m\u001b[0;34m)\u001b[0m\u001b[0;34m,\u001b[0m \u001b[0mgetpass\u001b[0m\u001b[0;34m(\u001b[0m\u001b[0;34m'Enter password: '\u001b[0m\u001b[0;34m)\u001b[0m\u001b[0;34m)\u001b[0m\u001b[0;34m\u001b[0m\u001b[0;34m\u001b[0m\u001b[0m\n",
            "\u001b[0;32m/usr/lib/python3.10/ftplib.py\u001b[0m in \u001b[0;36mconnect\u001b[0;34m(self, host, port, timeout, source_address)\u001b[0m\n\u001b[1;32m    156\u001b[0m             \u001b[0mself\u001b[0m\u001b[0;34m.\u001b[0m\u001b[0msource_address\u001b[0m \u001b[0;34m=\u001b[0m \u001b[0msource_address\u001b[0m\u001b[0;34m\u001b[0m\u001b[0;34m\u001b[0m\u001b[0m\n\u001b[1;32m    157\u001b[0m         \u001b[0msys\u001b[0m\u001b[0;34m.\u001b[0m\u001b[0maudit\u001b[0m\u001b[0;34m(\u001b[0m\u001b[0;34m\"ftplib.connect\"\u001b[0m\u001b[0;34m,\u001b[0m \u001b[0mself\u001b[0m\u001b[0;34m,\u001b[0m \u001b[0mself\u001b[0m\u001b[0;34m.\u001b[0m\u001b[0mhost\u001b[0m\u001b[0;34m,\u001b[0m \u001b[0mself\u001b[0m\u001b[0;34m.\u001b[0m\u001b[0mport\u001b[0m\u001b[0;34m)\u001b[0m\u001b[0;34m\u001b[0m\u001b[0;34m\u001b[0m\u001b[0m\n\u001b[0;32m--> 158\u001b[0;31m         self.sock = socket.create_connection((self.host, self.port), self.timeout,\n\u001b[0m\u001b[1;32m    159\u001b[0m                                              source_address=self.source_address)\n\u001b[1;32m    160\u001b[0m         \u001b[0mself\u001b[0m\u001b[0;34m.\u001b[0m\u001b[0maf\u001b[0m \u001b[0;34m=\u001b[0m \u001b[0mself\u001b[0m\u001b[0;34m.\u001b[0m\u001b[0msock\u001b[0m\u001b[0;34m.\u001b[0m\u001b[0mfamily\u001b[0m\u001b[0;34m\u001b[0m\u001b[0;34m\u001b[0m\u001b[0m\n",
            "\u001b[0;32m/usr/lib/python3.10/socket.py\u001b[0m in \u001b[0;36mcreate_connection\u001b[0;34m(address, timeout, source_address)\u001b[0m\n\u001b[1;32m    843\u001b[0m     \u001b[0;32mif\u001b[0m \u001b[0merr\u001b[0m \u001b[0;32mis\u001b[0m \u001b[0;32mnot\u001b[0m \u001b[0;32mNone\u001b[0m\u001b[0;34m:\u001b[0m\u001b[0;34m\u001b[0m\u001b[0;34m\u001b[0m\u001b[0m\n\u001b[1;32m    844\u001b[0m         \u001b[0;32mtry\u001b[0m\u001b[0;34m:\u001b[0m\u001b[0;34m\u001b[0m\u001b[0;34m\u001b[0m\u001b[0m\n\u001b[0;32m--> 845\u001b[0;31m             \u001b[0;32mraise\u001b[0m \u001b[0merr\u001b[0m\u001b[0;34m\u001b[0m\u001b[0;34m\u001b[0m\u001b[0m\n\u001b[0m\u001b[1;32m    846\u001b[0m         \u001b[0;32mfinally\u001b[0m\u001b[0;34m:\u001b[0m\u001b[0;34m\u001b[0m\u001b[0;34m\u001b[0m\u001b[0m\n\u001b[1;32m    847\u001b[0m             \u001b[0;31m# Break explicitly a reference cycle\u001b[0m\u001b[0;34m\u001b[0m\u001b[0;34m\u001b[0m\u001b[0m\n",
            "\u001b[0;32m/usr/lib/python3.10/socket.py\u001b[0m in \u001b[0;36mcreate_connection\u001b[0;34m(address, timeout, source_address)\u001b[0m\n\u001b[1;32m    831\u001b[0m             \u001b[0;32mif\u001b[0m \u001b[0msource_address\u001b[0m\u001b[0;34m:\u001b[0m\u001b[0;34m\u001b[0m\u001b[0;34m\u001b[0m\u001b[0m\n\u001b[1;32m    832\u001b[0m                 \u001b[0msock\u001b[0m\u001b[0;34m.\u001b[0m\u001b[0mbind\u001b[0m\u001b[0;34m(\u001b[0m\u001b[0msource_address\u001b[0m\u001b[0;34m)\u001b[0m\u001b[0;34m\u001b[0m\u001b[0;34m\u001b[0m\u001b[0m\n\u001b[0;32m--> 833\u001b[0;31m             \u001b[0msock\u001b[0m\u001b[0;34m.\u001b[0m\u001b[0mconnect\u001b[0m\u001b[0;34m(\u001b[0m\u001b[0msa\u001b[0m\u001b[0;34m)\u001b[0m\u001b[0;34m\u001b[0m\u001b[0;34m\u001b[0m\u001b[0m\n\u001b[0m\u001b[1;32m    834\u001b[0m             \u001b[0;31m# Break explicitly a reference cycle\u001b[0m\u001b[0;34m\u001b[0m\u001b[0;34m\u001b[0m\u001b[0m\n\u001b[1;32m    835\u001b[0m             \u001b[0merr\u001b[0m \u001b[0;34m=\u001b[0m \u001b[0;32mNone\u001b[0m\u001b[0;34m\u001b[0m\u001b[0;34m\u001b[0m\u001b[0m\n",
            "\u001b[0;31mTimeoutError\u001b[0m: [Errno 110] Connection timed out"
          ]
        }
      ]
    },
    {
      "cell_type": "code",
      "source": [],
      "metadata": {
        "id": "ifm2orHiAH-A"
      },
      "id": "ifm2orHiAH-A",
      "execution_count": null,
      "outputs": []
    },
    {
      "cell_type": "markdown",
      "source": [
        "---------------------------------------------"
      ],
      "metadata": {
        "id": "fDVqNE3kLnaL"
      },
      "id": "fDVqNE3kLnaL"
    },
    {
      "cell_type": "code",
      "source": [
        "import ftplib\n",
        "import ssl\n",
        "\n",
        "\n",
        "class ImplicitFTP_TLS(ftplib.FTP_TLS):\n",
        "    \"\"\"FTP_TLS subclass that automatically wraps sockets in SSL to support implicit FTPS.\"\"\"\n",
        "\n",
        "    def __init__(self, *args, **kwargs):\n",
        "        super().__init__(*args, **kwargs)\n",
        "        self._sock = None\n",
        "\n",
        "    @property\n",
        "    def sock(self):\n",
        "        \"\"\"Return the socket.\"\"\"\n",
        "        return self._sock\n",
        "\n",
        "    @sock.setter\n",
        "    def sock(self, value):\n",
        "        \"\"\"When modifying the socket, ensure that it is ssl wrapped.\"\"\"\n",
        "        if value is not None and not isinstance(value, ssl.SSLSocket):\n",
        "            value = self.context.wrap_socket(value)\n",
        "        self._sock = value"
      ],
      "metadata": {
        "id": "YMdPSBVfLohc"
      },
      "id": "YMdPSBVfLohc",
      "execution_count": null,
      "outputs": []
    },
    {
      "cell_type": "code",
      "source": [
        "#from ftp_tls import ImplicitFTP_TLS\n",
        "\n",
        "ftps = ImplicitFTP_TLS()\n",
        "ftps.connect(\"10.73.220.213\", timeout=50)\n",
        "ftps.login(getpass('Enter user: '), getpass('Enter password: '))\n",
        "\n",
        "print('Connected to FTP...')\n",
        "\n",
        "ftps.close()"
      ],
      "metadata": {
        "id": "lLq8BBogLriD",
        "outputId": "4a9e1c1c-9ab1-406f-f7a7-8d3646e5363c",
        "colab": {
          "base_uri": "https://localhost:8080/",
          "height": 381
        }
      },
      "id": "lLq8BBogLriD",
      "execution_count": null,
      "outputs": [
        {
          "output_type": "error",
          "ename": "TimeoutError",
          "evalue": "ignored",
          "traceback": [
            "\u001b[0;31m---------------------------------------------------------------------------\u001b[0m",
            "\u001b[0;31mTimeoutError\u001b[0m                              Traceback (most recent call last)",
            "\u001b[0;32m<ipython-input-27-09831968d18a>\u001b[0m in \u001b[0;36m<cell line: 4>\u001b[0;34m()\u001b[0m\n\u001b[1;32m      2\u001b[0m \u001b[0;34m\u001b[0m\u001b[0m\n\u001b[1;32m      3\u001b[0m \u001b[0mftps\u001b[0m \u001b[0;34m=\u001b[0m \u001b[0mImplicitFTP_TLS\u001b[0m\u001b[0;34m(\u001b[0m\u001b[0;34m)\u001b[0m\u001b[0;34m\u001b[0m\u001b[0;34m\u001b[0m\u001b[0m\n\u001b[0;32m----> 4\u001b[0;31m \u001b[0mftps\u001b[0m\u001b[0;34m.\u001b[0m\u001b[0mconnect\u001b[0m\u001b[0;34m(\u001b[0m\u001b[0;34m\"10.73.220.213\"\u001b[0m\u001b[0;34m,\u001b[0m \u001b[0mtimeout\u001b[0m\u001b[0;34m=\u001b[0m\u001b[0;36m50\u001b[0m\u001b[0;34m)\u001b[0m\u001b[0;34m\u001b[0m\u001b[0;34m\u001b[0m\u001b[0m\n\u001b[0m\u001b[1;32m      5\u001b[0m \u001b[0mftps\u001b[0m\u001b[0;34m.\u001b[0m\u001b[0mlogin\u001b[0m\u001b[0;34m(\u001b[0m\u001b[0mgetpass\u001b[0m\u001b[0;34m(\u001b[0m\u001b[0;34m'Enter user: '\u001b[0m\u001b[0;34m)\u001b[0m\u001b[0;34m,\u001b[0m \u001b[0mgetpass\u001b[0m\u001b[0;34m(\u001b[0m\u001b[0;34m'Enter password: '\u001b[0m\u001b[0;34m)\u001b[0m\u001b[0;34m)\u001b[0m\u001b[0;34m\u001b[0m\u001b[0;34m\u001b[0m\u001b[0m\n\u001b[1;32m      6\u001b[0m \u001b[0;34m\u001b[0m\u001b[0m\n",
            "\u001b[0;32m/usr/lib/python3.10/ftplib.py\u001b[0m in \u001b[0;36mconnect\u001b[0;34m(self, host, port, timeout, source_address)\u001b[0m\n\u001b[1;32m    156\u001b[0m             \u001b[0mself\u001b[0m\u001b[0;34m.\u001b[0m\u001b[0msource_address\u001b[0m \u001b[0;34m=\u001b[0m \u001b[0msource_address\u001b[0m\u001b[0;34m\u001b[0m\u001b[0;34m\u001b[0m\u001b[0m\n\u001b[1;32m    157\u001b[0m         \u001b[0msys\u001b[0m\u001b[0;34m.\u001b[0m\u001b[0maudit\u001b[0m\u001b[0;34m(\u001b[0m\u001b[0;34m\"ftplib.connect\"\u001b[0m\u001b[0;34m,\u001b[0m \u001b[0mself\u001b[0m\u001b[0;34m,\u001b[0m \u001b[0mself\u001b[0m\u001b[0;34m.\u001b[0m\u001b[0mhost\u001b[0m\u001b[0;34m,\u001b[0m \u001b[0mself\u001b[0m\u001b[0;34m.\u001b[0m\u001b[0mport\u001b[0m\u001b[0;34m)\u001b[0m\u001b[0;34m\u001b[0m\u001b[0;34m\u001b[0m\u001b[0m\n\u001b[0;32m--> 158\u001b[0;31m         self.sock = socket.create_connection((self.host, self.port), self.timeout,\n\u001b[0m\u001b[1;32m    159\u001b[0m                                              source_address=self.source_address)\n\u001b[1;32m    160\u001b[0m         \u001b[0mself\u001b[0m\u001b[0;34m.\u001b[0m\u001b[0maf\u001b[0m \u001b[0;34m=\u001b[0m \u001b[0mself\u001b[0m\u001b[0;34m.\u001b[0m\u001b[0msock\u001b[0m\u001b[0;34m.\u001b[0m\u001b[0mfamily\u001b[0m\u001b[0;34m\u001b[0m\u001b[0;34m\u001b[0m\u001b[0m\n",
            "\u001b[0;32m/usr/lib/python3.10/socket.py\u001b[0m in \u001b[0;36mcreate_connection\u001b[0;34m(address, timeout, source_address)\u001b[0m\n\u001b[1;32m    843\u001b[0m     \u001b[0;32mif\u001b[0m \u001b[0merr\u001b[0m \u001b[0;32mis\u001b[0m \u001b[0;32mnot\u001b[0m \u001b[0;32mNone\u001b[0m\u001b[0;34m:\u001b[0m\u001b[0;34m\u001b[0m\u001b[0;34m\u001b[0m\u001b[0m\n\u001b[1;32m    844\u001b[0m         \u001b[0;32mtry\u001b[0m\u001b[0;34m:\u001b[0m\u001b[0;34m\u001b[0m\u001b[0;34m\u001b[0m\u001b[0m\n\u001b[0;32m--> 845\u001b[0;31m             \u001b[0;32mraise\u001b[0m \u001b[0merr\u001b[0m\u001b[0;34m\u001b[0m\u001b[0;34m\u001b[0m\u001b[0m\n\u001b[0m\u001b[1;32m    846\u001b[0m         \u001b[0;32mfinally\u001b[0m\u001b[0;34m:\u001b[0m\u001b[0;34m\u001b[0m\u001b[0;34m\u001b[0m\u001b[0m\n\u001b[1;32m    847\u001b[0m             \u001b[0;31m# Break explicitly a reference cycle\u001b[0m\u001b[0;34m\u001b[0m\u001b[0;34m\u001b[0m\u001b[0m\n",
            "\u001b[0;32m/usr/lib/python3.10/socket.py\u001b[0m in \u001b[0;36mcreate_connection\u001b[0;34m(address, timeout, source_address)\u001b[0m\n\u001b[1;32m    831\u001b[0m             \u001b[0;32mif\u001b[0m \u001b[0msource_address\u001b[0m\u001b[0;34m:\u001b[0m\u001b[0;34m\u001b[0m\u001b[0;34m\u001b[0m\u001b[0m\n\u001b[1;32m    832\u001b[0m                 \u001b[0msock\u001b[0m\u001b[0;34m.\u001b[0m\u001b[0mbind\u001b[0m\u001b[0;34m(\u001b[0m\u001b[0msource_address\u001b[0m\u001b[0;34m)\u001b[0m\u001b[0;34m\u001b[0m\u001b[0;34m\u001b[0m\u001b[0m\n\u001b[0;32m--> 833\u001b[0;31m             \u001b[0msock\u001b[0m\u001b[0;34m.\u001b[0m\u001b[0mconnect\u001b[0m\u001b[0;34m(\u001b[0m\u001b[0msa\u001b[0m\u001b[0;34m)\u001b[0m\u001b[0;34m\u001b[0m\u001b[0;34m\u001b[0m\u001b[0m\n\u001b[0m\u001b[1;32m    834\u001b[0m             \u001b[0;31m# Break explicitly a reference cycle\u001b[0m\u001b[0;34m\u001b[0m\u001b[0;34m\u001b[0m\u001b[0m\n\u001b[1;32m    835\u001b[0m             \u001b[0merr\u001b[0m \u001b[0;34m=\u001b[0m \u001b[0;32mNone\u001b[0m\u001b[0;34m\u001b[0m\u001b[0;34m\u001b[0m\u001b[0m\n",
            "\u001b[0;31mTimeoutError\u001b[0m: timed out"
          ]
        }
      ]
    },
    {
      "cell_type": "markdown",
      "source": [
        "-----------------------------------------------------------------------"
      ],
      "metadata": {
        "id": "K5qydPmTMv3D"
      },
      "id": "K5qydPmTMv3D"
    },
    {
      "cell_type": "code",
      "source": [
        "class FTP_TLS_IgnoreHost(ftplib.FTP_TLS):\n",
        "    def makepasv(self):\n",
        "        _, port = super().makepasv()\n",
        "        return self.host, port\n",
        "\n",
        "ftp = FTP_TLS_IgnoreHost(\"10.73.220.213\", getpass('Enter user: '), getpass('Enter password: '))"
      ],
      "metadata": {
        "id": "t2LETXtfL0uV",
        "outputId": "f862c7f6-8cb0-4dda-dfd4-2374e282be0d",
        "colab": {
          "base_uri": "https://localhost:8080/",
          "height": 381
        }
      },
      "id": "t2LETXtfL0uV",
      "execution_count": null,
      "outputs": [
        {
          "name": "stdout",
          "output_type": "stream",
          "text": [
            "Enter user: ··········\n",
            "Enter password: ··········\n"
          ]
        },
        {
          "output_type": "error",
          "ename": "KeyboardInterrupt",
          "evalue": "ignored",
          "traceback": [
            "\u001b[0;31m---------------------------------------------------------------------------\u001b[0m",
            "\u001b[0;31mKeyboardInterrupt\u001b[0m                         Traceback (most recent call last)",
            "\u001b[0;32m<ipython-input-31-d82805c51d85>\u001b[0m in \u001b[0;36m<cell line: 6>\u001b[0;34m()\u001b[0m\n\u001b[1;32m      4\u001b[0m         \u001b[0;32mreturn\u001b[0m \u001b[0mself\u001b[0m\u001b[0;34m.\u001b[0m\u001b[0mhost\u001b[0m\u001b[0;34m,\u001b[0m \u001b[0mport\u001b[0m\u001b[0;34m\u001b[0m\u001b[0;34m\u001b[0m\u001b[0m\n\u001b[1;32m      5\u001b[0m \u001b[0;34m\u001b[0m\u001b[0m\n\u001b[0;32m----> 6\u001b[0;31m \u001b[0mftp\u001b[0m \u001b[0;34m=\u001b[0m \u001b[0mFTP_TLS_IgnoreHost\u001b[0m\u001b[0;34m(\u001b[0m\u001b[0;34m\"10.73.220.213\"\u001b[0m\u001b[0;34m,\u001b[0m \u001b[0mgetpass\u001b[0m\u001b[0;34m(\u001b[0m\u001b[0;34m'Enter user: '\u001b[0m\u001b[0;34m)\u001b[0m\u001b[0;34m,\u001b[0m \u001b[0mgetpass\u001b[0m\u001b[0;34m(\u001b[0m\u001b[0;34m'Enter password: '\u001b[0m\u001b[0;34m)\u001b[0m\u001b[0;34m)\u001b[0m\u001b[0;34m\u001b[0m\u001b[0;34m\u001b[0m\u001b[0m\n\u001b[0m",
            "\u001b[0;32m/usr/lib/python3.10/ftplib.py\u001b[0m in \u001b[0;36m__init__\u001b[0;34m(self, host, user, passwd, acct, keyfile, certfile, context, timeout, source_address, encoding)\u001b[0m\n\u001b[1;32m    738\u001b[0m             \u001b[0mself\u001b[0m\u001b[0;34m.\u001b[0m\u001b[0mcontext\u001b[0m \u001b[0;34m=\u001b[0m \u001b[0mcontext\u001b[0m\u001b[0;34m\u001b[0m\u001b[0;34m\u001b[0m\u001b[0m\n\u001b[1;32m    739\u001b[0m             \u001b[0mself\u001b[0m\u001b[0;34m.\u001b[0m\u001b[0m_prot_p\u001b[0m \u001b[0;34m=\u001b[0m \u001b[0;32mFalse\u001b[0m\u001b[0;34m\u001b[0m\u001b[0;34m\u001b[0m\u001b[0m\n\u001b[0;32m--> 740\u001b[0;31m             super().__init__(host, user, passwd, acct,\n\u001b[0m\u001b[1;32m    741\u001b[0m                              timeout, source_address, encoding=encoding)\n\u001b[1;32m    742\u001b[0m \u001b[0;34m\u001b[0m\u001b[0m\n",
            "\u001b[0;32m/usr/lib/python3.10/ftplib.py\u001b[0m in \u001b[0;36m__init__\u001b[0;34m(self, host, user, passwd, acct, timeout, source_address, encoding)\u001b[0m\n\u001b[1;32m    119\u001b[0m         \u001b[0mself\u001b[0m\u001b[0;34m.\u001b[0m\u001b[0mtimeout\u001b[0m \u001b[0;34m=\u001b[0m \u001b[0mtimeout\u001b[0m\u001b[0;34m\u001b[0m\u001b[0;34m\u001b[0m\u001b[0m\n\u001b[1;32m    120\u001b[0m         \u001b[0;32mif\u001b[0m \u001b[0mhost\u001b[0m\u001b[0;34m:\u001b[0m\u001b[0;34m\u001b[0m\u001b[0;34m\u001b[0m\u001b[0m\n\u001b[0;32m--> 121\u001b[0;31m             \u001b[0mself\u001b[0m\u001b[0;34m.\u001b[0m\u001b[0mconnect\u001b[0m\u001b[0;34m(\u001b[0m\u001b[0mhost\u001b[0m\u001b[0;34m)\u001b[0m\u001b[0;34m\u001b[0m\u001b[0;34m\u001b[0m\u001b[0m\n\u001b[0m\u001b[1;32m    122\u001b[0m             \u001b[0;32mif\u001b[0m \u001b[0muser\u001b[0m\u001b[0;34m:\u001b[0m\u001b[0;34m\u001b[0m\u001b[0;34m\u001b[0m\u001b[0m\n\u001b[1;32m    123\u001b[0m                 \u001b[0mself\u001b[0m\u001b[0;34m.\u001b[0m\u001b[0mlogin\u001b[0m\u001b[0;34m(\u001b[0m\u001b[0muser\u001b[0m\u001b[0;34m,\u001b[0m \u001b[0mpasswd\u001b[0m\u001b[0;34m,\u001b[0m \u001b[0macct\u001b[0m\u001b[0;34m)\u001b[0m\u001b[0;34m\u001b[0m\u001b[0;34m\u001b[0m\u001b[0m\n",
            "\u001b[0;32m/usr/lib/python3.10/ftplib.py\u001b[0m in \u001b[0;36mconnect\u001b[0;34m(self, host, port, timeout, source_address)\u001b[0m\n\u001b[1;32m    156\u001b[0m             \u001b[0mself\u001b[0m\u001b[0;34m.\u001b[0m\u001b[0msource_address\u001b[0m \u001b[0;34m=\u001b[0m \u001b[0msource_address\u001b[0m\u001b[0;34m\u001b[0m\u001b[0;34m\u001b[0m\u001b[0m\n\u001b[1;32m    157\u001b[0m         \u001b[0msys\u001b[0m\u001b[0;34m.\u001b[0m\u001b[0maudit\u001b[0m\u001b[0;34m(\u001b[0m\u001b[0;34m\"ftplib.connect\"\u001b[0m\u001b[0;34m,\u001b[0m \u001b[0mself\u001b[0m\u001b[0;34m,\u001b[0m \u001b[0mself\u001b[0m\u001b[0;34m.\u001b[0m\u001b[0mhost\u001b[0m\u001b[0;34m,\u001b[0m \u001b[0mself\u001b[0m\u001b[0;34m.\u001b[0m\u001b[0mport\u001b[0m\u001b[0;34m)\u001b[0m\u001b[0;34m\u001b[0m\u001b[0;34m\u001b[0m\u001b[0m\n\u001b[0;32m--> 158\u001b[0;31m         self.sock = socket.create_connection((self.host, self.port), self.timeout,\n\u001b[0m\u001b[1;32m    159\u001b[0m                                              source_address=self.source_address)\n\u001b[1;32m    160\u001b[0m         \u001b[0mself\u001b[0m\u001b[0;34m.\u001b[0m\u001b[0maf\u001b[0m \u001b[0;34m=\u001b[0m \u001b[0mself\u001b[0m\u001b[0;34m.\u001b[0m\u001b[0msock\u001b[0m\u001b[0;34m.\u001b[0m\u001b[0mfamily\u001b[0m\u001b[0;34m\u001b[0m\u001b[0;34m\u001b[0m\u001b[0m\n",
            "\u001b[0;32m/usr/lib/python3.10/socket.py\u001b[0m in \u001b[0;36mcreate_connection\u001b[0;34m(address, timeout, source_address)\u001b[0m\n\u001b[1;32m    831\u001b[0m             \u001b[0;32mif\u001b[0m \u001b[0msource_address\u001b[0m\u001b[0;34m:\u001b[0m\u001b[0;34m\u001b[0m\u001b[0;34m\u001b[0m\u001b[0m\n\u001b[1;32m    832\u001b[0m                 \u001b[0msock\u001b[0m\u001b[0;34m.\u001b[0m\u001b[0mbind\u001b[0m\u001b[0;34m(\u001b[0m\u001b[0msource_address\u001b[0m\u001b[0;34m)\u001b[0m\u001b[0;34m\u001b[0m\u001b[0;34m\u001b[0m\u001b[0m\n\u001b[0;32m--> 833\u001b[0;31m             \u001b[0msock\u001b[0m\u001b[0;34m.\u001b[0m\u001b[0mconnect\u001b[0m\u001b[0;34m(\u001b[0m\u001b[0msa\u001b[0m\u001b[0;34m)\u001b[0m\u001b[0;34m\u001b[0m\u001b[0;34m\u001b[0m\u001b[0m\n\u001b[0m\u001b[1;32m    834\u001b[0m             \u001b[0;31m# Break explicitly a reference cycle\u001b[0m\u001b[0;34m\u001b[0m\u001b[0;34m\u001b[0m\u001b[0m\n\u001b[1;32m    835\u001b[0m             \u001b[0merr\u001b[0m \u001b[0;34m=\u001b[0m \u001b[0;32mNone\u001b[0m\u001b[0;34m\u001b[0m\u001b[0;34m\u001b[0m\u001b[0m\n",
            "\u001b[0;31mKeyboardInterrupt\u001b[0m: "
          ]
        }
      ]
    },
    {
      "cell_type": "code",
      "source": [],
      "metadata": {
        "id": "07qFNuZJM2Ug"
      },
      "id": "07qFNuZJM2Ug",
      "execution_count": null,
      "outputs": []
    }
  ],
  "metadata": {
    "kernelspec": {
      "display_name": "Python 3 (ipykernel)",
      "language": "python",
      "name": "python3"
    },
    "language_info": {
      "codemirror_mode": {
        "name": "ipython",
        "version": 3
      },
      "file_extension": ".py",
      "mimetype": "text/x-python",
      "name": "python",
      "nbconvert_exporter": "python",
      "pygments_lexer": "ipython3",
      "version": "3.8.10"
    },
    "colab": {
      "provenance": []
    }
  },
  "nbformat": 4,
  "nbformat_minor": 5
}