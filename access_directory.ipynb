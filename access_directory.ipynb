{
  "cells": [
    {
      "cell_type": "code",
      "source": [
        "import requests     # 2.18.4\n",
        "import json         # 2.0.9\n",
        "import pandas as pd # 0.23.0\n",
        "import numpy as np\n",
        "import time"
      ],
      "metadata": {
        "id": "65Qr9ip3uvh4"
      },
      "id": "65Qr9ip3uvh4",
      "execution_count": 41,
      "outputs": []
    },
    {
      "cell_type": "code",
      "source": [
        "response = requests.get('https://www.uvek-gis.admin.ch/BFE/ogd/staging/data-models-bev_LNF.csv')\n",
        "response.status_code"
      ],
      "metadata": {
        "colab": {
          "base_uri": "https://localhost:8080/"
        },
        "id": "DJTYwgtnekt0",
        "outputId": "eefef711-bc0d-47ed-f0f5-65de1adac43f"
      },
      "id": "DJTYwgtnekt0",
      "execution_count": 42,
      "outputs": [
        {
          "output_type": "execute_result",
          "data": {
            "text/plain": [
              "200"
            ]
          },
          "metadata": {},
          "execution_count": 42
        }
      ]
    },
    {
      "cell_type": "code",
      "source": [],
      "metadata": {
        "id": "-Qv_fCBNVRV5"
      },
      "id": "-Qv_fCBNVRV5",
      "execution_count": null,
      "outputs": []
    },
    {
      "cell_type": "code",
      "source": [
        "import urllib.request\n",
        "import xarray as xr\n",
        "import io\n",
        "\n",
        "url = 'https://www.uvek-gis.admin.ch/BFE/ogd/staging/'\n",
        "\n",
        "req = urllib.request.Request(url)\n",
        "\n",
        "with urllib.request.urlopen(req) as resp:\n",
        "    ds = xr.open_dataset(io.BytesIO(resp.read()))"
      ],
      "metadata": {
        "colab": {
          "base_uri": "https://localhost:8080/",
          "height": 364
        },
        "id": "f55k5wMiVRYf",
        "outputId": "7464d2d1-2b9a-4334-c948-cab2646658c0"
      },
      "id": "f55k5wMiVRYf",
      "execution_count": 43,
      "outputs": [
        {
          "output_type": "error",
          "ename": "HTTPError",
          "evalue": "ignored",
          "traceback": [
            "\u001b[0;31m---------------------------------------------------------------------------\u001b[0m",
            "\u001b[0;31mHTTPError\u001b[0m                                 Traceback (most recent call last)",
            "\u001b[0;32m<ipython-input-43-eb0ad11652a0>\u001b[0m in \u001b[0;36m<cell line: 9>\u001b[0;34m()\u001b[0m\n\u001b[1;32m      7\u001b[0m \u001b[0mreq\u001b[0m \u001b[0;34m=\u001b[0m \u001b[0murllib\u001b[0m\u001b[0;34m.\u001b[0m\u001b[0mrequest\u001b[0m\u001b[0;34m.\u001b[0m\u001b[0mRequest\u001b[0m\u001b[0;34m(\u001b[0m\u001b[0murl\u001b[0m\u001b[0;34m)\u001b[0m\u001b[0;34m\u001b[0m\u001b[0;34m\u001b[0m\u001b[0m\n\u001b[1;32m      8\u001b[0m \u001b[0;34m\u001b[0m\u001b[0m\n\u001b[0;32m----> 9\u001b[0;31m \u001b[0;32mwith\u001b[0m \u001b[0murllib\u001b[0m\u001b[0;34m.\u001b[0m\u001b[0mrequest\u001b[0m\u001b[0;34m.\u001b[0m\u001b[0murlopen\u001b[0m\u001b[0;34m(\u001b[0m\u001b[0mreq\u001b[0m\u001b[0;34m)\u001b[0m \u001b[0;32mas\u001b[0m \u001b[0mresp\u001b[0m\u001b[0;34m:\u001b[0m\u001b[0;34m\u001b[0m\u001b[0;34m\u001b[0m\u001b[0m\n\u001b[0m\u001b[1;32m     10\u001b[0m     \u001b[0mds\u001b[0m \u001b[0;34m=\u001b[0m \u001b[0mxr\u001b[0m\u001b[0;34m.\u001b[0m\u001b[0mopen_dataset\u001b[0m\u001b[0;34m(\u001b[0m\u001b[0mio\u001b[0m\u001b[0;34m.\u001b[0m\u001b[0mBytesIO\u001b[0m\u001b[0;34m(\u001b[0m\u001b[0mresp\u001b[0m\u001b[0;34m.\u001b[0m\u001b[0mread\u001b[0m\u001b[0;34m(\u001b[0m\u001b[0;34m)\u001b[0m\u001b[0;34m)\u001b[0m\u001b[0;34m)\u001b[0m\u001b[0;34m\u001b[0m\u001b[0;34m\u001b[0m\u001b[0m\n",
            "\u001b[0;32m/usr/lib/python3.10/urllib/request.py\u001b[0m in \u001b[0;36murlopen\u001b[0;34m(url, data, timeout, cafile, capath, cadefault, context)\u001b[0m\n\u001b[1;32m    214\u001b[0m     \u001b[0;32melse\u001b[0m\u001b[0;34m:\u001b[0m\u001b[0;34m\u001b[0m\u001b[0;34m\u001b[0m\u001b[0m\n\u001b[1;32m    215\u001b[0m         \u001b[0mopener\u001b[0m \u001b[0;34m=\u001b[0m \u001b[0m_opener\u001b[0m\u001b[0;34m\u001b[0m\u001b[0;34m\u001b[0m\u001b[0m\n\u001b[0;32m--> 216\u001b[0;31m     \u001b[0;32mreturn\u001b[0m \u001b[0mopener\u001b[0m\u001b[0;34m.\u001b[0m\u001b[0mopen\u001b[0m\u001b[0;34m(\u001b[0m\u001b[0murl\u001b[0m\u001b[0;34m,\u001b[0m \u001b[0mdata\u001b[0m\u001b[0;34m,\u001b[0m \u001b[0mtimeout\u001b[0m\u001b[0;34m)\u001b[0m\u001b[0;34m\u001b[0m\u001b[0;34m\u001b[0m\u001b[0m\n\u001b[0m\u001b[1;32m    217\u001b[0m \u001b[0;34m\u001b[0m\u001b[0m\n\u001b[1;32m    218\u001b[0m \u001b[0;32mdef\u001b[0m \u001b[0minstall_opener\u001b[0m\u001b[0;34m(\u001b[0m\u001b[0mopener\u001b[0m\u001b[0;34m)\u001b[0m\u001b[0;34m:\u001b[0m\u001b[0;34m\u001b[0m\u001b[0;34m\u001b[0m\u001b[0m\n",
            "\u001b[0;32m/usr/lib/python3.10/urllib/request.py\u001b[0m in \u001b[0;36mopen\u001b[0;34m(self, fullurl, data, timeout)\u001b[0m\n\u001b[1;32m    523\u001b[0m         \u001b[0;32mfor\u001b[0m \u001b[0mprocessor\u001b[0m \u001b[0;32min\u001b[0m \u001b[0mself\u001b[0m\u001b[0;34m.\u001b[0m\u001b[0mprocess_response\u001b[0m\u001b[0;34m.\u001b[0m\u001b[0mget\u001b[0m\u001b[0;34m(\u001b[0m\u001b[0mprotocol\u001b[0m\u001b[0;34m,\u001b[0m \u001b[0;34m[\u001b[0m\u001b[0;34m]\u001b[0m\u001b[0;34m)\u001b[0m\u001b[0;34m:\u001b[0m\u001b[0;34m\u001b[0m\u001b[0;34m\u001b[0m\u001b[0m\n\u001b[1;32m    524\u001b[0m             \u001b[0mmeth\u001b[0m \u001b[0;34m=\u001b[0m \u001b[0mgetattr\u001b[0m\u001b[0;34m(\u001b[0m\u001b[0mprocessor\u001b[0m\u001b[0;34m,\u001b[0m \u001b[0mmeth_name\u001b[0m\u001b[0;34m)\u001b[0m\u001b[0;34m\u001b[0m\u001b[0;34m\u001b[0m\u001b[0m\n\u001b[0;32m--> 525\u001b[0;31m             \u001b[0mresponse\u001b[0m \u001b[0;34m=\u001b[0m \u001b[0mmeth\u001b[0m\u001b[0;34m(\u001b[0m\u001b[0mreq\u001b[0m\u001b[0;34m,\u001b[0m \u001b[0mresponse\u001b[0m\u001b[0;34m)\u001b[0m\u001b[0;34m\u001b[0m\u001b[0;34m\u001b[0m\u001b[0m\n\u001b[0m\u001b[1;32m    526\u001b[0m \u001b[0;34m\u001b[0m\u001b[0m\n\u001b[1;32m    527\u001b[0m         \u001b[0;32mreturn\u001b[0m \u001b[0mresponse\u001b[0m\u001b[0;34m\u001b[0m\u001b[0;34m\u001b[0m\u001b[0m\n",
            "\u001b[0;32m/usr/lib/python3.10/urllib/request.py\u001b[0m in \u001b[0;36mhttp_response\u001b[0;34m(self, request, response)\u001b[0m\n\u001b[1;32m    632\u001b[0m         \u001b[0;31m# request was successfully received, understood, and accepted.\u001b[0m\u001b[0;34m\u001b[0m\u001b[0;34m\u001b[0m\u001b[0m\n\u001b[1;32m    633\u001b[0m         \u001b[0;32mif\u001b[0m \u001b[0;32mnot\u001b[0m \u001b[0;34m(\u001b[0m\u001b[0;36m200\u001b[0m \u001b[0;34m<=\u001b[0m \u001b[0mcode\u001b[0m \u001b[0;34m<\u001b[0m \u001b[0;36m300\u001b[0m\u001b[0;34m)\u001b[0m\u001b[0;34m:\u001b[0m\u001b[0;34m\u001b[0m\u001b[0;34m\u001b[0m\u001b[0m\n\u001b[0;32m--> 634\u001b[0;31m             response = self.parent.error(\n\u001b[0m\u001b[1;32m    635\u001b[0m                 'http', request, response, code, msg, hdrs)\n\u001b[1;32m    636\u001b[0m \u001b[0;34m\u001b[0m\u001b[0m\n",
            "\u001b[0;32m/usr/lib/python3.10/urllib/request.py\u001b[0m in \u001b[0;36merror\u001b[0;34m(self, proto, *args)\u001b[0m\n\u001b[1;32m    561\u001b[0m         \u001b[0;32mif\u001b[0m \u001b[0mhttp_err\u001b[0m\u001b[0;34m:\u001b[0m\u001b[0;34m\u001b[0m\u001b[0;34m\u001b[0m\u001b[0m\n\u001b[1;32m    562\u001b[0m             \u001b[0margs\u001b[0m \u001b[0;34m=\u001b[0m \u001b[0;34m(\u001b[0m\u001b[0mdict\u001b[0m\u001b[0;34m,\u001b[0m \u001b[0;34m'default'\u001b[0m\u001b[0;34m,\u001b[0m \u001b[0;34m'http_error_default'\u001b[0m\u001b[0;34m)\u001b[0m \u001b[0;34m+\u001b[0m \u001b[0morig_args\u001b[0m\u001b[0;34m\u001b[0m\u001b[0;34m\u001b[0m\u001b[0m\n\u001b[0;32m--> 563\u001b[0;31m             \u001b[0;32mreturn\u001b[0m \u001b[0mself\u001b[0m\u001b[0;34m.\u001b[0m\u001b[0m_call_chain\u001b[0m\u001b[0;34m(\u001b[0m\u001b[0;34m*\u001b[0m\u001b[0margs\u001b[0m\u001b[0;34m)\u001b[0m\u001b[0;34m\u001b[0m\u001b[0;34m\u001b[0m\u001b[0m\n\u001b[0m\u001b[1;32m    564\u001b[0m \u001b[0;34m\u001b[0m\u001b[0m\n\u001b[1;32m    565\u001b[0m \u001b[0;31m# XXX probably also want an abstract factory that knows when it makes\u001b[0m\u001b[0;34m\u001b[0m\u001b[0;34m\u001b[0m\u001b[0m\n",
            "\u001b[0;32m/usr/lib/python3.10/urllib/request.py\u001b[0m in \u001b[0;36m_call_chain\u001b[0;34m(self, chain, kind, meth_name, *args)\u001b[0m\n\u001b[1;32m    494\u001b[0m         \u001b[0;32mfor\u001b[0m \u001b[0mhandler\u001b[0m \u001b[0;32min\u001b[0m \u001b[0mhandlers\u001b[0m\u001b[0;34m:\u001b[0m\u001b[0;34m\u001b[0m\u001b[0;34m\u001b[0m\u001b[0m\n\u001b[1;32m    495\u001b[0m             \u001b[0mfunc\u001b[0m \u001b[0;34m=\u001b[0m \u001b[0mgetattr\u001b[0m\u001b[0;34m(\u001b[0m\u001b[0mhandler\u001b[0m\u001b[0;34m,\u001b[0m \u001b[0mmeth_name\u001b[0m\u001b[0;34m)\u001b[0m\u001b[0;34m\u001b[0m\u001b[0;34m\u001b[0m\u001b[0m\n\u001b[0;32m--> 496\u001b[0;31m             \u001b[0mresult\u001b[0m \u001b[0;34m=\u001b[0m \u001b[0mfunc\u001b[0m\u001b[0;34m(\u001b[0m\u001b[0;34m*\u001b[0m\u001b[0margs\u001b[0m\u001b[0;34m)\u001b[0m\u001b[0;34m\u001b[0m\u001b[0;34m\u001b[0m\u001b[0m\n\u001b[0m\u001b[1;32m    497\u001b[0m             \u001b[0;32mif\u001b[0m \u001b[0mresult\u001b[0m \u001b[0;32mis\u001b[0m \u001b[0;32mnot\u001b[0m \u001b[0;32mNone\u001b[0m\u001b[0;34m:\u001b[0m\u001b[0;34m\u001b[0m\u001b[0;34m\u001b[0m\u001b[0m\n\u001b[1;32m    498\u001b[0m                 \u001b[0;32mreturn\u001b[0m \u001b[0mresult\u001b[0m\u001b[0;34m\u001b[0m\u001b[0;34m\u001b[0m\u001b[0m\n",
            "\u001b[0;32m/usr/lib/python3.10/urllib/request.py\u001b[0m in \u001b[0;36mhttp_error_default\u001b[0;34m(self, req, fp, code, msg, hdrs)\u001b[0m\n\u001b[1;32m    641\u001b[0m \u001b[0;32mclass\u001b[0m \u001b[0mHTTPDefaultErrorHandler\u001b[0m\u001b[0;34m(\u001b[0m\u001b[0mBaseHandler\u001b[0m\u001b[0;34m)\u001b[0m\u001b[0;34m:\u001b[0m\u001b[0;34m\u001b[0m\u001b[0;34m\u001b[0m\u001b[0m\n\u001b[1;32m    642\u001b[0m     \u001b[0;32mdef\u001b[0m \u001b[0mhttp_error_default\u001b[0m\u001b[0;34m(\u001b[0m\u001b[0mself\u001b[0m\u001b[0;34m,\u001b[0m \u001b[0mreq\u001b[0m\u001b[0;34m,\u001b[0m \u001b[0mfp\u001b[0m\u001b[0;34m,\u001b[0m \u001b[0mcode\u001b[0m\u001b[0;34m,\u001b[0m \u001b[0mmsg\u001b[0m\u001b[0;34m,\u001b[0m \u001b[0mhdrs\u001b[0m\u001b[0;34m)\u001b[0m\u001b[0;34m:\u001b[0m\u001b[0;34m\u001b[0m\u001b[0;34m\u001b[0m\u001b[0m\n\u001b[0;32m--> 643\u001b[0;31m         \u001b[0;32mraise\u001b[0m \u001b[0mHTTPError\u001b[0m\u001b[0;34m(\u001b[0m\u001b[0mreq\u001b[0m\u001b[0;34m.\u001b[0m\u001b[0mfull_url\u001b[0m\u001b[0;34m,\u001b[0m \u001b[0mcode\u001b[0m\u001b[0;34m,\u001b[0m \u001b[0mmsg\u001b[0m\u001b[0;34m,\u001b[0m \u001b[0mhdrs\u001b[0m\u001b[0;34m,\u001b[0m \u001b[0mfp\u001b[0m\u001b[0;34m)\u001b[0m\u001b[0;34m\u001b[0m\u001b[0;34m\u001b[0m\u001b[0m\n\u001b[0m\u001b[1;32m    644\u001b[0m \u001b[0;34m\u001b[0m\u001b[0m\n\u001b[1;32m    645\u001b[0m \u001b[0;32mclass\u001b[0m \u001b[0mHTTPRedirectHandler\u001b[0m\u001b[0;34m(\u001b[0m\u001b[0mBaseHandler\u001b[0m\u001b[0;34m)\u001b[0m\u001b[0;34m:\u001b[0m\u001b[0;34m\u001b[0m\u001b[0;34m\u001b[0m\u001b[0m\n",
            "\u001b[0;31mHTTPError\u001b[0m: HTTP Error 403: Forbidden"
          ]
        }
      ]
    },
    {
      "cell_type": "code",
      "source": [],
      "metadata": {
        "id": "tcmJ39F8VRbi"
      },
      "id": "tcmJ39F8VRbi",
      "execution_count": null,
      "outputs": []
    },
    {
      "cell_type": "code",
      "source": [
        "import requests\n",
        "\n",
        "url = 'https://www.uvek-gis.admin.ch/BFE/ogd/staging/'\n",
        "\n",
        "headers = {\n",
        "    'User-Agent': 'Mozilla/5.0 (Windows NT 10.0; Win64; x64) AppleWebKit/537.36 (KHTML, like Gecko) Chrome/112.0.0.0 Safari/537.36 Edg/112.0.1722.48',\n",
        "    #'From': 'jana.stojanovic'  # This is another valid field\n",
        "}\n",
        "\n",
        "response = requests.get(url, headers=headers)\n",
        "response"
      ],
      "metadata": {
        "colab": {
          "base_uri": "https://localhost:8080/"
        },
        "id": "8_uuXx0DVRd0",
        "outputId": "3b7b0e10-3526-4500-fa4e-99c0f929ce65"
      },
      "id": "8_uuXx0DVRd0",
      "execution_count": 45,
      "outputs": [
        {
          "output_type": "execute_result",
          "data": {
            "text/plain": [
              "<Response [403]>"
            ]
          },
          "metadata": {},
          "execution_count": 45
        }
      ]
    },
    {
      "cell_type": "code",
      "source": [
        "\n",
        "import requests\n",
        "\n",
        "HEADERS = {'User-Agent': 'Mozilla/5.0 (iPad; CPU OS 12_2 like Mac OS X) AppleWebKit/605.1.15 (KHTML, like Gecko) Mobile/15E148'}\n",
        "\n",
        "r = requests.get(url, headers=HEADERS)\n",
        "print(r.text)"
      ],
      "metadata": {
        "colab": {
          "base_uri": "https://localhost:8080/"
        },
        "id": "1iQmAiKtWt84",
        "outputId": "6ecac411-f55e-4240-ed65-deb05b5f79c4"
      },
      "id": "1iQmAiKtWt84",
      "execution_count": 46,
      "outputs": [
        {
          "output_type": "stream",
          "name": "stdout",
          "text": [
            "<!DOCTYPE html>\n",
            "<html lang=\"en\">\n",
            "<head>\n",
            "  <meta charset=\"utf-8\">\n",
            "  <meta http-equiv=\"x-ua-compatible\" content=\"ie=edge\">\n",
            "  <meta name=\"viewport\" content=\"width=device-width, initial-scale=1, shrink-to-fit=no\">\n",
            "  <title>403 Forbidden</title>\n",
            "  <link rel=\"stylesheet\" href=\"/error_docs/styles.css\">\n",
            "</head>\n",
            "<body>\n",
            "<div class=\"page\">\n",
            "  <div class=\"main\">\n",
            "    <h1>Server Error</h1>\n",
            "    <div class=\"error-code\">403</div>\n",
            "    <h2>Forbidden</h2>\n",
            "    <p class=\"lead\">You do not have permission to access this document.</p>\n",
            "    <hr/>\n",
            "    <p>That's what you can do</p>\n",
            "    <div class=\"help-actions\">\n",
            "      <a href=\"javascript:location.reload();\">Reload Page</a>\n",
            "      <a href=\"javascript:history.back();\">Back to Previous Page</a>\n",
            "      <a href=\"/\">Home Page</a>\n",
            "    </div>\n",
            "  </div>\n",
            "</div>\n",
            "</body>\n",
            "</html>\n"
          ]
        }
      ]
    },
    {
      "cell_type": "code",
      "source": [
        "import requests\n",
        "import random\n",
        "\n",
        "user_agents_list = [\n",
        "    'Mozilla/5.0 (iPad; CPU OS 12_2 like Mac OS X) AppleWebKit/605.1.15 (KHTML, like Gecko) Mobile/15E148',\n",
        "    'Mozilla/5.0 (Macintosh; Intel Mac OS X 10_15_7) AppleWebKit/537.36 (KHTML, like Gecko) Chrome/99.0.4844.83 Safari/537.36',\n",
        "    'Mozilla/5.0 (Windows NT 10.0; Win64; x64) AppleWebKit/537.36 (KHTML, like Gecko) Chrome/99.0.4844.51 Safari/537.36'\n",
        "]\n",
        "\n",
        "r = requests.get(url, headers={'User-Agent': random.choice(user_agents_list)})\n",
        "print(r.text)"
      ],
      "metadata": {
        "id": "SBhr5KzCX5om",
        "outputId": "5ce65625-b2b8-4c70-df15-7a4388ec8317",
        "colab": {
          "base_uri": "https://localhost:8080/"
        }
      },
      "id": "SBhr5KzCX5om",
      "execution_count": 48,
      "outputs": [
        {
          "output_type": "stream",
          "name": "stdout",
          "text": [
            "<!DOCTYPE html>\n",
            "<html lang=\"en\">\n",
            "<head>\n",
            "  <meta charset=\"utf-8\">\n",
            "  <meta http-equiv=\"x-ua-compatible\" content=\"ie=edge\">\n",
            "  <meta name=\"viewport\" content=\"width=device-width, initial-scale=1, shrink-to-fit=no\">\n",
            "  <title>403 Forbidden</title>\n",
            "  <link rel=\"stylesheet\" href=\"/error_docs/styles.css\">\n",
            "</head>\n",
            "<body>\n",
            "<div class=\"page\">\n",
            "  <div class=\"main\">\n",
            "    <h1>Server Error</h1>\n",
            "    <div class=\"error-code\">403</div>\n",
            "    <h2>Forbidden</h2>\n",
            "    <p class=\"lead\">You do not have permission to access this document.</p>\n",
            "    <hr/>\n",
            "    <p>That's what you can do</p>\n",
            "    <div class=\"help-actions\">\n",
            "      <a href=\"javascript:location.reload();\">Reload Page</a>\n",
            "      <a href=\"javascript:history.back();\">Back to Previous Page</a>\n",
            "      <a href=\"/\">Home Page</a>\n",
            "    </div>\n",
            "  </div>\n",
            "</div>\n",
            "</body>\n",
            "</html>\n"
          ]
        }
      ]
    },
    {
      "cell_type": "code",
      "source": [
        "import requests\n",
        "\n",
        "HEADERS = {\n",
        "        \"User-Agent\": \"Mozilla/5.0 (Windows NT 10.0; Win64; x64; rv:98.0) Gecko/20100101 Firefox/98.0\",\n",
        "        \"Accept\": \"text/html,application/xhtml+xml,application/xml;q=0.9,image/avif,image/webp,*/*;q=0.8\",\n",
        "        #\"Accept-Language\": \"en-US,en;q=0.5\",\n",
        "        #\"Accept-Encoding\": \"gzip, deflate\",\n",
        "        \"Connection\": \"keep-alive\",\n",
        "        \"Upgrade-Insecure-Requests\": \"1\",\n",
        "        \"Sec-Fetch-Dest\": \"document\",\n",
        "        \"Sec-Fetch-Mode\": \"navigate\",\n",
        "        \"Sec-Fetch-Site\": \"none\",\n",
        "        \"Sec-Fetch-User\": \"?1\",\n",
        "        \"Cache-Control\": \"max-age=0\",\n",
        "    }\n",
        "\n",
        "r = requests.get(url, headers=HEADERS)\n",
        "print(r.text)"
      ],
      "metadata": {
        "id": "GX7KgzCgYz8u",
        "outputId": "f3113ad6-7438-4756-bb27-0fed338b8fe2",
        "colab": {
          "base_uri": "https://localhost:8080/"
        }
      },
      "id": "GX7KgzCgYz8u",
      "execution_count": 49,
      "outputs": [
        {
          "output_type": "stream",
          "name": "stdout",
          "text": [
            "<!DOCTYPE html>\n",
            "<html lang=\"en\">\n",
            "<head>\n",
            "  <meta charset=\"utf-8\">\n",
            "  <meta http-equiv=\"x-ua-compatible\" content=\"ie=edge\">\n",
            "  <meta name=\"viewport\" content=\"width=device-width, initial-scale=1, shrink-to-fit=no\">\n",
            "  <title>403 Forbidden</title>\n",
            "  <link rel=\"stylesheet\" href=\"/error_docs/styles.css\">\n",
            "</head>\n",
            "<body>\n",
            "<div class=\"page\">\n",
            "  <div class=\"main\">\n",
            "    <h1>Server Error</h1>\n",
            "    <div class=\"error-code\">403</div>\n",
            "    <h2>Forbidden</h2>\n",
            "    <p class=\"lead\">You do not have permission to access this document.</p>\n",
            "    <hr/>\n",
            "    <p>That's what you can do</p>\n",
            "    <div class=\"help-actions\">\n",
            "      <a href=\"javascript:location.reload();\">Reload Page</a>\n",
            "      <a href=\"javascript:history.back();\">Back to Previous Page</a>\n",
            "      <a href=\"/\">Home Page</a>\n",
            "    </div>\n",
            "  </div>\n",
            "</div>\n",
            "</body>\n",
            "</html>\n"
          ]
        }
      ]
    },
    {
      "cell_type": "code",
      "source": [
        "from os import listdir\n",
        "from os.path import isfile, join\n",
        "mypath = 'https://www.uvek-gis.admin.ch/BFE/ogd/staging/'\n",
        "onlyfiles = [f for f in listdir(mypath) if isfile(join(mypath, f))]"
      ],
      "metadata": {
        "id": "4x_PJeTeDm_G",
        "colab": {
          "base_uri": "https://localhost:8080/",
          "height": 201
        },
        "outputId": "bf459453-1aaa-46ea-aae2-be71d70250a4"
      },
      "id": "4x_PJeTeDm_G",
      "execution_count": 11,
      "outputs": [
        {
          "output_type": "error",
          "ename": "FileNotFoundError",
          "evalue": "ignored",
          "traceback": [
            "\u001b[0;31m---------------------------------------------------------------------------\u001b[0m",
            "\u001b[0;31mFileNotFoundError\u001b[0m                         Traceback (most recent call last)",
            "\u001b[0;32m<ipython-input-11-cf4a9e80750e>\u001b[0m in \u001b[0;36m<cell line: 4>\u001b[0;34m()\u001b[0m\n\u001b[1;32m      2\u001b[0m \u001b[0;32mfrom\u001b[0m \u001b[0mos\u001b[0m\u001b[0;34m.\u001b[0m\u001b[0mpath\u001b[0m \u001b[0;32mimport\u001b[0m \u001b[0misfile\u001b[0m\u001b[0;34m,\u001b[0m \u001b[0mjoin\u001b[0m\u001b[0;34m\u001b[0m\u001b[0;34m\u001b[0m\u001b[0m\n\u001b[1;32m      3\u001b[0m \u001b[0mmypath\u001b[0m \u001b[0;34m=\u001b[0m \u001b[0;34m'https://www.uvek-gis.admin.ch/BFE/ogd/staging/'\u001b[0m\u001b[0;34m\u001b[0m\u001b[0;34m\u001b[0m\u001b[0m\n\u001b[0;32m----> 4\u001b[0;31m \u001b[0monlyfiles\u001b[0m \u001b[0;34m=\u001b[0m \u001b[0;34m[\u001b[0m\u001b[0mf\u001b[0m \u001b[0;32mfor\u001b[0m \u001b[0mf\u001b[0m \u001b[0;32min\u001b[0m \u001b[0mlistdir\u001b[0m\u001b[0;34m(\u001b[0m\u001b[0mmypath\u001b[0m\u001b[0;34m)\u001b[0m \u001b[0;32mif\u001b[0m \u001b[0misfile\u001b[0m\u001b[0;34m(\u001b[0m\u001b[0mjoin\u001b[0m\u001b[0;34m(\u001b[0m\u001b[0mmypath\u001b[0m\u001b[0;34m,\u001b[0m \u001b[0mf\u001b[0m\u001b[0;34m)\u001b[0m\u001b[0;34m)\u001b[0m\u001b[0;34m]\u001b[0m\u001b[0;34m\u001b[0m\u001b[0;34m\u001b[0m\u001b[0m\n\u001b[0m",
            "\u001b[0;31mFileNotFoundError\u001b[0m: [Errno 2] No such file or directory: 'https://www.uvek-gis.admin.ch/BFE/ogd/staging/'"
          ]
        }
      ]
    },
    {
      "cell_type": "code",
      "source": [
        "data-models-bev_LNF.csv"
      ],
      "metadata": {
        "id": "zLRPTXX0j-Y5"
      },
      "id": "zLRPTXX0j-Y5",
      "execution_count": null,
      "outputs": []
    },
    {
      "cell_type": "code",
      "source": [
        "import os, glob\n",
        "path = 'https://www.uvek-gis.admin.ch/BFE/ogd/staging/'\n",
        "for filename in glob.glob(os.path.join(path, '*.csv')):\n",
        "   with open(os.path.join(os.getcwd(), filename), 'r') as f: # open in readonly mode\n",
        "    print(filename)"
      ],
      "metadata": {
        "id": "H1-lq1bUj1EY"
      },
      "id": "H1-lq1bUj1EY",
      "execution_count": 20,
      "outputs": []
    },
    {
      "cell_type": "code",
      "source": [
        "import os\n",
        "filenames = os.listdir('https://www.uvek-gis.admin.ch/BFE/ogd/staging/')\n",
        "logFile = open('filenames.txt')\n",
        "for name in filenames:\n",
        "    logFile.write(filename)\n",
        "logFile.close()"
      ],
      "metadata": {
        "colab": {
          "base_uri": "https://localhost:8080/",
          "height": 236
        },
        "id": "EEIS670Aka53",
        "outputId": "36eab1e4-446a-478d-c848-44c929967199"
      },
      "id": "EEIS670Aka53",
      "execution_count": 21,
      "outputs": [
        {
          "output_type": "error",
          "ename": "FileNotFoundError",
          "evalue": "ignored",
          "traceback": [
            "\u001b[0;31m---------------------------------------------------------------------------\u001b[0m",
            "\u001b[0;31mFileNotFoundError\u001b[0m                         Traceback (most recent call last)",
            "\u001b[0;32m<ipython-input-21-35685985d41f>\u001b[0m in \u001b[0;36m<cell line: 2>\u001b[0;34m()\u001b[0m\n\u001b[1;32m      1\u001b[0m \u001b[0;32mimport\u001b[0m \u001b[0mos\u001b[0m\u001b[0;34m\u001b[0m\u001b[0;34m\u001b[0m\u001b[0m\n\u001b[0;32m----> 2\u001b[0;31m \u001b[0mfilenames\u001b[0m \u001b[0;34m=\u001b[0m \u001b[0mos\u001b[0m\u001b[0;34m.\u001b[0m\u001b[0mlistdir\u001b[0m\u001b[0;34m(\u001b[0m\u001b[0;34m'https://www.uvek-gis.admin.ch/BFE/ogd/staging/'\u001b[0m\u001b[0;34m)\u001b[0m\u001b[0;34m\u001b[0m\u001b[0;34m\u001b[0m\u001b[0m\n\u001b[0m\u001b[1;32m      3\u001b[0m \u001b[0mlogFile\u001b[0m \u001b[0;34m=\u001b[0m \u001b[0mopen\u001b[0m\u001b[0;34m(\u001b[0m\u001b[0;34m'filenames.txt'\u001b[0m\u001b[0;34m)\u001b[0m\u001b[0;34m\u001b[0m\u001b[0;34m\u001b[0m\u001b[0m\n\u001b[1;32m      4\u001b[0m \u001b[0;32mfor\u001b[0m \u001b[0mname\u001b[0m \u001b[0;32min\u001b[0m \u001b[0mfilenames\u001b[0m\u001b[0;34m:\u001b[0m\u001b[0;34m\u001b[0m\u001b[0;34m\u001b[0m\u001b[0m\n\u001b[1;32m      5\u001b[0m     \u001b[0mlogFile\u001b[0m\u001b[0;34m.\u001b[0m\u001b[0mwrite\u001b[0m\u001b[0;34m(\u001b[0m\u001b[0mfilename\u001b[0m\u001b[0;34m)\u001b[0m\u001b[0;34m\u001b[0m\u001b[0;34m\u001b[0m\u001b[0m\n",
            "\u001b[0;31mFileNotFoundError\u001b[0m: [Errno 2] No such file or directory: 'https://www.uvek-gis.admin.ch/BFE/ogd/staging/'"
          ]
        }
      ]
    },
    {
      "cell_type": "code",
      "source": [
        "for  name in os.listdir('https://www.uvek-gis.admin.ch/BFE/ogd/staging/'):\n",
        "    if os.path.isfile(name): \n",
        "      print('file: ', name)\n",
        "    elif os.path.isdir(name): \n",
        "      print( 'dir: ', name)\n",
        "    elif os.path.islink(name): \n",
        "      print( 'link: ', name)\n",
        "    else: \n",
        "      print( 'unknown', name)"
      ],
      "metadata": {
        "colab": {
          "base_uri": "https://localhost:8080/",
          "height": 236
        },
        "id": "rfjOgnZsmOl0",
        "outputId": "6bd920d1-fcfd-4def-91c0-38fe782d2275"
      },
      "id": "rfjOgnZsmOl0",
      "execution_count": 23,
      "outputs": [
        {
          "output_type": "error",
          "ename": "FileNotFoundError",
          "evalue": "ignored",
          "traceback": [
            "\u001b[0;31m---------------------------------------------------------------------------\u001b[0m",
            "\u001b[0;31mFileNotFoundError\u001b[0m                         Traceback (most recent call last)",
            "\u001b[0;32m<ipython-input-23-f17e8282ff9c>\u001b[0m in \u001b[0;36m<cell line: 1>\u001b[0;34m()\u001b[0m\n\u001b[0;32m----> 1\u001b[0;31m \u001b[0;32mfor\u001b[0m  \u001b[0mname\u001b[0m \u001b[0;32min\u001b[0m \u001b[0mos\u001b[0m\u001b[0;34m.\u001b[0m\u001b[0mlistdir\u001b[0m\u001b[0;34m(\u001b[0m\u001b[0;34m'https://www.uvek-gis.admin.ch/BFE/ogd/staging/'\u001b[0m\u001b[0;34m)\u001b[0m\u001b[0;34m:\u001b[0m\u001b[0;34m\u001b[0m\u001b[0;34m\u001b[0m\u001b[0m\n\u001b[0m\u001b[1;32m      2\u001b[0m     \u001b[0;32mif\u001b[0m \u001b[0mos\u001b[0m\u001b[0;34m.\u001b[0m\u001b[0mpath\u001b[0m\u001b[0;34m.\u001b[0m\u001b[0misfile\u001b[0m\u001b[0;34m(\u001b[0m\u001b[0mname\u001b[0m\u001b[0;34m)\u001b[0m\u001b[0;34m:\u001b[0m\u001b[0;34m\u001b[0m\u001b[0;34m\u001b[0m\u001b[0m\n\u001b[1;32m      3\u001b[0m       \u001b[0mprint\u001b[0m\u001b[0;34m(\u001b[0m\u001b[0;34m'file: '\u001b[0m\u001b[0;34m,\u001b[0m \u001b[0mname\u001b[0m\u001b[0;34m)\u001b[0m\u001b[0;34m\u001b[0m\u001b[0;34m\u001b[0m\u001b[0m\n\u001b[1;32m      4\u001b[0m     \u001b[0;32melif\u001b[0m \u001b[0mos\u001b[0m\u001b[0;34m.\u001b[0m\u001b[0mpath\u001b[0m\u001b[0;34m.\u001b[0m\u001b[0misdir\u001b[0m\u001b[0;34m(\u001b[0m\u001b[0mname\u001b[0m\u001b[0;34m)\u001b[0m\u001b[0;34m:\u001b[0m\u001b[0;34m\u001b[0m\u001b[0;34m\u001b[0m\u001b[0m\n\u001b[1;32m      5\u001b[0m       \u001b[0mprint\u001b[0m\u001b[0;34m(\u001b[0m \u001b[0;34m'dir: '\u001b[0m\u001b[0;34m,\u001b[0m \u001b[0mname\u001b[0m\u001b[0;34m)\u001b[0m\u001b[0;34m\u001b[0m\u001b[0;34m\u001b[0m\u001b[0m\n",
            "\u001b[0;31mFileNotFoundError\u001b[0m: [Errno 2] No such file or directory: 'https://www.uvek-gis.admin.ch/BFE/ogd/staging/'"
          ]
        }
      ]
    },
    {
      "cell_type": "code",
      "source": [
        "from bs4 import BeautifulSoup\n",
        "import requests\n",
        "\n",
        "url = 'https://www.uvek-gis.admin.ch/BFE/ogd/staging/'\n",
        "#ext = 'iso'\n",
        "\n",
        "def listFD(url, ext=''):\n",
        "    page = requests.get(url).text\n",
        "    soup = BeautifulSoup(page, 'html.parser')\n",
        "    return [url + '/' + node.get('href') for node in soup.find_all('a') if node.get('href').endswith(ext)]\n",
        "\n",
        "for file in listFD(url, ext):\n",
        "    print(file)"
      ],
      "metadata": {
        "id": "Ar1tHqy8hic4"
      },
      "id": "Ar1tHqy8hic4",
      "execution_count": 24,
      "outputs": []
    },
    {
      "cell_type": "code",
      "source": [
        "import pathlib\n",
        "\n",
        "# folder path\n",
        "dir_path = 'https://www.uvek-gis.admin.ch/BFE/ogd/staging/'\n",
        "\n",
        "# to store file names\n",
        "res = []\n",
        "\n",
        "# construct path object\n",
        "d = pathlib.Path(dir_path)\n",
        "\n",
        "# iterate directory\n",
        "for entry in d.iterdir():\n",
        "    # check if it a file\n",
        "    if entry.is_file():\n",
        "        res.append(entry)\n",
        "print(res)"
      ],
      "metadata": {
        "colab": {
          "base_uri": "https://localhost:8080/",
          "height": 357
        },
        "id": "kSQmLcCJ30u9",
        "outputId": "dae17d7a-b714-492e-b697-ca9b02664de0"
      },
      "id": "kSQmLcCJ30u9",
      "execution_count": 33,
      "outputs": [
        {
          "output_type": "error",
          "ename": "FileNotFoundError",
          "evalue": "ignored",
          "traceback": [
            "\u001b[0;31m---------------------------------------------------------------------------\u001b[0m",
            "\u001b[0;31mFileNotFoundError\u001b[0m                         Traceback (most recent call last)",
            "\u001b[0;32m<ipython-input-33-969bf2b9a053>\u001b[0m in \u001b[0;36m<cell line: 13>\u001b[0;34m()\u001b[0m\n\u001b[1;32m     11\u001b[0m \u001b[0;34m\u001b[0m\u001b[0m\n\u001b[1;32m     12\u001b[0m \u001b[0;31m# iterate directory\u001b[0m\u001b[0;34m\u001b[0m\u001b[0;34m\u001b[0m\u001b[0m\n\u001b[0;32m---> 13\u001b[0;31m \u001b[0;32mfor\u001b[0m \u001b[0mentry\u001b[0m \u001b[0;32min\u001b[0m \u001b[0md\u001b[0m\u001b[0;34m.\u001b[0m\u001b[0miterdir\u001b[0m\u001b[0;34m(\u001b[0m\u001b[0;34m)\u001b[0m\u001b[0;34m:\u001b[0m\u001b[0;34m\u001b[0m\u001b[0;34m\u001b[0m\u001b[0m\n\u001b[0m\u001b[1;32m     14\u001b[0m     \u001b[0;31m# check if it a file\u001b[0m\u001b[0;34m\u001b[0m\u001b[0;34m\u001b[0m\u001b[0m\n\u001b[1;32m     15\u001b[0m     \u001b[0;32mif\u001b[0m \u001b[0mentry\u001b[0m\u001b[0;34m.\u001b[0m\u001b[0mis_file\u001b[0m\u001b[0;34m(\u001b[0m\u001b[0;34m)\u001b[0m\u001b[0;34m:\u001b[0m\u001b[0;34m\u001b[0m\u001b[0;34m\u001b[0m\u001b[0m\n",
            "\u001b[0;32m/usr/lib/python3.10/pathlib.py\u001b[0m in \u001b[0;36miterdir\u001b[0;34m(self)\u001b[0m\n\u001b[1;32m   1015\u001b[0m         \u001b[0mresult\u001b[0m \u001b[0;32mfor\u001b[0m \u001b[0mthe\u001b[0m \u001b[0mspecial\u001b[0m \u001b[0mpaths\u001b[0m \u001b[0;34m'.'\u001b[0m \u001b[0;32mand\u001b[0m \u001b[0;34m'..'\u001b[0m\u001b[0;34m.\u001b[0m\u001b[0;34m\u001b[0m\u001b[0;34m\u001b[0m\u001b[0m\n\u001b[1;32m   1016\u001b[0m         \"\"\"\n\u001b[0;32m-> 1017\u001b[0;31m         \u001b[0;32mfor\u001b[0m \u001b[0mname\u001b[0m \u001b[0;32min\u001b[0m \u001b[0mself\u001b[0m\u001b[0;34m.\u001b[0m\u001b[0m_accessor\u001b[0m\u001b[0;34m.\u001b[0m\u001b[0mlistdir\u001b[0m\u001b[0;34m(\u001b[0m\u001b[0mself\u001b[0m\u001b[0;34m)\u001b[0m\u001b[0;34m:\u001b[0m\u001b[0;34m\u001b[0m\u001b[0;34m\u001b[0m\u001b[0m\n\u001b[0m\u001b[1;32m   1018\u001b[0m             \u001b[0;32mif\u001b[0m \u001b[0mname\u001b[0m \u001b[0;32min\u001b[0m \u001b[0;34m{\u001b[0m\u001b[0;34m'.'\u001b[0m\u001b[0;34m,\u001b[0m \u001b[0;34m'..'\u001b[0m\u001b[0;34m}\u001b[0m\u001b[0;34m:\u001b[0m\u001b[0;34m\u001b[0m\u001b[0;34m\u001b[0m\u001b[0m\n\u001b[1;32m   1019\u001b[0m                 \u001b[0;31m# Yielding a path object for these makes little sense\u001b[0m\u001b[0;34m\u001b[0m\u001b[0;34m\u001b[0m\u001b[0m\n",
            "\u001b[0;31mFileNotFoundError\u001b[0m: [Errno 2] No such file or directory: 'https:/www.uvek-gis.admin.ch/BFE/ogd/staging'"
          ]
        }
      ]
    },
    {
      "cell_type": "code",
      "source": [
        "from urllib.request import urlopen\n",
        "from urllib.error import *\n",
        " \n",
        "# try block to read URL\n",
        "\n",
        "def checkLink(link):\n",
        "\n",
        "  try:\n",
        "      html = urlopen(link)\n",
        "      print(html)\n",
        "      \n",
        "  # except block to catch\n",
        "  # exception\n",
        "  # and identify error\n",
        "  except HTTPError as e:\n",
        "      print(\"HTTP error\", e)\n",
        "      print(link)\n",
        "      print()\n",
        "      return False\n",
        "      \n",
        "  except URLError as e:\n",
        "      print(\"Opps ! Page not found!\", e)\n",
        "      print(link)\n",
        "      print()\n",
        "      return False\n",
        "  \n",
        "  else:\n",
        "      return True"
      ],
      "metadata": {
        "id": "iOKOq6k1COcq"
      },
      "id": "iOKOq6k1COcq",
      "execution_count": 35,
      "outputs": []
    },
    {
      "cell_type": "code",
      "source": [
        "import urllib.request\n",
        "\n",
        "with urllib.request.urlopen(\"https://www.uvek-gis.admin.ch/BFE/ogd/staging/\") as url:\n",
        "    s = url.read()\n",
        "    # I'm guessing this would output the html source code ?\n",
        "    print(s)"
      ],
      "metadata": {
        "colab": {
          "base_uri": "https://localhost:8080/",
          "height": 381
        },
        "id": "-YOdqcwiDD9f",
        "outputId": "934b6fa3-1494-4117-d7fd-5a8ac0538ff0"
      },
      "id": "-YOdqcwiDD9f",
      "execution_count": 40,
      "outputs": [
        {
          "output_type": "error",
          "ename": "HTTPError",
          "evalue": "ignored",
          "traceback": [
            "\u001b[0;31m---------------------------------------------------------------------------\u001b[0m",
            "\u001b[0;31mHTTPError\u001b[0m                                 Traceback (most recent call last)",
            "\u001b[0;32m<ipython-input-40-8fac2cfd5456>\u001b[0m in \u001b[0;36m<cell line: 3>\u001b[0;34m()\u001b[0m\n\u001b[1;32m      1\u001b[0m \u001b[0;32mimport\u001b[0m \u001b[0murllib\u001b[0m\u001b[0;34m.\u001b[0m\u001b[0mrequest\u001b[0m\u001b[0;34m\u001b[0m\u001b[0;34m\u001b[0m\u001b[0m\n\u001b[1;32m      2\u001b[0m \u001b[0;34m\u001b[0m\u001b[0m\n\u001b[0;32m----> 3\u001b[0;31m \u001b[0;32mwith\u001b[0m \u001b[0murllib\u001b[0m\u001b[0;34m.\u001b[0m\u001b[0mrequest\u001b[0m\u001b[0;34m.\u001b[0m\u001b[0murlopen\u001b[0m\u001b[0;34m(\u001b[0m\u001b[0;34m\"https://www.uvek-gis.admin.ch/BFE/ogd/staging/\"\u001b[0m\u001b[0;34m)\u001b[0m \u001b[0;32mas\u001b[0m \u001b[0murl\u001b[0m\u001b[0;34m:\u001b[0m\u001b[0;34m\u001b[0m\u001b[0;34m\u001b[0m\u001b[0m\n\u001b[0m\u001b[1;32m      4\u001b[0m     \u001b[0ms\u001b[0m \u001b[0;34m=\u001b[0m \u001b[0murl\u001b[0m\u001b[0;34m.\u001b[0m\u001b[0mread\u001b[0m\u001b[0;34m(\u001b[0m\u001b[0;34m)\u001b[0m\u001b[0;34m\u001b[0m\u001b[0;34m\u001b[0m\u001b[0m\n\u001b[1;32m      5\u001b[0m     \u001b[0;31m# I'm guessing this would output the html source code ?\u001b[0m\u001b[0;34m\u001b[0m\u001b[0;34m\u001b[0m\u001b[0m\n",
            "\u001b[0;32m/usr/lib/python3.10/urllib/request.py\u001b[0m in \u001b[0;36murlopen\u001b[0;34m(url, data, timeout, cafile, capath, cadefault, context)\u001b[0m\n\u001b[1;32m    214\u001b[0m     \u001b[0;32melse\u001b[0m\u001b[0;34m:\u001b[0m\u001b[0;34m\u001b[0m\u001b[0;34m\u001b[0m\u001b[0m\n\u001b[1;32m    215\u001b[0m         \u001b[0mopener\u001b[0m \u001b[0;34m=\u001b[0m \u001b[0m_opener\u001b[0m\u001b[0;34m\u001b[0m\u001b[0;34m\u001b[0m\u001b[0m\n\u001b[0;32m--> 216\u001b[0;31m     \u001b[0;32mreturn\u001b[0m \u001b[0mopener\u001b[0m\u001b[0;34m.\u001b[0m\u001b[0mopen\u001b[0m\u001b[0;34m(\u001b[0m\u001b[0murl\u001b[0m\u001b[0;34m,\u001b[0m \u001b[0mdata\u001b[0m\u001b[0;34m,\u001b[0m \u001b[0mtimeout\u001b[0m\u001b[0;34m)\u001b[0m\u001b[0;34m\u001b[0m\u001b[0;34m\u001b[0m\u001b[0m\n\u001b[0m\u001b[1;32m    217\u001b[0m \u001b[0;34m\u001b[0m\u001b[0m\n\u001b[1;32m    218\u001b[0m \u001b[0;32mdef\u001b[0m \u001b[0minstall_opener\u001b[0m\u001b[0;34m(\u001b[0m\u001b[0mopener\u001b[0m\u001b[0;34m)\u001b[0m\u001b[0;34m:\u001b[0m\u001b[0;34m\u001b[0m\u001b[0;34m\u001b[0m\u001b[0m\n",
            "\u001b[0;32m/usr/lib/python3.10/urllib/request.py\u001b[0m in \u001b[0;36mopen\u001b[0;34m(self, fullurl, data, timeout)\u001b[0m\n\u001b[1;32m    523\u001b[0m         \u001b[0;32mfor\u001b[0m \u001b[0mprocessor\u001b[0m \u001b[0;32min\u001b[0m \u001b[0mself\u001b[0m\u001b[0;34m.\u001b[0m\u001b[0mprocess_response\u001b[0m\u001b[0;34m.\u001b[0m\u001b[0mget\u001b[0m\u001b[0;34m(\u001b[0m\u001b[0mprotocol\u001b[0m\u001b[0;34m,\u001b[0m \u001b[0;34m[\u001b[0m\u001b[0;34m]\u001b[0m\u001b[0;34m)\u001b[0m\u001b[0;34m:\u001b[0m\u001b[0;34m\u001b[0m\u001b[0;34m\u001b[0m\u001b[0m\n\u001b[1;32m    524\u001b[0m             \u001b[0mmeth\u001b[0m \u001b[0;34m=\u001b[0m \u001b[0mgetattr\u001b[0m\u001b[0;34m(\u001b[0m\u001b[0mprocessor\u001b[0m\u001b[0;34m,\u001b[0m \u001b[0mmeth_name\u001b[0m\u001b[0;34m)\u001b[0m\u001b[0;34m\u001b[0m\u001b[0;34m\u001b[0m\u001b[0m\n\u001b[0;32m--> 525\u001b[0;31m             \u001b[0mresponse\u001b[0m \u001b[0;34m=\u001b[0m \u001b[0mmeth\u001b[0m\u001b[0;34m(\u001b[0m\u001b[0mreq\u001b[0m\u001b[0;34m,\u001b[0m \u001b[0mresponse\u001b[0m\u001b[0;34m)\u001b[0m\u001b[0;34m\u001b[0m\u001b[0;34m\u001b[0m\u001b[0m\n\u001b[0m\u001b[1;32m    526\u001b[0m \u001b[0;34m\u001b[0m\u001b[0m\n\u001b[1;32m    527\u001b[0m         \u001b[0;32mreturn\u001b[0m \u001b[0mresponse\u001b[0m\u001b[0;34m\u001b[0m\u001b[0;34m\u001b[0m\u001b[0m\n",
            "\u001b[0;32m/usr/lib/python3.10/urllib/request.py\u001b[0m in \u001b[0;36mhttp_response\u001b[0;34m(self, request, response)\u001b[0m\n\u001b[1;32m    632\u001b[0m         \u001b[0;31m# request was successfully received, understood, and accepted.\u001b[0m\u001b[0;34m\u001b[0m\u001b[0;34m\u001b[0m\u001b[0m\n\u001b[1;32m    633\u001b[0m         \u001b[0;32mif\u001b[0m \u001b[0;32mnot\u001b[0m \u001b[0;34m(\u001b[0m\u001b[0;36m200\u001b[0m \u001b[0;34m<=\u001b[0m \u001b[0mcode\u001b[0m \u001b[0;34m<\u001b[0m \u001b[0;36m300\u001b[0m\u001b[0;34m)\u001b[0m\u001b[0;34m:\u001b[0m\u001b[0;34m\u001b[0m\u001b[0;34m\u001b[0m\u001b[0m\n\u001b[0;32m--> 634\u001b[0;31m             response = self.parent.error(\n\u001b[0m\u001b[1;32m    635\u001b[0m                 'http', request, response, code, msg, hdrs)\n\u001b[1;32m    636\u001b[0m \u001b[0;34m\u001b[0m\u001b[0m\n",
            "\u001b[0;32m/usr/lib/python3.10/urllib/request.py\u001b[0m in \u001b[0;36merror\u001b[0;34m(self, proto, *args)\u001b[0m\n\u001b[1;32m    561\u001b[0m         \u001b[0;32mif\u001b[0m \u001b[0mhttp_err\u001b[0m\u001b[0;34m:\u001b[0m\u001b[0;34m\u001b[0m\u001b[0;34m\u001b[0m\u001b[0m\n\u001b[1;32m    562\u001b[0m             \u001b[0margs\u001b[0m \u001b[0;34m=\u001b[0m \u001b[0;34m(\u001b[0m\u001b[0mdict\u001b[0m\u001b[0;34m,\u001b[0m \u001b[0;34m'default'\u001b[0m\u001b[0;34m,\u001b[0m \u001b[0;34m'http_error_default'\u001b[0m\u001b[0;34m)\u001b[0m \u001b[0;34m+\u001b[0m \u001b[0morig_args\u001b[0m\u001b[0;34m\u001b[0m\u001b[0;34m\u001b[0m\u001b[0m\n\u001b[0;32m--> 563\u001b[0;31m             \u001b[0;32mreturn\u001b[0m \u001b[0mself\u001b[0m\u001b[0;34m.\u001b[0m\u001b[0m_call_chain\u001b[0m\u001b[0;34m(\u001b[0m\u001b[0;34m*\u001b[0m\u001b[0margs\u001b[0m\u001b[0;34m)\u001b[0m\u001b[0;34m\u001b[0m\u001b[0;34m\u001b[0m\u001b[0m\n\u001b[0m\u001b[1;32m    564\u001b[0m \u001b[0;34m\u001b[0m\u001b[0m\n\u001b[1;32m    565\u001b[0m \u001b[0;31m# XXX probably also want an abstract factory that knows when it makes\u001b[0m\u001b[0;34m\u001b[0m\u001b[0;34m\u001b[0m\u001b[0m\n",
            "\u001b[0;32m/usr/lib/python3.10/urllib/request.py\u001b[0m in \u001b[0;36m_call_chain\u001b[0;34m(self, chain, kind, meth_name, *args)\u001b[0m\n\u001b[1;32m    494\u001b[0m         \u001b[0;32mfor\u001b[0m \u001b[0mhandler\u001b[0m \u001b[0;32min\u001b[0m \u001b[0mhandlers\u001b[0m\u001b[0;34m:\u001b[0m\u001b[0;34m\u001b[0m\u001b[0;34m\u001b[0m\u001b[0m\n\u001b[1;32m    495\u001b[0m             \u001b[0mfunc\u001b[0m \u001b[0;34m=\u001b[0m \u001b[0mgetattr\u001b[0m\u001b[0;34m(\u001b[0m\u001b[0mhandler\u001b[0m\u001b[0;34m,\u001b[0m \u001b[0mmeth_name\u001b[0m\u001b[0;34m)\u001b[0m\u001b[0;34m\u001b[0m\u001b[0;34m\u001b[0m\u001b[0m\n\u001b[0;32m--> 496\u001b[0;31m             \u001b[0mresult\u001b[0m \u001b[0;34m=\u001b[0m \u001b[0mfunc\u001b[0m\u001b[0;34m(\u001b[0m\u001b[0;34m*\u001b[0m\u001b[0margs\u001b[0m\u001b[0;34m)\u001b[0m\u001b[0;34m\u001b[0m\u001b[0;34m\u001b[0m\u001b[0m\n\u001b[0m\u001b[1;32m    497\u001b[0m             \u001b[0;32mif\u001b[0m \u001b[0mresult\u001b[0m \u001b[0;32mis\u001b[0m \u001b[0;32mnot\u001b[0m \u001b[0;32mNone\u001b[0m\u001b[0;34m:\u001b[0m\u001b[0;34m\u001b[0m\u001b[0;34m\u001b[0m\u001b[0m\n\u001b[1;32m    498\u001b[0m                 \u001b[0;32mreturn\u001b[0m \u001b[0mresult\u001b[0m\u001b[0;34m\u001b[0m\u001b[0;34m\u001b[0m\u001b[0m\n",
            "\u001b[0;32m/usr/lib/python3.10/urllib/request.py\u001b[0m in \u001b[0;36mhttp_error_default\u001b[0;34m(self, req, fp, code, msg, hdrs)\u001b[0m\n\u001b[1;32m    641\u001b[0m \u001b[0;32mclass\u001b[0m \u001b[0mHTTPDefaultErrorHandler\u001b[0m\u001b[0;34m(\u001b[0m\u001b[0mBaseHandler\u001b[0m\u001b[0;34m)\u001b[0m\u001b[0;34m:\u001b[0m\u001b[0;34m\u001b[0m\u001b[0;34m\u001b[0m\u001b[0m\n\u001b[1;32m    642\u001b[0m     \u001b[0;32mdef\u001b[0m \u001b[0mhttp_error_default\u001b[0m\u001b[0;34m(\u001b[0m\u001b[0mself\u001b[0m\u001b[0;34m,\u001b[0m \u001b[0mreq\u001b[0m\u001b[0;34m,\u001b[0m \u001b[0mfp\u001b[0m\u001b[0;34m,\u001b[0m \u001b[0mcode\u001b[0m\u001b[0;34m,\u001b[0m \u001b[0mmsg\u001b[0m\u001b[0;34m,\u001b[0m \u001b[0mhdrs\u001b[0m\u001b[0;34m)\u001b[0m\u001b[0;34m:\u001b[0m\u001b[0;34m\u001b[0m\u001b[0;34m\u001b[0m\u001b[0m\n\u001b[0;32m--> 643\u001b[0;31m         \u001b[0;32mraise\u001b[0m \u001b[0mHTTPError\u001b[0m\u001b[0;34m(\u001b[0m\u001b[0mreq\u001b[0m\u001b[0;34m.\u001b[0m\u001b[0mfull_url\u001b[0m\u001b[0;34m,\u001b[0m \u001b[0mcode\u001b[0m\u001b[0;34m,\u001b[0m \u001b[0mmsg\u001b[0m\u001b[0;34m,\u001b[0m \u001b[0mhdrs\u001b[0m\u001b[0;34m,\u001b[0m \u001b[0mfp\u001b[0m\u001b[0;34m)\u001b[0m\u001b[0;34m\u001b[0m\u001b[0;34m\u001b[0m\u001b[0m\n\u001b[0m\u001b[1;32m    644\u001b[0m \u001b[0;34m\u001b[0m\u001b[0m\n\u001b[1;32m    645\u001b[0m \u001b[0;32mclass\u001b[0m \u001b[0mHTTPRedirectHandler\u001b[0m\u001b[0;34m(\u001b[0m\u001b[0mBaseHandler\u001b[0m\u001b[0;34m)\u001b[0m\u001b[0;34m:\u001b[0m\u001b[0;34m\u001b[0m\u001b[0;34m\u001b[0m\u001b[0m\n",
            "\u001b[0;31mHTTPError\u001b[0m: HTTP Error 403: Forbidden"
          ]
        }
      ]
    },
    {
      "cell_type": "code",
      "source": [
        "import urllib\n",
        "\n",
        "link = \"https://www.uvek-gis.admin.ch/BFE/ogd/staging/\"\n",
        "f = urllib.urlopen(link)\n",
        "myfile = f.read()\n",
        "print(myfile)"
      ],
      "metadata": {
        "colab": {
          "base_uri": "https://localhost:8080/",
          "height": 236
        },
        "id": "-sbRRAt9C3rg",
        "outputId": "3fbf28c0-dc53-4f5e-f5a7-d61f89bed208"
      },
      "id": "-sbRRAt9C3rg",
      "execution_count": 39,
      "outputs": [
        {
          "output_type": "error",
          "ename": "AttributeError",
          "evalue": "ignored",
          "traceback": [
            "\u001b[0;31m---------------------------------------------------------------------------\u001b[0m",
            "\u001b[0;31mAttributeError\u001b[0m                            Traceback (most recent call last)",
            "\u001b[0;32m<ipython-input-39-efc98b229fd0>\u001b[0m in \u001b[0;36m<cell line: 4>\u001b[0;34m()\u001b[0m\n\u001b[1;32m      2\u001b[0m \u001b[0;34m\u001b[0m\u001b[0m\n\u001b[1;32m      3\u001b[0m \u001b[0mlink\u001b[0m \u001b[0;34m=\u001b[0m \u001b[0;34m\"https://www.uvek-gis.admin.ch/BFE/ogd/staging/\"\u001b[0m\u001b[0;34m\u001b[0m\u001b[0;34m\u001b[0m\u001b[0m\n\u001b[0;32m----> 4\u001b[0;31m \u001b[0mf\u001b[0m \u001b[0;34m=\u001b[0m \u001b[0murllib\u001b[0m\u001b[0;34m.\u001b[0m\u001b[0murlopen\u001b[0m\u001b[0;34m(\u001b[0m\u001b[0mlink\u001b[0m\u001b[0;34m)\u001b[0m\u001b[0;34m\u001b[0m\u001b[0;34m\u001b[0m\u001b[0m\n\u001b[0m\u001b[1;32m      5\u001b[0m \u001b[0mmyfile\u001b[0m \u001b[0;34m=\u001b[0m \u001b[0mf\u001b[0m\u001b[0;34m.\u001b[0m\u001b[0mread\u001b[0m\u001b[0;34m(\u001b[0m\u001b[0;34m)\u001b[0m\u001b[0;34m\u001b[0m\u001b[0;34m\u001b[0m\u001b[0m\n\u001b[1;32m      6\u001b[0m \u001b[0mprint\u001b[0m\u001b[0;34m(\u001b[0m\u001b[0mmyfile\u001b[0m\u001b[0;34m)\u001b[0m\u001b[0;34m\u001b[0m\u001b[0;34m\u001b[0m\u001b[0m\n",
            "\u001b[0;31mAttributeError\u001b[0m: module 'urllib' has no attribute 'urlopen'"
          ]
        }
      ]
    },
    {
      "cell_type": "code",
      "source": [
        "checkLink('https://www.uvek-gis.admin.ch/BFE/ogd/staging/')"
      ],
      "metadata": {
        "colab": {
          "base_uri": "https://localhost:8080/"
        },
        "id": "NDqEDXFHCSTx",
        "outputId": "c320544c-c47a-4aea-9534-7beedad6ef21"
      },
      "id": "NDqEDXFHCSTx",
      "execution_count": 38,
      "outputs": [
        {
          "output_type": "stream",
          "name": "stdout",
          "text": [
            "HTTP error HTTP Error 403: Forbidden\n",
            "https://www.uvek-gis.admin.ch/BFE/ogd/staging/\n",
            "\n"
          ]
        },
        {
          "output_type": "execute_result",
          "data": {
            "text/plain": [
              "False"
            ]
          },
          "metadata": {},
          "execution_count": 38
        }
      ]
    },
    {
      "cell_type": "code",
      "source": [
        "import glob\n",
        "\n",
        "# search all files inside a specific folder\n",
        "# *.* means file name with any extension\n",
        "dir_path = 'https://www.uvek-gis.admin.ch/BFE/ogd/staging/'\n",
        "res = glob.glob(dir_path)\n",
        "print(res)"
      ],
      "metadata": {
        "colab": {
          "base_uri": "https://localhost:8080/"
        },
        "id": "yzw900oF3DxQ",
        "outputId": "d339286d-00d7-4e82-9d1e-99bd50bd7591"
      },
      "id": "yzw900oF3DxQ",
      "execution_count": 31,
      "outputs": [
        {
          "output_type": "stream",
          "name": "stdout",
          "text": [
            "[]\n"
          ]
        }
      ]
    },
    {
      "cell_type": "code",
      "source": [
        "page = requests.get(url).text\n",
        "page"
      ],
      "metadata": {
        "colab": {
          "base_uri": "https://localhost:8080/",
          "height": 87
        },
        "id": "jR67ANr9iWX7",
        "outputId": "33df92ea-a660-4aa1-9e7a-86fa7e5d91f9"
      },
      "id": "jR67ANr9iWX7",
      "execution_count": 17,
      "outputs": [
        {
          "output_type": "execute_result",
          "data": {
            "text/plain": [
              "'<!DOCTYPE html>\\n<html lang=\"en\">\\n<head>\\n  <meta charset=\"utf-8\">\\n  <meta http-equiv=\"x-ua-compatible\" content=\"ie=edge\">\\n  <meta name=\"viewport\" content=\"width=device-width, initial-scale=1, shrink-to-fit=no\">\\n  <title>403 Forbidden</title>\\n  <link rel=\"stylesheet\" href=\"/error_docs/styles.css\">\\n</head>\\n<body>\\n<div class=\"page\">\\n  <div class=\"main\">\\n    <h1>Server Error</h1>\\n    <div class=\"error-code\">403</div>\\n    <h2>Forbidden</h2>\\n    <p class=\"lead\">You do not have permission to access this document.</p>\\n    <hr/>\\n    <p>That\\'s what you can do</p>\\n    <div class=\"help-actions\">\\n      <a href=\"javascript:location.reload();\">Reload Page</a>\\n      <a href=\"javascript:history.back();\">Back to Previous Page</a>\\n      <a href=\"/\">Home Page</a>\\n    </div>\\n  </div>\\n</div>\\n</body>\\n</html>'"
            ],
            "application/vnd.google.colaboratory.intrinsic+json": {
              "type": "string"
            }
          },
          "metadata": {},
          "execution_count": 17
        }
      ]
    },
    {
      "cell_type": "code",
      "source": [
        "page = requests.get('https://www.uvek-gis.admin.ch/BFE/ogd/staging/data-models-bev_LNF.csv').text\n",
        "page"
      ],
      "metadata": {
        "colab": {
          "base_uri": "https://localhost:8080/",
          "height": 105
        },
        "id": "lue-Xl51i0OD",
        "outputId": "0e7ae2f2-849b-4ac2-e370-1bf0e71731ad"
      },
      "id": "lue-Xl51i0OD",
      "execution_count": 26,
      "outputs": [
        {
          "output_type": "execute_result",
          "data": {
            "text/plain": [
              "'year,quarter,month,rank0model,rank0count,rank1model,rank1count,rank2model,rank2count,rank3model,rank3count,rank4model,rank4count,rank5model,rank5count,rank6model,rank6count,rank7model,rank7count,rank8model,rank8count,rank9model,rank9count,rank10model,rank10count\\r\\n2020,1,,NISSAN E-NV200,42,RENAULT KANGOO,37,GOUPIL G4,9,MAN EVITO,5,MERCEDES ETGE,5,STREETSCOOTER WORK,4,MAXUS EV80,3,CITROEN BERLINGO,2,PEUGEOT PARTNER,1,RENAULT MASTER,1,ANDERE,3\\r\\n2020,2,,RENAULT KANGOO,66,NISSAN E-NV200,45,MAXUS EV80,8,MERCEDES EVITO,4,GOUPIL G4,3,OPEL BERLINGO,2,GOUPIL G4L,2,RENAULT MASTER,2,ALKE ATX,2, ,0,ANDERE,3\\r\\n2020,3,,RENAULT KANGOO,38,NISSAN E-NV200,37,RENAULT MASTER,11,GOUPIL G4,10,MERCEDES EVITO,7,MAXUS EV80,6,MERCEDES ESPRINTER,4,ALKE ATX,3,VW E-CRAFTER,2,GOUPIL G5E,2,ANDERE,0\\r\\n2020,4,,RENAULT KANGOO,170,TOYOTA PROACE,57,NISSAN E-NV200,42,OPEL VIVARO-E,25,MAXUS EV30,16,RENAULT MASTER,13,PEUGEOT E-EXPERT,11,MAXUS G4,9,MERCEDES ESPRINTER,8,CITROEN E-JUMPY,7,ANDERE,34\\r\\n2020,5,,RENAULT KANGOO,310,NISSAN E-NV200,165,TOYOTA PROACE,56,GOUPIL G4,30,RENAULT MASTER,27,OPEL VIVARO-E,25,MAXUS EV80,20,MERCEDES EVITO,19,MAXUS EV30,15,MERCEDES ESPRINTER,12,ANDERE,75\\r\\n2021,,1,CITROEN E-JUMPY,23,RENAULT KANGOO,22,NISSAN E-NV200,16,PEUGEOT E-EXPERT,11,TOYOTA PROACE,6,MERCEDES EVITO,4,GOUPIL G4,3,MAXUS EV80,3,ELION ,2,OPEL VIVARO-E,2,ANDERE,6\\r\\n2021,,2,RENAULT KANGOO,18,NISSAN E-NV200,11,CITROEN E-JUMPY,6,PEUGEOT E-EXPERT,4,GOUPIL G4,4,VW T6,4,TOYOTA PROACE,3,OPEL VIVARO-E,3,MAN ETGE,2,MERCEDES EVITO,2,ANDERE,4\\r\\n2021,,3,NISSAN E-NV200,19,MERCEDES ESPRINTER,16,RENAULT KANGOO,14,OPEL VIVARO-E,11,CITROEN E-JUMPY,9,RENAULT MASTER,7,PEUGEOT E-EXPERT,6,TOYOTA PROACE,4,MAXUS G4L,3,GOUPIL EV30,3,ANDERE,6\\r\\n2021,,4,RENAULT KANGOO,18,TOYOTA PROACE,10,NISSAN E-NV200,10,RENAULT MASTER,9,PEUGEOT E-EXPERT,6,MAXUS EV30,6,OPEL VIVARO-E,4,VW T6,3,MERCEDES ESPRINTER,3,GOUPIL G4L,2,ANDERE,8\\r\\n2021,,5,RENAULT KANGOO,19,OPEL VIVARO-E,14,TOYOTA PROACE,11,RENAULT MASTER,11,CITROEN E-JUMPY,8,NISSAN E-NV200,8,GOUPIL G4,8, ADDAX,6,MERCEDES ESPRINTER,5,VW T6,3,ANDERE,15\\r\\n2021,,6,RENAULT KANGOO,32,NISSAN E-NV200,22,PEUGEOT E-EXPERT,20,TOYOTA PROACE,12,MERCEDES ESPRINTER,11,OPEL VIVARO-E,5, ADDAX,5, MAXUS,3,VW T6,2,ALKE ATX,2,ANDERE,15\\r\\n2021,,7,RENAULT KANGOO,36,FIAT EDUCATO,17,NISSAN E-NV200,12,TOYOTA PROACE,9, ADDAX,6, MAXUS,5,MERCEDES ESPRINTER,4,OPEL VIVARO-E,4,GOUPIL G4,4,PEUGEOT E-EXPERT,3,ANDERE,12\\r\\n2021,,8,RENAULT KANGOO,16,PEUGEOT E-EXPERT,16,VW E-CRAFTER,15,FIAT EDUCATO,8,OPEL VIVARO-E,5,CITROEN E-JUMPY,5,MERCEDES EVITO,4,TOYOTA PROACE,3,NISSAN E-NV200,3,GOUPIL G4,3,ANDERE,7\\r\\n2021,,9,RENAULT KANGOO,20,PEUGEOT E-EXPERT,17,CITROEN E-JUMPY,10,NISSAN E-NV200,8,TOYOTA PROACE,6,OPEL VIVARO-E,5,MAXUS EV80,5,PIAGGIO PORTER,4,FIAT EDUCATO,4,VW E-CRAFTER,4,ANDERE,9\\r\\n2021,,10,FIAT EDUCATO,28,PEUGEOT E-EXPERT,16,RENAULT KANGOO,16,CITROEN E-JUMPY,9,OPEL VIVARO-E,7,TOYOTA PROACE,6,VW T6,5,RENAULT MASTER,4,NISSAN E-NV200,2,VW E-CRAFTER,2,ANDERE,10\\r\\n2021,,11,RENAULT KANGOO,28,CITROEN E-BERLINGO,26,FIAT EDUCATO,18,PEUGEOT E-EXPERT,17,CITROEN E-JUMPY,13,TOYOTA PROACE,11,OPEL COMBO,9,OPEL VIVARO-E,7, MAXUS,4,GOUPIL G4,3,ANDERE,8\\r\\n2021,,12,RENAULT KANGOO,76,NISSAN E-NV200,26,TOYOTA PROACE,23,FIAT EDUCATO,22,VW E-CRAFTER,15,PEUGEOT E-EXPERT,12,OPEL VIVARO-E,11,CITROEN E-JUMPY,11,CITROEN E-BERLINGO,8,PEUGEOT E-PARTNER,5,ANDERE,27\\r\\n2021,,13,RENAULT KANGOO,315,NISSAN E-NV200,139,PEUGEOT E-EXPERT,131,TOYOTA PROACE,104,CITROEN E-JUMPY,100,FIAT EDUCATO,98,OPEL VIVARO-E,79,MERCEDES ESPRINTER,50,VW E-CRAFTER,44,RENAULT MASTER,41,ANDERE,248\\r\\n2022,,1,PEUGEOT E-PARTNER,23,RENAULT KANGOO,22,TOYOTA PROACE,18,PEUGEOT E-EXPERT,17,CITROEN E-JUMPY,14,MERCEDES ESPRINTER,11,OPEL VIVARO-E,9,MAN ETGE,6,MERCEDES EVITO,5,NISSAN E-NV200,4,ANDERE,12\\r\\n2022,,2,TOYOTA PROACE,17,NISSAN E-EXPERT,12,PEUGEOT VIVARO-E,12,OPEL E-NV200,11,CITROEN E-PARTNER,9,PEUGEOT E-JUMPY,8,RENAULT E-BERLINGO,7,GOUPIL KANGOO,5,CITROEN G4,5,ACAR EVITO,3,ANDERE,14\\r\\n2022,,3,CITROEN E-BERLINGO,28,PEUGEOT E-PARTNER,16,TOYOTA PROACE,16,PEUGEOT E-EXPERT,15,OPEL VIVARO-E,15,RENAULT KANGOO,14,NISSAN E-NV200,7,MAN ETGE,7,VW T6,5,SAIC MAXUS,4,ANDERE,22\\r\\n2022,,4,RENAULT KANGOO,21,TOYOTA PROACE,14,PEUGEOT E-EXPERT,14,FIAT E-SCUDO,13,PEUGEOT E-PARTNER,7,VW T6,5,NISSAN E-NV200,4,CITROEN E-BERLINGO,4, VIVARO-E,2,CITROEN E-JUMPY,2,ANDERE,18\\r\\n2022,,5,TOYOTA PROACE,25,NISSAN KANGOO,13,RENAULT E-NV200,13,FIAT E-SCUDO,10,FIAT EDUCATO,9,MAN ETGE,8,CITROEN E-BERLINGO,7,MERCEDES E-PARTNER,5,PEUGEOT EVITO,5,PEUGEOT E-EXPERT,4,ANDERE,21\\r\\n2022,,6,MERCEDES-BENZ PROACE,29,TOYOTA EVITO,29,RENAULT KANGOO,15,PEUGEOT E-PARTNER,10,OPEL VIVARO-E,10,MAN E-NV200,5,NISSAN ETGE,5,CITROEN E-BERLINGO,5,CITROEN E-EXPERT,4,GOUPIL E-CRAFTER,4,ANDERE,24\\r\\n2022,,7,MERCEDES-BENZ EVITO,51,RENAULT KANGOO,23,FORD E-TRANSIT,16,TOYOTA PROACE,15,OPEL VIVARO-E,12,CITROEN E-JUMPY,6,PEUGEOT E-EXPERT,6,VW E-CRAFTER,4,GROUPIL G4,4,FIAT EDUCATO,3,ANDERE,17\\r\\n2022,,8,FORD E-TRANSIT,20,RENAULT KANGOO,18,TOYOTA PROACE,18,FIAT EDUCATO,18,PEUGEOT E-EXPERT,17,CITROEN E-JUMPY,15,MERCEDES-BENZ EVITO,10,MAXUS MAXUS,8,CITROEN E-BERLINGO,8,VW E-CRAFTER,6,ANDERE,39\\r\\n2022,,9,OPEL VIVARO-E,29,MERCEDES-BENZ EVITO,24,CITROEN E-BERLINGO,23,PEUGEOT E-EXPERT,23,TOYOTA PROACE,21,RENAULT KANGOO,19,OPEL  COMBO-E,9,FIAT E-SCUDO,8,CITROEN E-JUMPY,7,PEUGEOT E-PARTNER,6,ANDERE,37\\r\\n2022,,10,TOYOTA PROACE,23,RENAULT KANGOO,23,CITROEN E-BERLINGO,19,CITROEN E-JUMPY,14,OPEL ID.,10,VW VIVARO-E,10,PEUGEOT E-PARTNER,10,PEUGEOT E-TRANSIT,6,MERCEDES-BENZ E-EXPERT,5,GROUPIL EVITO,5,ANDERE,20\\r\\n2022,,11,VW ID.,97,RENAULT MASTER,36,FORD E-TRANSIT,23,TOYOTA PROACE,22,PEUGEOT E-EXPERT,19,OPEL VIVARO-E,19,RENAULT KANGOO,19,CITROEN E-JUMPY,19,PEUGEOT E-PARTNER,17,FIAT E-DOBLO,15,ANDERE,51\\r\\n2022,,12,RENAULT MASTER,174,FORD E-TRANSIT,173,RENAULT KANGOO,40,IVECO eDaily,39,OPEL VIVARO-E,24,PEUGEOT E-EXPERT,21,OPEL COMBO-E,20,VW ID. BUZZ,19,FIAT E-DOBLO,17,TOYOTA PROACE,16,ANDERE,92\\r\\n2022,,13,FORD E-TRANSIT,250,RENAULT MASTER,240,TOYOTA PROACE,234,RENAULT KANGOO,233,PEUGEOT E-EXPERT,157,OPEL VIVARO-E,148,MERCEDES-BENZ EVITO,146,VW ID. BUZZ,127,CITROEN E-BERLINGO,114,PEUGEOT E-PARTNER,113,ANDERE,677\\r\\n2023,,1,TOYOTA PROACE,21,PEUGEOT E-EXPERT,20,CITROEN E-BERLINGO,20,NISSAN TOWNSTAR,16,VW ID. BUZZ,16,PEUGEOT E-PARTNER,15,OPEL COMBO,15,CITROEN E-JUMPY,14,RENAULT MASTER,11,FIAT E-SCUDO,10,ANDERE,47\\r\\n2023,,2,TOYOTA PROACE,29,OPEL VIVARO-E,24,FORD E-TRANSIT,23,RENAULT MASTER,19,VW ID. BUZZ,18,OPEL COMBO,18,MERCEDES-BENZ EVITO,13,PEUGEOT E-EXPERT,11,CITROEN E-BERLINGO,10,PEUGEOT E-PARTNER,8,ANDERE,41\\r\\n2023,,3,TOYOTA PROACE,44,PEUGEOT E-PARTNER,42,MERCEDES-BENZ EVITO,37,VW ID. BUZZ,31,PEUGEOT E-EXPERT,28,RENAULT KANGOO,26,FIAT E-DOBLO,24,OPEL COMBO,24,OPEL VIVARO-E,23,FORD E-TRANSIT,20,ANDERE,86\\r\\n2023,,4,TOYOTA PROACE,31,FIAT E-SCUDO,24,OPEL VIVARO-E,23,CITROEN E-BERLINGO,19,OPEL COMBO,14,FORD E-TRANSIT,14,VW ID. BUZZ,12,MERCEDES-BENZ EVITO,12,RENAULT KANGOO,9,GROUPIL G4,8,ANDERE,44\\r\\n2023,,13,TOYOTA PROACE,127,OPEL VIVARO-E,80,VW ID. BUZZ,77,OPEL COMBO,71,MERCEDES-BENZ EVITO,70,PEUGEOT E-EXPERT,68,PEUGEOT E-PARTNER,67,FORD E-TRANSIT,64,CITROEN E-BERLINGO,62,RENAULT KANGOO,46,ANDERE,289\\r\\n'"
            ],
            "application/vnd.google.colaboratory.intrinsic+json": {
              "type": "string"
            }
          },
          "metadata": {},
          "execution_count": 26
        }
      ]
    },
    {
      "cell_type": "code",
      "source": [],
      "metadata": {
        "id": "zAz1Rlzhy2_h"
      },
      "id": "zAz1Rlzhy2_h",
      "execution_count": null,
      "outputs": []
    }
  ],
  "metadata": {
    "kernelspec": {
      "display_name": "Python 3 (ipykernel)",
      "language": "python",
      "name": "python3"
    },
    "language_info": {
      "codemirror_mode": {
        "name": "ipython",
        "version": 3
      },
      "file_extension": ".py",
      "mimetype": "text/x-python",
      "name": "python",
      "nbconvert_exporter": "python",
      "pygments_lexer": "ipython3",
      "version": "3.8.10"
    },
    "colab": {
      "provenance": []
    }
  },
  "nbformat": 4,
  "nbformat_minor": 5
}